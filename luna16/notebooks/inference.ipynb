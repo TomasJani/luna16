{
 "cells": [
  {
   "cell_type": "markdown",
   "metadata": {},
   "source": [
    "# Prepare Trained Model for Inference\n",
    "\n",
    "\n"
   ]
  },
  {
   "cell_type": "code",
   "execution_count": null,
   "metadata": {},
   "outputs": [],
   "source": [
    "import matplotlib.pyplot as plt\n",
    "import numpy as np\n",
    "import onnxruntime\n",
    "import torch\n",
    "from sklearn.metrics import (\n",
    "    PrecisionRecallDisplay,\n",
    "    RocCurveDisplay,\n",
    "    average_precision_score,\n",
    "    f1_score,\n",
    "    precision_recall_curve,\n",
    "    roc_auc_score,\n",
    "    roc_curve,\n",
    ")\n",
    "\n",
    "from luna16 import augmentations, datasets, dto, modules, settings\n",
    "from luna16.notebooks import visualizations\n",
    "from luna16.services import ModelSaver\n",
    "\n",
    "%matplotlib inline"
   ]
  },
  {
   "cell_type": "markdown",
   "metadata": {},
   "source": [
    "## Load the Trained Model\n"
   ]
  },
  {
   "cell_type": "code",
   "execution_count": 2,
   "metadata": {},
   "outputs": [
    {
     "data": {
      "text/plain": [
       "CnnModel(\n",
       "  (tail_batchnorm): BatchNorm3d(1, eps=1e-05, momentum=0.1, affine=True, track_running_stats=True)\n",
       "  (luna_blocks): ModuleList(\n",
       "    (0): DropoutBlock(\n",
       "      (conv1): Conv3d(1, 8, kernel_size=(3, 3, 3), stride=(1, 1, 1), padding=(1, 1, 1), bias=False)\n",
       "      (bn1): BatchNorm3d(8, eps=1e-05, momentum=0.1, affine=True, track_running_stats=True)\n",
       "      (relu1): ReLU(inplace=True)\n",
       "      (dropout1): Dropout(p=0.4, inplace=False)\n",
       "      (conv2): Conv3d(8, 8, kernel_size=(3, 3, 3), stride=(1, 1, 1), padding=(1, 1, 1), bias=False)\n",
       "      (bn2): BatchNorm3d(8, eps=1e-05, momentum=0.1, affine=True, track_running_stats=True)\n",
       "      (relu2): ReLU(inplace=True)\n",
       "      (dropout2): Dropout(p=0.4, inplace=False)\n",
       "      (maxpool): MaxPool3d(kernel_size=2, stride=2, padding=0, dilation=1, ceil_mode=False)\n",
       "    )\n",
       "    (1): DropoutBlock(\n",
       "      (conv1): Conv3d(8, 16, kernel_size=(3, 3, 3), stride=(1, 1, 1), padding=(1, 1, 1), bias=False)\n",
       "      (bn1): BatchNorm3d(16, eps=1e-05, momentum=0.1, affine=True, track_running_stats=True)\n",
       "      (relu1): ReLU(inplace=True)\n",
       "      (dropout1): Dropout(p=0.4, inplace=False)\n",
       "      (conv2): Conv3d(16, 16, kernel_size=(3, 3, 3), stride=(1, 1, 1), padding=(1, 1, 1), bias=False)\n",
       "      (bn2): BatchNorm3d(16, eps=1e-05, momentum=0.1, affine=True, track_running_stats=True)\n",
       "      (relu2): ReLU(inplace=True)\n",
       "      (dropout2): Dropout(p=0.4, inplace=False)\n",
       "      (maxpool): MaxPool3d(kernel_size=2, stride=2, padding=0, dilation=1, ceil_mode=False)\n",
       "    )\n",
       "    (2): DropoutBlock(\n",
       "      (conv1): Conv3d(16, 32, kernel_size=(3, 3, 3), stride=(1, 1, 1), padding=(1, 1, 1), bias=False)\n",
       "      (bn1): BatchNorm3d(32, eps=1e-05, momentum=0.1, affine=True, track_running_stats=True)\n",
       "      (relu1): ReLU(inplace=True)\n",
       "      (dropout1): Dropout(p=0.4, inplace=False)\n",
       "      (conv2): Conv3d(32, 32, kernel_size=(3, 3, 3), stride=(1, 1, 1), padding=(1, 1, 1), bias=False)\n",
       "      (bn2): BatchNorm3d(32, eps=1e-05, momentum=0.1, affine=True, track_running_stats=True)\n",
       "      (relu2): ReLU(inplace=True)\n",
       "      (dropout2): Dropout(p=0.4, inplace=False)\n",
       "      (maxpool): MaxPool3d(kernel_size=2, stride=2, padding=0, dilation=1, ceil_mode=False)\n",
       "    )\n",
       "    (3): DropoutBlock(\n",
       "      (conv1): Conv3d(32, 64, kernel_size=(3, 3, 3), stride=(1, 1, 1), padding=(1, 1, 1), bias=False)\n",
       "      (bn1): BatchNorm3d(64, eps=1e-05, momentum=0.1, affine=True, track_running_stats=True)\n",
       "      (relu1): ReLU(inplace=True)\n",
       "      (dropout1): Dropout(p=0.4, inplace=False)\n",
       "      (conv2): Conv3d(64, 64, kernel_size=(3, 3, 3), stride=(1, 1, 1), padding=(1, 1, 1), bias=False)\n",
       "      (bn2): BatchNorm3d(64, eps=1e-05, momentum=0.1, affine=True, track_running_stats=True)\n",
       "      (relu2): ReLU(inplace=True)\n",
       "      (dropout2): Dropout(p=0.4, inplace=False)\n",
       "      (maxpool): MaxPool3d(kernel_size=2, stride=2, padding=0, dilation=1, ceil_mode=False)\n",
       "    )\n",
       "  )\n",
       "  (luna_head): CnnHead(\n",
       "    (head_linear): Linear(in_features=1152, out_features=2, bias=True)\n",
       "    (head_softmax): Softmax(dim=1)\n",
       "  )\n",
       ")"
      ]
     },
     "execution_count": 2,
     "metadata": {},
     "output_type": "execute_result"
    }
   ],
   "source": [
    "model_saver = ModelSaver()\n",
    "model_name = \"DropoutModel\"\n",
    "module_params = modules.DropoutParameters(\n",
    "    name=model_name,\n",
    "    in_channels=1,\n",
    "    conv_channels=8,\n",
    "    out_features=2,\n",
    "    n_blocks=4,\n",
    "    input_dim=(32, 48, 48),\n",
    "    dropout_rate=0.4,\n",
    "    block_class=modules.DropoutBlock,\n",
    ")\n",
    "module_class = modules.CnnModel\n",
    "model_type = \"Classification\"\n",
    "model_version = \"1.0.0\"\n",
    "module = model_saver.load_model(\n",
    "    name=model_type,\n",
    "    module_class=module_class,\n",
    "    version=model_version,\n",
    "    module_params=module_params,\n",
    ")\n",
    "module"
   ]
  },
  {
   "cell_type": "markdown",
   "metadata": {},
   "source": [
    "## Try on a Sample Image\n"
   ]
  },
  {
   "cell_type": "code",
   "execution_count": 3,
   "metadata": {},
   "outputs": [
    {
     "data": {
      "text/html": [
       "<pre style=\"white-space:pre;overflow-x:auto;line-height:normal;font-family:Menlo,'DejaVu Sans Mono',consolas,'Courier New',monospace\"><span style=\"color: #7fbfbf; text-decoration-color: #7fbfbf\">[02/22/25 19:00:40] </span><span style=\"color: #000080; text-decoration-color: #000080\">INFO    </span> <span style=\"color: #800080; text-decoration-color: #800080; font-weight: bold\">CutoutsDataset</span><span style=\"font-weight: bold\">(</span><span style=\"color: #808000; text-decoration-color: #808000\">len</span>=<span style=\"color: #008080; text-decoration-color: #008080; font-weight: bold\">47499</span>, <span style=\"color: #808000; text-decoration-color: #808000\">positive_len</span>=<span style=\"color: #008080; text-decoration-color: #008080; font-weight: bold\">77</span>, <span style=\"color: #808000; text-decoration-color: #808000\">negative_len</span>=<span style=\"color: #008080; text-decoration-color: #008080; font-weight: bold\">47422</span>,    <a href=\"file:///Users/macbook/Projects/luna16/luna16/datasets/nodule_cutouts.py\" target=\"_blank\"><span style=\"color: #7f7f7f; text-decoration-color: #7f7f7f\">nodule_cutouts.py</span></a><span style=\"color: #7f7f7f; text-decoration-color: #7f7f7f\">:</span><a href=\"file:///Users/macbook/Projects/luna16/luna16/datasets/nodule_cutouts.py#95\" target=\"_blank\"><span style=\"color: #7f7f7f; text-decoration-color: #7f7f7f\">95</span></a>\n",
       "<span style=\"color: #7fbfbf; text-decoration-color: #7fbfbf\">                    </span>         <span style=\"color: #808000; text-decoration-color: #808000\">train</span>=<span style=\"color: #00ff00; text-decoration-color: #00ff00; font-style: italic\">True</span>, <span style=\"color: #808000; text-decoration-color: #808000\">validation_stride</span>=<span style=\"color: #008080; text-decoration-color: #008080; font-weight: bold\">20</span><span style=\"font-weight: bold\">)</span>                                 <span style=\"color: #7f7f7f; text-decoration-color: #7f7f7f\">                    </span>\n",
       "</pre>\n"
      ],
      "text/plain": [
       "\u001b[2;36m[02/22/25 19:00:40]\u001b[0m\u001b[2;36m \u001b[0m\u001b[34mINFO    \u001b[0m \u001b[1;35mCutoutsDataset\u001b[0m\u001b[1m(\u001b[0m\u001b[33mlen\u001b[0m=\u001b[1;36m47499\u001b[0m, \u001b[33mpositive_len\u001b[0m=\u001b[1;36m77\u001b[0m, \u001b[33mnegative_len\u001b[0m=\u001b[1;36m47422\u001b[0m,    \u001b]8;id=270167;file:///Users/macbook/Projects/luna16/luna16/datasets/nodule_cutouts.py\u001b\\\u001b[2mnodule_cutouts.py\u001b[0m\u001b]8;;\u001b\\\u001b[2m:\u001b[0m\u001b]8;id=12500;file:///Users/macbook/Projects/luna16/luna16/datasets/nodule_cutouts.py#95\u001b\\\u001b[2m95\u001b[0m\u001b]8;;\u001b\\\n",
       "\u001b[2;36m                    \u001b[0m         \u001b[33mtrain\u001b[0m=\u001b[3;92mTrue\u001b[0m, \u001b[33mvalidation_stride\u001b[0m=\u001b[1;36m20\u001b[0m\u001b[1m)\u001b[0m                                 \u001b[2m                    \u001b[0m\n"
      ]
     },
     "metadata": {},
     "output_type": "display_data"
    }
   ],
   "source": [
    "ratio = dto.NoduleRatio(positive=1, negative=1)\n",
    "transformations: list[augmentations.Transformation] = [\n",
    "    augmentations.Flip(),\n",
    "    augmentations.Offset(offset=0.1),\n",
    "    augmentations.Scale(scale=0.2),\n",
    "    augmentations.Rotate(),\n",
    "]\n",
    "filters: list[augmentations.Filter] = [\n",
    "    augmentations.Noise(noise=25.0),\n",
    "]\n",
    "dataset = datasets.CutoutsDataset(\n",
    "    ratio=ratio,\n",
    "    validation_stride=20,\n",
    "    transformations=transformations,\n",
    "    filters=filters,\n",
    ")"
   ]
  },
  {
   "cell_type": "code",
   "execution_count": 4,
   "metadata": {},
   "outputs": [
    {
     "data": {
      "text/plain": [
       "(torch.Size([1, 32, 48, 48]), tensor(-999.9697), tensor(287.9218))"
      ]
     },
     "execution_count": 4,
     "metadata": {},
     "output_type": "execute_result"
    }
   ],
   "source": [
    "positive_cutout = dataset[0]\n",
    "negative_cutout = dataset[1]\n",
    "(\n",
    "    positive_cutout.candidate.shape,\n",
    "    negative_cutout.candidate.min(),\n",
    "    negative_cutout.candidate.max(),\n",
    ")"
   ]
  },
  {
   "cell_type": "code",
   "execution_count": 5,
   "metadata": {},
   "outputs": [
    {
     "data": {
      "image/png": "[encoded data removed]",
      "text/plain": [
       "<Figure size 1500x800 with 3 Axes>"
      ]
     },
     "metadata": {},
     "output_type": "display_data"
    }
   ],
   "source": [
    "visualizations.plot_cutout(\n",
    "    positive_cutout.center_irc, positive_cutout.candidate[0].numpy()\n",
    ")"
   ]
  },
  {
   "cell_type": "code",
   "execution_count": 6,
   "metadata": {},
   "outputs": [
    {
     "data": {
      "image/png": "[encoded data removed]",
      "text/plain": [
       "<Figure size 1500x800 with 3 Axes>"
      ]
     },
     "metadata": {},
     "output_type": "display_data"
    }
   ],
   "source": [
    "visualizations.plot_cutout(\n",
    "    negative_cutout.center_irc, negative_cutout.candidate[0].numpy()\n",
    ")"
   ]
  },
  {
   "cell_type": "markdown",
   "metadata": {},
   "source": [
    "## Export the Model for Inference"
   ]
  },
  {
   "cell_type": "code",
   "execution_count": 7,
   "metadata": {},
   "outputs": [],
   "source": [
    "args = (torch.unsqueeze(positive_cutout.candidate, 0),)\n",
    "compiled_models = settings.MODELS_DIR / \"compiled\"\n",
    "compiled_models.mkdir(exist_ok=True)\n",
    "\n",
    "compiled_model_name = f\"{model_type}-{model_name}-{model_version}.onnx\"\n",
    "compiled_model_path = compiled_models / compiled_model_name\n",
    "torch.onnx.export(\n",
    "    module,\n",
    "    args,\n",
    "    compiled_model_path,\n",
    "    input_names=[\"input\"],\n",
    "    output_names=[\"logits\", \"probabilities\"],\n",
    ")"
   ]
  },
  {
   "cell_type": "markdown",
   "metadata": {},
   "source": [
    "## Run Model with ONNX Runtime"
   ]
  },
  {
   "cell_type": "code",
   "execution_count": 8,
   "metadata": {},
   "outputs": [
    {
     "data": {
      "text/plain": [
       "<onnxruntime.capi.onnxruntime_inference_collection.InferenceSession at 0x15430fdd0>"
      ]
     },
     "execution_count": 8,
     "metadata": {},
     "output_type": "execute_result"
    }
   ],
   "source": [
    "session = onnxruntime.InferenceSession(compiled_model_path)\n",
    "session"
   ]
  },
  {
   "cell_type": "markdown",
   "metadata": {},
   "source": [
    "We only have one input, the cutout image model will be classifying."
   ]
  },
  {
   "cell_type": "code",
   "execution_count": 9,
   "metadata": {},
   "outputs": [
    {
     "name": "stdout",
     "output_type": "stream",
     "text": [
      "Input Name: input\n",
      "Shape: [1, 1, 32, 48, 48]\n",
      "Type: tensor(float)\n"
     ]
    }
   ],
   "source": [
    "# Get the name of the input node (usually the first input)\n",
    "input_name = session.get_inputs()[0].name\n",
    "# Get the expected input shape\n",
    "input_shape = session.get_inputs()[0].shape\n",
    "# Get the expected input data type\n",
    "input_type = session.get_inputs()[0].type\n",
    "\n",
    "print(f\"Input Name: {input_name}\")\n",
    "print(f\"Shape: {input_shape}\")\n",
    "print(f\"Type: {input_type}\")"
   ]
  },
  {
   "cell_type": "markdown",
   "metadata": {},
   "source": [
    "Model can output both logits and probabilities. For inference, we will use only probabilities."
   ]
  },
  {
   "cell_type": "code",
   "execution_count": 10,
   "metadata": {},
   "outputs": [
    {
     "data": {
      "text/plain": [
       "['logits', 'probabilities']"
      ]
     },
     "execution_count": 10,
     "metadata": {},
     "output_type": "execute_result"
    }
   ],
   "source": [
    "output_names = [output.name for output in session.get_outputs()]\n",
    "output_names"
   ]
  },
  {
   "cell_type": "markdown",
   "metadata": {},
   "source": [
    "### Inference on Nodule Cutout Image"
   ]
  },
  {
   "cell_type": "code",
   "execution_count": 11,
   "metadata": {},
   "outputs": [],
   "source": [
    "# Create a dictionary mapping input name to input data\n",
    "input_feed = {\n",
    "    input_name: torch.unsqueeze(positive_cutout.candidate, 0).numpy(),\n",
    "}"
   ]
  },
  {
   "cell_type": "code",
   "execution_count": 12,
   "metadata": {},
   "outputs": [
    {
     "data": {
      "text/plain": [
       "[array([[0.11881696, 0.881183  ]], dtype=float32)]"
      ]
     },
     "execution_count": 12,
     "metadata": {},
     "output_type": "execute_result"
    }
   ],
   "source": [
    "outputs = session.run(output_names=[\"probabilities\"], input_feed=input_feed)\n",
    "outputs"
   ]
  },
  {
   "cell_type": "code",
   "execution_count": 13,
   "metadata": {},
   "outputs": [
    {
     "data": {
      "text/plain": [
       "(array([[0.11881696, 0.881183  ]], dtype=float32), np.int64(1), 'Is Nodule')"
      ]
     },
     "execution_count": 13,
     "metadata": {},
     "output_type": "execute_result"
    }
   ],
   "source": [
    "probabilities = outputs[0]\n",
    "predicted_class_index = np.argmax(probabilities)\n",
    "(\n",
    "    probabilities,\n",
    "    predicted_class_index,\n",
    "    \"Is Nodule\" if predicted_class_index == 1 else \"Not Nodule\",\n",
    ")"
   ]
  },
  {
   "cell_type": "markdown",
   "metadata": {},
   "source": [
    "### Inference on Not Nodule Cutout Image"
   ]
  },
  {
   "cell_type": "code",
   "execution_count": 14,
   "metadata": {},
   "outputs": [
    {
     "data": {
      "text/plain": [
       "(array([[0.99091023, 0.00908977]], dtype=float32), np.int64(0), 'Not Nodule')"
      ]
     },
     "execution_count": 14,
     "metadata": {},
     "output_type": "execute_result"
    }
   ],
   "source": [
    "input_feed = {\n",
    "    \"input\": torch.unsqueeze(negative_cutout.candidate, 0).numpy(),\n",
    "}\n",
    "outputs = session.run(output_names=[\"probabilities\"], input_feed=input_feed)\n",
    "probabilities = outputs[0]\n",
    "predicted_class_index = np.argmax(probabilities)\n",
    "(\n",
    "    probabilities,\n",
    "    predicted_class_index,\n",
    "    \"Is Nodule\" if predicted_class_index == 1 else \"Not Nodule\",\n",
    ")"
   ]
  },
  {
   "cell_type": "markdown",
   "metadata": {},
   "source": [
    "# Classification Threshold\n",
    "\n",
    "A classification threshold is a cutoff value used to decide the predicted class from a continuous output (often a probability or logit). In binary classification, if the model outputs a probability for the positive class, you typically assign a positive label when that probability exceeds the threshold (commonly 0.5).\n",
    "\n",
    "You can use the classification threshold to control the sensitivity of your nodule classifier. For example, to classify more cutouts as nodules, you can lower the threshold so that even if the model’s positive probability is a bit lower than before, the image will still be considered a nodule."
   ]
  },
  {
   "cell_type": "code",
   "execution_count": 15,
   "metadata": {},
   "outputs": [
    {
     "data": {
      "text/plain": [
       "array([[ 0.57, 99.43]], dtype=float32)"
      ]
     },
     "execution_count": 15,
     "metadata": {},
     "output_type": "execute_result"
    }
   ],
   "source": [
    "input = dataset[22]\n",
    "input_feed = {\n",
    "    \"input\": torch.unsqueeze(input.candidate, 0).numpy(),\n",
    "}\n",
    "outputs = session.run(output_names=[\"probabilities\"], input_feed=input_feed)\n",
    "probabilities = outputs[0]\n",
    "percents = (probabilities * 100).round(2)\n",
    "percents"
   ]
  },
  {
   "cell_type": "code",
   "execution_count": 16,
   "metadata": {},
   "outputs": [
    {
     "name": "stdout",
     "output_type": "stream",
     "text": [
      "[[ 1 98]]\n",
      "[[83 16]]\n",
      "[[ 0 99]]\n",
      "[[27 72]]\n",
      "[[ 0 99]]\n",
      "[[ 0 99]]\n",
      "[[ 2 97]]\n",
      "[[35 64]]\n",
      "[[ 0 99]]\n",
      "[[ 0 99]]\n",
      "[[ 4 95]]\n",
      "[[ 0 99]]\n",
      "[[ 1 98]]\n",
      "[[ 0 99]]\n",
      "[[ 2 97]]\n",
      "[[ 4 95]]\n",
      "[[ 0 99]]\n",
      "[[ 0 99]]\n",
      "[[ 0 99]]\n",
      "[[ 1 98]]\n",
      "[[50 49]]\n",
      "[[ 0 99]]\n",
      "[[ 1 98]]\n",
      "[[ 0 99]]\n",
      "[[ 1 98]]\n",
      "[[35 64]]\n",
      "[[ 0 99]]\n",
      "[[21 78]]\n",
      "[[13 86]]\n",
      "[[ 1 98]]\n",
      "[[ 0 99]]\n",
      "[[ 0 99]]\n",
      "[[ 0 99]]\n",
      "[[92  7]]\n",
      "[[ 0 99]]\n",
      "[[ 1 98]]\n",
      "[[24 75]]\n",
      "[[11 88]]\n",
      "[[ 0 99]]\n",
      "[[ 0 99]]\n",
      "[[47 52]]\n",
      "[[ 2 97]]\n",
      "[[ 0 99]]\n",
      "[[27 72]]\n",
      "[[ 0 99]]\n",
      "[[45 54]]\n",
      "[[27 72]]\n",
      "[[ 0 99]]\n",
      "[[ 0 99]]\n",
      "[[ 0 99]]\n",
      "[[ 0 99]]\n",
      "[[ 2 97]]\n",
      "[[ 1 98]]\n",
      "[[ 1 98]]\n",
      "[[ 0 99]]\n",
      "[[38 61]]\n",
      "[[ 0 99]]\n",
      "[[ 0 99]]\n",
      "[[ 4 95]]\n",
      "[[ 0 99]]\n",
      "[[ 9 90]]\n",
      "[[ 0 99]]\n",
      "[[10 89]]\n",
      "[[ 0 99]]\n",
      "[[ 0 99]]\n",
      "[[16 83]]\n",
      "[[56 43]]\n",
      "[[27 72]]\n",
      "[[54 45]]\n",
      "[[67 32]]\n",
      "[[ 0 99]]\n",
      "[[ 9 90]]\n",
      "[[76 23]]\n",
      "[[ 6 93]]\n",
      "[[18 81]]\n",
      "[[22 77]]\n",
      "[[ 0 99]]\n"
     ]
    }
   ],
   "source": [
    "for i in range(0, 77 * 2, 2):\n",
    "    input = dataset[i]\n",
    "    input_feed = {\n",
    "        \"input\": torch.unsqueeze(input.candidate, 0).numpy(),\n",
    "    }\n",
    "    outputs = session.run(output_names=[\"probabilities\"], input_feed=input_feed)\n",
    "    probabilities = outputs[0]\n",
    "    percents = (probabilities * 100).astype(dtype=int)\n",
    "    print(percents)"
   ]
  },
  {
   "cell_type": "code",
   "execution_count": 17,
   "metadata": {},
   "outputs": [],
   "source": [
    "def nodule_evaluate_model_threshold(threshold: float) -> tuple[int, int]:\n",
    "    correct = 0\n",
    "    incorrect = 0\n",
    "    for i in range(0, 77 * 2, 2):\n",
    "        input = dataset[i]\n",
    "        input_feed = {\n",
    "            \"input\": torch.unsqueeze(input.candidate, 0).numpy(),\n",
    "        }\n",
    "        outputs = session.run(output_names=[\"probabilities\"], input_feed=input_feed)\n",
    "        probabilities = outputs[0]\n",
    "        if probabilities[0][1] > threshold:\n",
    "            correct += 1\n",
    "        else:\n",
    "            incorrect += 1\n",
    "    return correct, incorrect\n",
    "\n",
    "\n",
    "def not_nodule_evaluate_model_threshold(threshold: float) -> tuple[int, int]:\n",
    "    correct = 0\n",
    "    incorrect = 0\n",
    "    for i in range(1, 77 * 2, 2):\n",
    "        input = dataset[i]\n",
    "        input_feed = {\n",
    "            \"input\": torch.unsqueeze(input.candidate, 0).numpy(),\n",
    "        }\n",
    "        outputs = session.run(output_names=[\"probabilities\"], input_feed=input_feed)\n",
    "        probabilities = outputs[0]\n",
    "        if probabilities[0][1] < threshold:\n",
    "            correct += 1\n",
    "        else:\n",
    "            incorrect += 1\n",
    "    return correct, incorrect"
   ]
  },
  {
   "cell_type": "code",
   "execution_count": 18,
   "metadata": {},
   "outputs": [
    {
     "name": "stdout",
     "output_type": "stream",
     "text": [
      "Nodule Correct: 71 Nodule Incorrect: 6\n",
      "Not Nodule Correct: 77 Not Nodule Incorrect: 0\n"
     ]
    }
   ],
   "source": [
    "threshold = 0.5\n",
    "positive_correct, positive_incorrect = nodule_evaluate_model_threshold(\n",
    "    threshold=threshold\n",
    ")\n",
    "negative_correct, negative_incorrect = not_nodule_evaluate_model_threshold(\n",
    "    threshold=threshold\n",
    ")\n",
    "\n",
    "print(f\"Nodule Correct: {positive_correct} Nodule Incorrect: {positive_incorrect}\")\n",
    "print(\n",
    "    f\"Not Nodule Correct: {negative_correct} Not Nodule Incorrect: {negative_incorrect}\"\n",
    ")"
   ]
  },
  {
   "cell_type": "code",
   "execution_count": 19,
   "metadata": {},
   "outputs": [
    {
     "name": "stdout",
     "output_type": "stream",
     "text": [
      "Nodule Correct: 74 Nodule Incorrect: 3\n",
      "Not Nodule Correct: 77 Not Nodule Incorrect: 0\n"
     ]
    }
   ],
   "source": [
    "threshold = 0.3\n",
    "positive_correct, positive_incorrect = nodule_evaluate_model_threshold(\n",
    "    threshold=threshold\n",
    ")\n",
    "negative_correct, negative_incorrect = not_nodule_evaluate_model_threshold(\n",
    "    threshold=threshold\n",
    ")\n",
    "\n",
    "print(f\"Nodule Correct: {positive_correct} Nodule Incorrect: {positive_incorrect}\")\n",
    "print(\n",
    "    f\"Not Nodule Correct: {negative_correct} Not Nodule Incorrect: {negative_incorrect}\"\n",
    ")"
   ]
  },
  {
   "cell_type": "code",
   "execution_count": 20,
   "metadata": {},
   "outputs": [
    {
     "name": "stdout",
     "output_type": "stream",
     "text": [
      "Nodule Correct: 72 Nodule Incorrect: 5\n",
      "Not Nodule Correct: 75 Not Nodule Incorrect: 2\n"
     ]
    }
   ],
   "source": [
    "threshold = 0.25\n",
    "positive_correct, positive_incorrect = nodule_evaluate_model_threshold(\n",
    "    threshold=threshold\n",
    ")\n",
    "negative_correct, negative_incorrect = not_nodule_evaluate_model_threshold(\n",
    "    threshold=threshold\n",
    ")\n",
    "\n",
    "print(f\"Nodule Correct: {positive_correct} Nodule Incorrect: {positive_incorrect}\")\n",
    "print(\n",
    "    f\"Not Nodule Correct: {negative_correct} Not Nodule Incorrect: {negative_incorrect}\"\n",
    ")"
   ]
  },
  {
   "cell_type": "code",
   "execution_count": 21,
   "metadata": {},
   "outputs": [
    {
     "name": "stdout",
     "output_type": "stream",
     "text": [
      "Nodule Correct: 77 Nodule Incorrect: 0\n",
      "Not Nodule Correct: 74 Not Nodule Incorrect: 3\n"
     ]
    }
   ],
   "source": [
    "threshold = 0.15\n",
    "positive_correct, positive_incorrect = nodule_evaluate_model_threshold(\n",
    "    threshold=threshold\n",
    ")\n",
    "negative_correct, negative_incorrect = not_nodule_evaluate_model_threshold(\n",
    "    threshold=threshold\n",
    ")\n",
    "\n",
    "print(f\"Nodule Correct: {positive_correct} Nodule Incorrect: {positive_incorrect}\")\n",
    "print(\n",
    "    f\"Not Nodule Correct: {negative_correct} Not Nodule Incorrect: {negative_incorrect}\"\n",
    ")"
   ]
  },
  {
   "cell_type": "markdown",
   "metadata": {},
   "source": [
    "# ROC Curve & PR Curve"
   ]
  },
  {
   "cell_type": "code",
   "execution_count": 22,
   "metadata": {},
   "outputs": [],
   "source": [
    "predicted_probabilities = []\n",
    "true_labels = []\n",
    "\n",
    "for i in range(10000):\n",
    "    input = dataset[i]\n",
    "    input_feed = {\n",
    "        \"input\": torch.unsqueeze(input.candidate, 0).numpy(),\n",
    "    }\n",
    "    outputs = session.run(output_names=[\"probabilities\"], input_feed=input_feed)\n",
    "    probability = outputs[0][0][1]\n",
    "    label = input.labels[1]\n",
    "\n",
    "    predicted_probabilities.append(probability)\n",
    "    true_labels.append(label)"
   ]
  },
  {
   "cell_type": "markdown",
   "metadata": {},
   "source": [
    "## ROC Curve"
   ]
  },
  {
   "cell_type": "code",
   "execution_count": 23,
   "metadata": {},
   "outputs": [],
   "source": [
    "fpr, tpr, thresholds_roc = roc_curve(true_labels, predicted_probabilities)\n",
    "auc_roc = roc_auc_score(true_labels, predicted_probabilities)"
   ]
  },
  {
   "cell_type": "code",
   "execution_count": 24,
   "metadata": {},
   "outputs": [
    {
     "name": "stdout",
     "output_type": "stream",
     "text": [
      "Optimal threshold for ROC curve (Youden's J): 0.231\n"
     ]
    }
   ],
   "source": [
    "j_statistic = tpr - fpr\n",
    "optimal_idx_roc = np.argmax(j_statistic)\n",
    "optimal_threshold_roc = thresholds_roc[optimal_idx_roc]\n",
    "optimal_coords = fpr[optimal_idx_roc], tpr[optimal_idx_roc]\n",
    "print(f\"Optimal threshold for ROC curve (Youden's J): {optimal_threshold_roc:.3f}\")"
   ]
  },
  {
   "cell_type": "code",
   "execution_count": 25,
   "metadata": {},
   "outputs": [
    {
     "data": {
      "text/plain": [
       "<matplotlib.legend.Legend at 0x15437c7a0>"
      ]
     },
     "execution_count": 25,
     "metadata": {},
     "output_type": "execute_result"
    },
    {
     "data": {
      "image/png": "[encoded data removed]",
      "text/plain": [
       "<Figure size 800x800 with 1 Axes>"
      ]
     },
     "metadata": {},
     "output_type": "display_data"
    }
   ],
   "source": [
    "# Plot ROC curve and add the optimal point\n",
    "fig, ax = plt.subplots(1, 1, figsize=(8, 8))\n",
    "\n",
    "roc_display = RocCurveDisplay(fpr=fpr, tpr=tpr, roc_auc=auc_roc)\n",
    "roc_display.plot(ax)\n",
    "\n",
    "# Add the optimal point using optimal_coords: (fpr, tpr)\n",
    "ax.scatter(\n",
    "    optimal_coords[0],\n",
    "    optimal_coords[1],\n",
    "    color=\"red\",\n",
    "    s=100,\n",
    "    zorder=5,\n",
    "    label=\"Optimal Point\",\n",
    ")\n",
    "ax.legend()"
   ]
  },
  {
   "cell_type": "markdown",
   "metadata": {},
   "source": [
    "## PR Curve"
   ]
  },
  {
   "cell_type": "code",
   "execution_count": 26,
   "metadata": {},
   "outputs": [],
   "source": [
    "precision, recall, thresholds_pr = precision_recall_curve(\n",
    "    true_labels, predicted_probabilities\n",
    ")\n",
    "ap_pr = average_precision_score(true_labels, predicted_probabilities)"
   ]
  },
  {
   "cell_type": "code",
   "execution_count": 27,
   "metadata": {},
   "outputs": [
    {
     "name": "stdout",
     "output_type": "stream",
     "text": [
      "Optimal threshold for PR curve (closest to top-right): 0.231\n"
     ]
    }
   ],
   "source": [
    "distances_pr = np.sqrt((1 - precision) ** 2 + (1 - recall) ** 2)\n",
    "optimal_idx_pr = np.argmin(distances_pr)\n",
    "# thresholds_pr is one element shorter than precision and recall, might need to adjust\n",
    "optimal_threshold_pr = thresholds_pr[optimal_idx_pr]\n",
    "optimal_coords = recall[optimal_idx_pr], precision[optimal_idx_pr]\n",
    "print(\n",
    "    f\"Optimal threshold for PR curve (closest to top-right): {optimal_threshold_pr:.3f}\"\n",
    ")"
   ]
  },
  {
   "cell_type": "code",
   "execution_count": 28,
   "metadata": {},
   "outputs": [
    {
     "data": {
      "text/plain": [
       "<matplotlib.legend.Legend at 0x15435ff50>"
      ]
     },
     "execution_count": 28,
     "metadata": {},
     "output_type": "execute_result"
    },
    {
     "data": {
      "image/png": "[encoded data removed]",
      "text/plain": [
       "<Figure size 800x800 with 1 Axes>"
      ]
     },
     "metadata": {},
     "output_type": "display_data"
    }
   ],
   "source": [
    "fig, ax = plt.subplots(1, 1, figsize=(8, 8))\n",
    "\n",
    "pr_display = PrecisionRecallDisplay(\n",
    "    precision=precision, recall=recall, average_precision=ap_pr\n",
    ")\n",
    "pr_display.plot(ax)\n",
    "\n",
    "# Add the optimal point using optimal_coords: (recall, precision)\n",
    "ax.scatter(\n",
    "    optimal_coords[0],\n",
    "    optimal_coords[1],\n",
    "    color=\"red\",\n",
    "    s=100,\n",
    "    zorder=5,\n",
    "    label=\"Optimal Point\",\n",
    ")\n",
    "ax.legend()"
   ]
  },
  {
   "cell_type": "markdown",
   "metadata": {},
   "source": [
    "## F1 Score"
   ]
  },
  {
   "cell_type": "code",
   "execution_count": 29,
   "metadata": {},
   "outputs": [
    {
     "name": "stdout",
     "output_type": "stream",
     "text": [
      "Optimal threshold for F1-Score: 0.232\n"
     ]
    }
   ],
   "source": [
    "f1_scores = []\n",
    "thresholds_f1 = np.linspace(0, 1, 100)  # Example thresholds\n",
    "for thresh in thresholds_f1:\n",
    "    predicted_classes = (predicted_probabilities >= thresh).astype(int)\n",
    "    f1 = f1_score(true_labels, predicted_classes)\n",
    "    f1_scores.append(f1)\n",
    "\n",
    "optimal_idx_f1 = np.argmax(f1_scores)\n",
    "optimal_threshold_f1 = thresholds_f1[optimal_idx_f1]\n",
    "print(f\"Optimal threshold for F1-Score: {optimal_threshold_f1:.3f}\")"
   ]
  },
  {
   "cell_type": "markdown",
   "metadata": {},
   "source": [
    "## Evaluate on F1 Score"
   ]
  },
  {
   "cell_type": "code",
   "execution_count": 42,
   "metadata": {},
   "outputs": [],
   "source": [
    "def evaluate_threshold_on_f1_score(threshold: np.float32) -> None:\n",
    "    predicted_classes_optimal = (predicted_probabilities >= threshold).astype(int)\n",
    "    f1_optimal = f1_score(true_labels, predicted_classes_optimal)\n",
    "    print(f\"F1-Score at threshold {threshold:.3f} in {f1_optimal:.3f}\")"
   ]
  },
  {
   "cell_type": "code",
   "execution_count": 43,
   "metadata": {},
   "outputs": [
    {
     "name": "stdout",
     "output_type": "stream",
     "text": [
      "F1-Score at threshold 0.500 in 0.946\n"
     ]
    }
   ],
   "source": [
    "original_threshold = np.float32(0.5)\n",
    "evaluate_threshold_on_f1_score(threshold=original_threshold)"
   ]
  },
  {
   "cell_type": "code",
   "execution_count": 44,
   "metadata": {},
   "outputs": [
    {
     "name": "stdout",
     "output_type": "stream",
     "text": [
      "F1-Score at threshold 0.231 in 0.969\n"
     ]
    }
   ],
   "source": [
    "evaluate_threshold_on_f1_score(threshold=optimal_threshold_roc)"
   ]
  },
  {
   "cell_type": "code",
   "execution_count": 45,
   "metadata": {},
   "outputs": [
    {
     "name": "stdout",
     "output_type": "stream",
     "text": [
      "F1-Score at threshold 0.231 in 0.969\n"
     ]
    }
   ],
   "source": [
    "evaluate_threshold_on_f1_score(threshold=optimal_threshold_pr)"
   ]
  },
  {
   "cell_type": "code",
   "execution_count": 46,
   "metadata": {},
   "outputs": [
    {
     "name": "stdout",
     "output_type": "stream",
     "text": [
      "F1-Score at threshold 0.232 in 0.969\n"
     ]
    }
   ],
   "source": [
    "evaluate_threshold_on_f1_score(threshold=optimal_threshold_f1)"
   ]
  }
 ],
 "metadata": {
  "kernelspec": {
   "display_name": ".venv",
   "language": "python",
   "name": "python3"
  },
  "language_info": {
   "codemirror_mode": {
    "name": "ipython",
    "version": 3
   },
   "file_extension": ".py",
   "mimetype": "text/x-python",
   "name": "python",
   "nbconvert_exporter": "python",
   "pygments_lexer": "ipython3",
   "version": "3.12.8"
  }
 },
 "nbformat": 4,
 "nbformat_minor": 2
}
