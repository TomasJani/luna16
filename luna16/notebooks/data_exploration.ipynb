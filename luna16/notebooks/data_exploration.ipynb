{
 "cells": [
  {
   "cell_type": "markdown",
   "metadata": {},
   "source": [
    "# Data Exploration\n",
    "\n",
    "To prepare data for training a model, we need to understand the data, prepare annotations files and transform CT scans into vector files we can effectively work with. This notebook focuses on annotation files. We start by trying to understand the data and then we will extract the data we need into one file. The result of this notebook will be a CSV file (`complete_candidates.csv`) that contains all information about nodules we will be classifying and their labels.\n"
   ]
  },
  {
   "cell_type": "code",
   "execution_count": 66,
   "metadata": {},
   "outputs": [],
   "source": [
    "import pandas as pd\n",
    "\n",
    "from luna16 import enums, settings\n",
    "\n",
    "%matplotlib inline"
   ]
  },
  {
   "cell_type": "markdown",
   "metadata": {},
   "source": [
    "## Candidates File Exploration\n",
    "\n",
    "The `candidates.csv` and `candidates_v2.csv` file contains information about all lumps that potentially look like nodules, whether those lumps are malignant, benign tumors, or something else altogether. We’ll use this as the basis for building a complete list of candidates that can then be split into our training and validation datasets.\n",
    "\n",
    "### The Data\n",
    "\n",
    "Dataframe contains 754975 rows. 753418 of them are marked as not nodules and 1557 are marked as nodules.\n",
    "\n",
    "The columns in the `candidates.csv` file are as follows:\n",
    "\n",
    "- `seriesuid`: The unique identifier for the CT scan in which the nodule was found.\n",
    "- `coordX`, `coordY`, `coordZ`: The x, y, and z coordinates of the candidate nodule in the CT scan.\n",
    "- `class`: The classification of the nodule. 0 = no nodule, 1 = nodule\n",
    "\n",
    "### Class Distribution\n",
    "\n",
    "From the class distribution, we can see that the dataset is highly imbalanced. We have 549714 candidates with no nodule and 1351 candidates with a nodule. This is a ratio of 406:1. This is a very high imbalance and we will need to address this when we build our model.\n",
    "\n",
    "### Series UIDs\n",
    "\n",
    "The `seriesuid` column contains the unique identifier for the CT scan it relates to. We have 888 unique series UIDs in the dataset. This is the number of CT scans we have in the dataset. \n",
    "\n",
    "Thus, each CT scam has multiple candidates. It's approximately 850 candidates per CT scan.\n"
   ]
  },
  {
   "cell_type": "code",
   "execution_count": 67,
   "metadata": {},
   "outputs": [
    {
     "name": "stdout",
     "output_type": "stream",
     "text": [
      "<class 'pandas.core.frame.DataFrame'>\n",
      "RangeIndex: 754975 entries, 0 to 754974\n",
      "Data columns (total 5 columns):\n",
      " #   Column     Non-Null Count   Dtype  \n",
      "---  ------     --------------   -----  \n",
      " 0   seriesuid  754975 non-null  object \n",
      " 1   coordX     754975 non-null  float64\n",
      " 2   coordY     754975 non-null  float64\n",
      " 3   coordZ     754975 non-null  float64\n",
      " 4   class      754975 non-null  int64  \n",
      "dtypes: float64(3), int64(1), object(1)\n",
      "memory usage: 28.8+ MB\n"
     ]
    }
   ],
   "source": [
    "candidates_path = settings.DATA_DIR / \"candidates.csv\"\n",
    "# because candidates_v2.csv contains more examples that candidates.csv (754975 vs. 551064), we will use candidates_v2.csv\n",
    "candidates_v2_path = settings.DATA_DIR / \"candidates_v2.csv\"\n",
    "candidates = pd.read_csv(filepath_or_buffer=candidates_v2_path)\n",
    "candidates.info()"
   ]
  },
  {
   "cell_type": "code",
   "execution_count": 68,
   "metadata": {},
   "outputs": [
    {
     "data": {
      "text/html": [
       "<div>\n",
       "<style scoped>\n",
       "    .dataframe tbody tr th:only-of-type {\n",
       "        vertical-align: middle;\n",
       "    }\n",
       "\n",
       "    .dataframe tbody tr th {\n",
       "        vertical-align: top;\n",
       "    }\n",
       "\n",
       "    .dataframe thead th {\n",
       "        text-align: right;\n",
       "    }\n",
       "</style>\n",
       "<table border=\"1\" class=\"dataframe\">\n",
       "  <thead>\n",
       "    <tr style=\"text-align: right;\">\n",
       "      <th></th>\n",
       "      <th>seriesuid</th>\n",
       "      <th>coordX</th>\n",
       "      <th>coordY</th>\n",
       "      <th>coordZ</th>\n",
       "      <th>class</th>\n",
       "    </tr>\n",
       "  </thead>\n",
       "  <tbody>\n",
       "    <tr>\n",
       "      <th>0</th>\n",
       "      <td>1.3.6.1.4.1.14519.5.2.1.6279.6001.100225287222...</td>\n",
       "      <td>68.420000</td>\n",
       "      <td>-74.480000</td>\n",
       "      <td>-288.700000</td>\n",
       "      <td>0</td>\n",
       "    </tr>\n",
       "    <tr>\n",
       "      <th>1</th>\n",
       "      <td>1.3.6.1.4.1.14519.5.2.1.6279.6001.100225287222...</td>\n",
       "      <td>-95.209361</td>\n",
       "      <td>-91.809406</td>\n",
       "      <td>-377.426350</td>\n",
       "      <td>0</td>\n",
       "    </tr>\n",
       "    <tr>\n",
       "      <th>2</th>\n",
       "      <td>1.3.6.1.4.1.14519.5.2.1.6279.6001.100225287222...</td>\n",
       "      <td>-24.766755</td>\n",
       "      <td>-120.379294</td>\n",
       "      <td>-273.361539</td>\n",
       "      <td>0</td>\n",
       "    </tr>\n",
       "    <tr>\n",
       "      <th>3</th>\n",
       "      <td>1.3.6.1.4.1.14519.5.2.1.6279.6001.100225287222...</td>\n",
       "      <td>-63.080000</td>\n",
       "      <td>-65.740000</td>\n",
       "      <td>-344.240000</td>\n",
       "      <td>0</td>\n",
       "    </tr>\n",
       "    <tr>\n",
       "      <th>4</th>\n",
       "      <td>1.3.6.1.4.1.14519.5.2.1.6279.6001.100225287222...</td>\n",
       "      <td>52.946688</td>\n",
       "      <td>-92.688873</td>\n",
       "      <td>-241.067872</td>\n",
       "      <td>0</td>\n",
       "    </tr>\n",
       "  </tbody>\n",
       "</table>\n",
       "</div>"
      ],
      "text/plain": [
       "                                           seriesuid     coordX      coordY  \\\n",
       "0  1.3.6.1.4.1.14519.5.2.1.6279.6001.100225287222...  68.420000  -74.480000   \n",
       "1  1.3.6.1.4.1.14519.5.2.1.6279.6001.100225287222... -95.209361  -91.809406   \n",
       "2  1.3.6.1.4.1.14519.5.2.1.6279.6001.100225287222... -24.766755 -120.379294   \n",
       "3  1.3.6.1.4.1.14519.5.2.1.6279.6001.100225287222... -63.080000  -65.740000   \n",
       "4  1.3.6.1.4.1.14519.5.2.1.6279.6001.100225287222...  52.946688  -92.688873   \n",
       "\n",
       "       coordZ  class  \n",
       "0 -288.700000      0  \n",
       "1 -377.426350      0  \n",
       "2 -273.361539      0  \n",
       "3 -344.240000      0  \n",
       "4 -241.067872      0  "
      ]
     },
     "execution_count": 68,
     "metadata": {},
     "output_type": "execute_result"
    }
   ],
   "source": [
    "candidates.head()"
   ]
  },
  {
   "cell_type": "code",
   "execution_count": 69,
   "metadata": {},
   "outputs": [
    {
     "name": "stdout",
     "output_type": "stream",
     "text": [
      "LuNA 16 contains 1557 nodules and 753418 not nodules.\n",
      "Nodules are 0.21%.\n"
     ]
    },
    {
     "data": {
      "text/plain": [
       "class\n",
       "0    753418\n",
       "1      1557\n",
       "Name: count, dtype: int64"
      ]
     },
     "execution_count": 69,
     "metadata": {},
     "output_type": "execute_result"
    }
   ],
   "source": [
    "n_is_nodules = len(candidates[candidates[\"class\"] == 1])\n",
    "n_not_nodules = len(candidates[candidates[\"class\"] == 0])\n",
    "percentage_of_malignant = (100 * n_is_nodules) / len(candidates)\n",
    "\n",
    "print(f\"LuNA 16 contains {n_is_nodules} nodules and {n_not_nodules} not nodules.\")\n",
    "print(f\"Nodules are {percentage_of_malignant:.2f}%.\")\n",
    "\n",
    "candidates[\"class\"].value_counts()"
   ]
  },
  {
   "cell_type": "code",
   "execution_count": 70,
   "metadata": {},
   "outputs": [
    {
     "name": "stdout",
     "output_type": "stream",
     "text": [
      "Candidates dataframe has 754975 rows and 888 unique series uid values.\n"
     ]
    }
   ],
   "source": [
    "n_candidates = len(candidates)\n",
    "n_unique_candidates_seriesuids = len(candidates.seriesuid.unique())\n",
    "print(\n",
    "    f\"Candidates dataframe has {n_candidates} rows and {n_unique_candidates_seriesuids} unique series uid values.\"\n",
    ")"
   ]
  },
  {
   "cell_type": "code",
   "execution_count": 71,
   "metadata": {},
   "outputs": [
    {
     "name": "stdout",
     "output_type": "stream",
     "text": [
      "For 754975 number of candidates, the average number of rows with same seriesuid is 850.20.\n"
     ]
    },
    {
     "data": {
      "text/plain": [
       "seriesuid\n",
       "1.3.6.1.4.1.14519.5.2.1.6279.6001.652347820272212119124022644822    2066\n",
       "1.3.6.1.4.1.14519.5.2.1.6279.6001.167237290696350215427953159586    1973\n",
       "1.3.6.1.4.1.14519.5.2.1.6279.6001.168737928729363683423228050295    1828\n",
       "1.3.6.1.4.1.14519.5.2.1.6279.6001.241083615484551649610616348856    1723\n",
       "1.3.6.1.4.1.14519.5.2.1.6279.6001.200725988589959521302320481687    1713\n",
       "                                                                    ... \n",
       "1.3.6.1.4.1.14519.5.2.1.6279.6001.219349715895470349269596532320     215\n",
       "1.3.6.1.4.1.14519.5.2.1.6279.6001.333319057944372470283038483725     208\n",
       "1.3.6.1.4.1.14519.5.2.1.6279.6001.153536305742006952753134773630     207\n",
       "1.3.6.1.4.1.14519.5.2.1.6279.6001.608029415915051219877530734559     185\n",
       "1.3.6.1.4.1.14519.5.2.1.6279.6001.397202838387416555106806022938      66\n",
       "Name: count, Length: 888, dtype: int64"
      ]
     },
     "execution_count": 71,
     "metadata": {},
     "output_type": "execute_result"
    }
   ],
   "source": [
    "series_uid_values_count = candidates[\"seriesuid\"].value_counts()\n",
    "n_same_seriesuid_mean_for_candidates = series_uid_values_count.mean()\n",
    "print(\n",
    "    f\"For {len(candidates)} number of candidates, the average number \"\n",
    "    f\"of rows with same seriesuid is {n_same_seriesuid_mean_for_candidates:.2f}.\"\n",
    ")\n",
    "series_uid_values_count"
   ]
  },
  {
   "cell_type": "markdown",
   "metadata": {},
   "source": [
    "## Annotation file exploration\n",
    "\n",
    "The `annotations_with_malignancy.csv` file contains information about the nodules that have been annotated by radiologists. It only contains information about nodules that have been annotated as malignant or benign.\n",
    "\n",
    "### The Data\n",
    "\n",
    "Dataset contains 1182 rows. 804 of them are marked as benign and 378 are marked as malignant.\n",
    "\n",
    "The columns in the `annotations_with_malignancy.csv` file are as follows:\n",
    "\n",
    "- `seriesuid`: The unique identifier for the CT scan in which the nodule was found.\n",
    "- `coordX`, `coordY`, `coordZ`: The x, y, and z coordinates of the candidate nodule in the CT scan.\n",
    "- `diameter_mm`: The diameter of the nodule in millimeters.\n",
    "- `is_malignant`: Whether the nodule is malignant. 0 = benign, 1 = malignant.\n",
    "\n",
    "the rest of the columns are not relevant for our analysis.\n",
    "\n",
    "### Is Malignant Distribution\n",
    "\n",
    "From the class distribution, we can see that the dataset is imbalanced. We have 804 benign nodules and 378 malignant nodules. This is a ratio of 2:1. This is a imbalance and we will need to address this when we build our model.\n",
    "\n",
    "### Series UIDs\n",
    "\n",
    "The `seriesuid` column contains the unique identifier for the CT scan it relates to. We have 600 unique series UIDs in the dataset.\n",
    "\n",
    "Each CT scam has multiple annotations. It's approximately 1.3 annotations per CT scan."
   ]
  },
  {
   "cell_type": "code",
   "execution_count": 72,
   "metadata": {},
   "outputs": [
    {
     "name": "stdout",
     "output_type": "stream",
     "text": [
      "<class 'pandas.core.frame.DataFrame'>\n",
      "RangeIndex: 1182 entries, 0 to 1181\n",
      "Data columns (total 14 columns):\n",
      " #   Column             Non-Null Count  Dtype  \n",
      "---  ------             --------------  -----  \n",
      " 0   seriesuid          1182 non-null   object \n",
      " 1   coord_x            1182 non-null   float64\n",
      " 2   coord_y            1182 non-null   float64\n",
      " 3   coord_z            1182 non-null   float64\n",
      " 4   diameter_mm        1182 non-null   float64\n",
      " 5   is_malignant       1182 non-null   bool   \n",
      " 6   malignant_details  1182 non-null   object \n",
      " 7   bboxLowX           1182 non-null   float64\n",
      " 8   bboxLowY           1182 non-null   float64\n",
      " 9   bboxLowZ           1182 non-null   float64\n",
      " 10  bboxHighX          1182 non-null   float64\n",
      " 11  bboxHighY          1182 non-null   float64\n",
      " 12  bboxHighZ          1182 non-null   float64\n",
      " 13  len_mal_details    1182 non-null   int64  \n",
      "dtypes: bool(1), float64(10), int64(1), object(2)\n",
      "memory usage: 121.3+ KB\n"
     ]
    }
   ],
   "source": [
    "annotations_malignancy_path = settings.DATA_DIR / \"annotations_with_malignancy.csv\"\n",
    "annotations_malignancy = pd.read_csv(filepath_or_buffer=annotations_malignancy_path)\n",
    "annotations_malignancy.info()"
   ]
  },
  {
   "cell_type": "code",
   "execution_count": 73,
   "metadata": {},
   "outputs": [
    {
     "data": {
      "text/html": [
       "<div>\n",
       "<style scoped>\n",
       "    .dataframe tbody tr th:only-of-type {\n",
       "        vertical-align: middle;\n",
       "    }\n",
       "\n",
       "    .dataframe tbody tr th {\n",
       "        vertical-align: top;\n",
       "    }\n",
       "\n",
       "    .dataframe thead th {\n",
       "        text-align: right;\n",
       "    }\n",
       "</style>\n",
       "<table border=\"1\" class=\"dataframe\">\n",
       "  <thead>\n",
       "    <tr style=\"text-align: right;\">\n",
       "      <th></th>\n",
       "      <th>seriesuid</th>\n",
       "      <th>coord_x</th>\n",
       "      <th>coord_y</th>\n",
       "      <th>coord_z</th>\n",
       "      <th>diameter_mm</th>\n",
       "      <th>is_malignant</th>\n",
       "      <th>malignant_details</th>\n",
       "      <th>bboxLowX</th>\n",
       "      <th>bboxLowY</th>\n",
       "      <th>bboxLowZ</th>\n",
       "      <th>bboxHighX</th>\n",
       "      <th>bboxHighY</th>\n",
       "      <th>bboxHighZ</th>\n",
       "      <th>len_mal_details</th>\n",
       "    </tr>\n",
       "  </thead>\n",
       "  <tbody>\n",
       "    <tr>\n",
       "      <th>0</th>\n",
       "      <td>1.3.6.1.4.1.14519.5.2.1.6279.6001.100225287222...</td>\n",
       "      <td>-128.699421</td>\n",
       "      <td>-175.319272</td>\n",
       "      <td>-298.387506</td>\n",
       "      <td>5.651471</td>\n",
       "      <td>True</td>\n",
       "      <td>[4, 2, 4, 2]</td>\n",
       "      <td>-131.896480</td>\n",
       "      <td>-178.259761</td>\n",
       "      <td>-299.800004</td>\n",
       "      <td>-125.451167</td>\n",
       "      <td>-172.458980</td>\n",
       "      <td>-296.200004</td>\n",
       "      <td>4</td>\n",
       "    </tr>\n",
       "    <tr>\n",
       "      <th>1</th>\n",
       "      <td>1.3.6.1.4.1.14519.5.2.1.6279.6001.265775376735...</td>\n",
       "      <td>-69.175741</td>\n",
       "      <td>218.052625</td>\n",
       "      <td>-668.501273</td>\n",
       "      <td>4.441200</td>\n",
       "      <td>False</td>\n",
       "      <td>[3, 2, 3]</td>\n",
       "      <td>-71.815939</td>\n",
       "      <td>215.709820</td>\n",
       "      <td>-670.900024</td>\n",
       "      <td>-66.722189</td>\n",
       "      <td>220.803570</td>\n",
       "      <td>-666.900024</td>\n",
       "      <td>3</td>\n",
       "    </tr>\n",
       "    <tr>\n",
       "      <th>2</th>\n",
       "      <td>1.3.6.1.4.1.14519.5.2.1.6279.6001.276556509002...</td>\n",
       "      <td>-67.459503</td>\n",
       "      <td>-247.744211</td>\n",
       "      <td>-211.095340</td>\n",
       "      <td>7.744222</td>\n",
       "      <td>True</td>\n",
       "      <td>[5, 3, 4]</td>\n",
       "      <td>-73.027344</td>\n",
       "      <td>-253.847656</td>\n",
       "      <td>-213.100004</td>\n",
       "      <td>-61.074219</td>\n",
       "      <td>-242.558594</td>\n",
       "      <td>-209.500004</td>\n",
       "      <td>3</td>\n",
       "    </tr>\n",
       "    <tr>\n",
       "      <th>3</th>\n",
       "      <td>1.3.6.1.4.1.14519.5.2.1.6279.6001.276556509002...</td>\n",
       "      <td>-97.690876</td>\n",
       "      <td>-134.068054</td>\n",
       "      <td>-187.094883</td>\n",
       "      <td>6.690036</td>\n",
       "      <td>False</td>\n",
       "      <td>[3, 3, 3]</td>\n",
       "      <td>-102.910156</td>\n",
       "      <td>-137.636719</td>\n",
       "      <td>-189.700005</td>\n",
       "      <td>-92.949219</td>\n",
       "      <td>-130.332031</td>\n",
       "      <td>-186.100005</td>\n",
       "      <td>3</td>\n",
       "    </tr>\n",
       "    <tr>\n",
       "      <th>4</th>\n",
       "      <td>1.3.6.1.4.1.14519.5.2.1.6279.6001.276710697414...</td>\n",
       "      <td>69.529141</td>\n",
       "      <td>87.036153</td>\n",
       "      <td>-149.190113</td>\n",
       "      <td>10.824515</td>\n",
       "      <td>False</td>\n",
       "      <td>[3, 3, 5, 2]</td>\n",
       "      <td>63.731247</td>\n",
       "      <td>80.468750</td>\n",
       "      <td>-154.000000</td>\n",
       "      <td>76.231247</td>\n",
       "      <td>93.750000</td>\n",
       "      <td>-144.000000</td>\n",
       "      <td>4</td>\n",
       "    </tr>\n",
       "  </tbody>\n",
       "</table>\n",
       "</div>"
      ],
      "text/plain": [
       "                                           seriesuid     coord_x     coord_y  \\\n",
       "0  1.3.6.1.4.1.14519.5.2.1.6279.6001.100225287222... -128.699421 -175.319272   \n",
       "1  1.3.6.1.4.1.14519.5.2.1.6279.6001.265775376735...  -69.175741  218.052625   \n",
       "2  1.3.6.1.4.1.14519.5.2.1.6279.6001.276556509002...  -67.459503 -247.744211   \n",
       "3  1.3.6.1.4.1.14519.5.2.1.6279.6001.276556509002...  -97.690876 -134.068054   \n",
       "4  1.3.6.1.4.1.14519.5.2.1.6279.6001.276710697414...   69.529141   87.036153   \n",
       "\n",
       "      coord_z  diameter_mm  is_malignant malignant_details    bboxLowX  \\\n",
       "0 -298.387506     5.651471          True      [4, 2, 4, 2] -131.896480   \n",
       "1 -668.501273     4.441200         False         [3, 2, 3]  -71.815939   \n",
       "2 -211.095340     7.744222          True         [5, 3, 4]  -73.027344   \n",
       "3 -187.094883     6.690036         False         [3, 3, 3] -102.910156   \n",
       "4 -149.190113    10.824515         False      [3, 3, 5, 2]   63.731247   \n",
       "\n",
       "     bboxLowY    bboxLowZ   bboxHighX   bboxHighY   bboxHighZ  len_mal_details  \n",
       "0 -178.259761 -299.800004 -125.451167 -172.458980 -296.200004                4  \n",
       "1  215.709820 -670.900024  -66.722189  220.803570 -666.900024                3  \n",
       "2 -253.847656 -213.100004  -61.074219 -242.558594 -209.500004                3  \n",
       "3 -137.636719 -189.700005  -92.949219 -130.332031 -186.100005                3  \n",
       "4   80.468750 -154.000000   76.231247   93.750000 -144.000000                4  "
      ]
     },
     "execution_count": 73,
     "metadata": {},
     "output_type": "execute_result"
    }
   ],
   "source": [
    "annotations_malignancy.head()"
   ]
  },
  {
   "cell_type": "code",
   "execution_count": 74,
   "metadata": {},
   "outputs": [
    {
     "data": {
      "text/plain": [
       "is_malignant\n",
       "False    804\n",
       "True     378\n",
       "Name: count, dtype: int64"
      ]
     },
     "execution_count": 74,
     "metadata": {},
     "output_type": "execute_result"
    }
   ],
   "source": [
    "annotations_malignancy[\"is_malignant\"].value_counts()"
   ]
  },
  {
   "cell_type": "code",
   "execution_count": 75,
   "metadata": {},
   "outputs": [
    {
     "name": "stdout",
     "output_type": "stream",
     "text": [
      "Annotations with malignancy dataframe has 1182 rows and 600 unique series uid values.\n"
     ]
    }
   ],
   "source": [
    "n_annotations_malignancy = len(annotations_malignancy)\n",
    "n_unique_annotations_malignancy_seriesuids = len(\n",
    "    annotations_malignancy.seriesuid.unique()\n",
    ")\n",
    "print(\n",
    "    f\"Annotations with malignancy dataframe has {n_annotations_malignancy} rows and {n_unique_annotations_malignancy_seriesuids} unique series uid values.\"\n",
    ")"
   ]
  },
  {
   "cell_type": "code",
   "execution_count": 76,
   "metadata": {},
   "outputs": [
    {
     "name": "stdout",
     "output_type": "stream",
     "text": [
      "For 1182 number of annotations with malignancy, the average number of rows with same seriesuid is 1.97.\n"
     ]
    },
    {
     "data": {
      "text/plain": [
       "seriesuid\n",
       "1.3.6.1.4.1.14519.5.2.1.6279.6001.176030616406569931557298712518    12\n",
       "1.3.6.1.4.1.14519.5.2.1.6279.6001.219428004988664846407984058588     9\n",
       "1.3.6.1.4.1.14519.5.2.1.6279.6001.195557219224169985110295082004     9\n",
       "1.3.6.1.4.1.14519.5.2.1.6279.6001.202187810895588720702176009630     9\n",
       "1.3.6.1.4.1.14519.5.2.1.6279.6001.328789598898469177563438457842     9\n",
       "                                                                    ..\n",
       "1.3.6.1.4.1.14519.5.2.1.6279.6001.321465552859463184018938648244     1\n",
       "1.3.6.1.4.1.14519.5.2.1.6279.6001.320111824803959660037459294083     1\n",
       "1.3.6.1.4.1.14519.5.2.1.6279.6001.317087518531899043292346860596     1\n",
       "1.3.6.1.4.1.14519.5.2.1.6279.6001.316911475886263032009840828684     1\n",
       "1.3.6.1.4.1.14519.5.2.1.6279.6001.174168737938619557573021395302     1\n",
       "Name: count, Length: 600, dtype: int64"
      ]
     },
     "execution_count": 76,
     "metadata": {},
     "output_type": "execute_result"
    }
   ],
   "source": [
    "series_uid_values_count = annotations_malignancy[\"seriesuid\"].value_counts()\n",
    "n_same_seriesuid_mean_for_annotations_malignancy = series_uid_values_count.mean()\n",
    "print(\n",
    "    f\"For {len(annotations_malignancy)} number of annotations with malignancy, the average number \"\n",
    "    f\"of rows with same seriesuid is {n_same_seriesuid_mean_for_annotations_malignancy:.2f}.\"\n",
    ")\n",
    "series_uid_values_count"
   ]
  },
  {
   "cell_type": "code",
   "execution_count": 77,
   "metadata": {},
   "outputs": [
    {
     "data": {
      "text/plain": [
       "count    1182.000000\n",
       "mean        8.294700\n",
       "std         4.755361\n",
       "min         3.253443\n",
       "25%         5.106208\n",
       "50%         6.424177\n",
       "75%         9.682801\n",
       "max        32.270030\n",
       "Name: diameter_mm, dtype: float64"
      ]
     },
     "execution_count": 77,
     "metadata": {},
     "output_type": "execute_result"
    }
   ],
   "source": [
    "diameter_col = annotations_malignancy[\"diameter_mm\"]\n",
    "diameter_col.describe()"
   ]
  },
  {
   "cell_type": "markdown",
   "metadata": {},
   "source": [
    "# Concat Annotations and Candidates\n",
    "\n",
    "From previous two dataframes, we can see they both contain complementary data. We will merge them into one dataframe to have all information in one place. \n",
    "\n",
    "We will do this by:\n",
    "\n",
    "1) Dropping all rows marked as nodules from candidates dataframe. We would not be able to determine if they are malignant or benign. There might also be a lot of duplicates between candidates and annotations because they came form same CTs scan More in chapter **Candidate Nodules vs. Annotated Nodules**.\n",
    "2) Creating new class column that will be 0 for malignant, 1 for benign and 2 for candidates that are not nodules.\n",
    "3) Setting diameter_mm to 0 for candidates that are not nodules. This should indicate how large the nodule is and because they are not nodules they can be set to 0.\n",
    "4) Merging the two dataframes on `seriesuid`, `diameter_mm`, `class`, `coord_x`, `coord_y`, `coord_z` columns. In the process, we also rename make them consistent with python naming conventions and consistent across dataframes.\n"
   ]
  },
  {
   "cell_type": "markdown",
   "metadata": {},
   "source": [
    "## Candidate Nodules vs. Annotated Nodules\n",
    "\n",
    "Looking at nodules from annotations and candidates, there are 1557 candidates and 1182 annotations. This means that there are 375 candidates that are not in the annotations.\n",
    "\n",
    "When removing nodules form candidates dataframe, there will definitely be loss  of these at least 375 nodules. That is not good when the dataset is so imbalanced. These nodules can't be used for classifying malignant nodules but they can be used for classifying nodules vs. non-nodules. It's reasonable to think about creating separate dataset for nodule classificaation containing these nodules.\n",
    "\n",
    "Even bigger problem is that the rest of the nodules might not be the same too. Code below concatinates annotation and candidate nodules and then checks if there are any duplicates. it first changes type of coordinates form float to int for easier comparison. In this case, there were only 296 duplicates. \n",
    "\n",
    "I also tried to replace last digit with zero on top of int conversion. In this case, there were 1221 duplicate. This is more than entire annotation dataset. This means that this showed potential duplicate inside candidates dataset. However, this operation is so drastic that it might not be reliable.\n",
    "\n",
    "### Conclusion\n",
    "\n",
    "For now, only nodules form annotations dataset will be used. If there will be big problem with overfitting, we can consider adding nodules from candidates dataset. But there must be more analysis done to ensure that they are not duplicates."
   ]
  },
  {
   "cell_type": "code",
   "execution_count": 78,
   "metadata": {},
   "outputs": [
    {
     "data": {
      "text/html": [
       "<div>\n",
       "<style scoped>\n",
       "    .dataframe tbody tr th:only-of-type {\n",
       "        vertical-align: middle;\n",
       "    }\n",
       "\n",
       "    .dataframe tbody tr th {\n",
       "        vertical-align: top;\n",
       "    }\n",
       "\n",
       "    .dataframe thead th {\n",
       "        text-align: right;\n",
       "    }\n",
       "</style>\n",
       "<table border=\"1\" class=\"dataframe\">\n",
       "  <thead>\n",
       "    <tr style=\"text-align: right;\">\n",
       "      <th></th>\n",
       "      <th>seriesuid</th>\n",
       "      <th>coord_x</th>\n",
       "      <th>coord_y</th>\n",
       "      <th>coord_z</th>\n",
       "      <th>diameter_mm</th>\n",
       "      <th>is_malignant</th>\n",
       "      <th>malignant_details</th>\n",
       "      <th>bboxLowX</th>\n",
       "      <th>bboxLowY</th>\n",
       "      <th>bboxLowZ</th>\n",
       "      <th>bboxHighX</th>\n",
       "      <th>bboxHighY</th>\n",
       "      <th>bboxHighZ</th>\n",
       "      <th>len_mal_details</th>\n",
       "    </tr>\n",
       "  </thead>\n",
       "  <tbody>\n",
       "    <tr>\n",
       "      <th>0</th>\n",
       "      <td>1.3.6.1.4.1.14519.5.2.1.6279.6001.100225287222...</td>\n",
       "      <td>-128.699421</td>\n",
       "      <td>-175.319272</td>\n",
       "      <td>-298.387506</td>\n",
       "      <td>5.651471</td>\n",
       "      <td>True</td>\n",
       "      <td>[4, 2, 4, 2]</td>\n",
       "      <td>-131.896480</td>\n",
       "      <td>-178.259761</td>\n",
       "      <td>-299.800004</td>\n",
       "      <td>-125.451167</td>\n",
       "      <td>-172.458980</td>\n",
       "      <td>-296.200004</td>\n",
       "      <td>4</td>\n",
       "    </tr>\n",
       "    <tr>\n",
       "      <th>1</th>\n",
       "      <td>1.3.6.1.4.1.14519.5.2.1.6279.6001.265775376735...</td>\n",
       "      <td>-69.175741</td>\n",
       "      <td>218.052625</td>\n",
       "      <td>-668.501273</td>\n",
       "      <td>4.441200</td>\n",
       "      <td>False</td>\n",
       "      <td>[3, 2, 3]</td>\n",
       "      <td>-71.815939</td>\n",
       "      <td>215.709820</td>\n",
       "      <td>-670.900024</td>\n",
       "      <td>-66.722189</td>\n",
       "      <td>220.803570</td>\n",
       "      <td>-666.900024</td>\n",
       "      <td>3</td>\n",
       "    </tr>\n",
       "    <tr>\n",
       "      <th>2</th>\n",
       "      <td>1.3.6.1.4.1.14519.5.2.1.6279.6001.276556509002...</td>\n",
       "      <td>-67.459503</td>\n",
       "      <td>-247.744211</td>\n",
       "      <td>-211.095340</td>\n",
       "      <td>7.744222</td>\n",
       "      <td>True</td>\n",
       "      <td>[5, 3, 4]</td>\n",
       "      <td>-73.027344</td>\n",
       "      <td>-253.847656</td>\n",
       "      <td>-213.100004</td>\n",
       "      <td>-61.074219</td>\n",
       "      <td>-242.558594</td>\n",
       "      <td>-209.500004</td>\n",
       "      <td>3</td>\n",
       "    </tr>\n",
       "    <tr>\n",
       "      <th>3</th>\n",
       "      <td>1.3.6.1.4.1.14519.5.2.1.6279.6001.276556509002...</td>\n",
       "      <td>-97.690876</td>\n",
       "      <td>-134.068054</td>\n",
       "      <td>-187.094883</td>\n",
       "      <td>6.690036</td>\n",
       "      <td>False</td>\n",
       "      <td>[3, 3, 3]</td>\n",
       "      <td>-102.910156</td>\n",
       "      <td>-137.636719</td>\n",
       "      <td>-189.700005</td>\n",
       "      <td>-92.949219</td>\n",
       "      <td>-130.332031</td>\n",
       "      <td>-186.100005</td>\n",
       "      <td>3</td>\n",
       "    </tr>\n",
       "    <tr>\n",
       "      <th>4</th>\n",
       "      <td>1.3.6.1.4.1.14519.5.2.1.6279.6001.276710697414...</td>\n",
       "      <td>69.529141</td>\n",
       "      <td>87.036153</td>\n",
       "      <td>-149.190113</td>\n",
       "      <td>10.824515</td>\n",
       "      <td>False</td>\n",
       "      <td>[3, 3, 5, 2]</td>\n",
       "      <td>63.731247</td>\n",
       "      <td>80.468750</td>\n",
       "      <td>-154.000000</td>\n",
       "      <td>76.231247</td>\n",
       "      <td>93.750000</td>\n",
       "      <td>-144.000000</td>\n",
       "      <td>4</td>\n",
       "    </tr>\n",
       "  </tbody>\n",
       "</table>\n",
       "</div>"
      ],
      "text/plain": [
       "                                           seriesuid     coord_x     coord_y  \\\n",
       "0  1.3.6.1.4.1.14519.5.2.1.6279.6001.100225287222... -128.699421 -175.319272   \n",
       "1  1.3.6.1.4.1.14519.5.2.1.6279.6001.265775376735...  -69.175741  218.052625   \n",
       "2  1.3.6.1.4.1.14519.5.2.1.6279.6001.276556509002...  -67.459503 -247.744211   \n",
       "3  1.3.6.1.4.1.14519.5.2.1.6279.6001.276556509002...  -97.690876 -134.068054   \n",
       "4  1.3.6.1.4.1.14519.5.2.1.6279.6001.276710697414...   69.529141   87.036153   \n",
       "\n",
       "      coord_z  diameter_mm  is_malignant malignant_details    bboxLowX  \\\n",
       "0 -298.387506     5.651471          True      [4, 2, 4, 2] -131.896480   \n",
       "1 -668.501273     4.441200         False         [3, 2, 3]  -71.815939   \n",
       "2 -211.095340     7.744222          True         [5, 3, 4]  -73.027344   \n",
       "3 -187.094883     6.690036         False         [3, 3, 3] -102.910156   \n",
       "4 -149.190113    10.824515         False      [3, 3, 5, 2]   63.731247   \n",
       "\n",
       "     bboxLowY    bboxLowZ   bboxHighX   bboxHighY   bboxHighZ  len_mal_details  \n",
       "0 -178.259761 -299.800004 -125.451167 -172.458980 -296.200004                4  \n",
       "1  215.709820 -670.900024  -66.722189  220.803570 -666.900024                3  \n",
       "2 -253.847656 -213.100004  -61.074219 -242.558594 -209.500004                3  \n",
       "3 -137.636719 -189.700005  -92.949219 -130.332031 -186.100005                3  \n",
       "4   80.468750 -154.000000   76.231247   93.750000 -144.000000                4  "
      ]
     },
     "execution_count": 78,
     "metadata": {},
     "output_type": "execute_result"
    }
   ],
   "source": [
    "annotations_malignancy.head()"
   ]
  },
  {
   "cell_type": "code",
   "execution_count": 79,
   "metadata": {},
   "outputs": [
    {
     "name": "stderr",
     "output_type": "stream",
     "text": [
      "/var/folders/2j/mfpmmx2j1pn212m7_ltydq0h0000gn/T/ipykernel_37789/2967981556.py:4: SettingWithCopyWarning: \n",
      "A value is trying to be set on a copy of a slice from a DataFrame\n",
      "\n",
      "See the caveats in the documentation: https://pandas.pydata.org/pandas-docs/stable/user_guide/indexing.html#returning-a-view-versus-a-copy\n",
      "  candidates_nodules_coords.rename(\n"
     ]
    },
    {
     "data": {
      "text/html": [
       "<div>\n",
       "<style scoped>\n",
       "    .dataframe tbody tr th:only-of-type {\n",
       "        vertical-align: middle;\n",
       "    }\n",
       "\n",
       "    .dataframe tbody tr th {\n",
       "        vertical-align: top;\n",
       "    }\n",
       "\n",
       "    .dataframe thead th {\n",
       "        text-align: right;\n",
       "    }\n",
       "</style>\n",
       "<table border=\"1\" class=\"dataframe\">\n",
       "  <thead>\n",
       "    <tr style=\"text-align: right;\">\n",
       "      <th></th>\n",
       "      <th>coord_x</th>\n",
       "      <th>coord_y</th>\n",
       "      <th>coord_z</th>\n",
       "    </tr>\n",
       "  </thead>\n",
       "  <tbody>\n",
       "    <tr>\n",
       "      <th>436</th>\n",
       "      <td>104.083933</td>\n",
       "      <td>-211.755826</td>\n",
       "      <td>-227.017987</td>\n",
       "    </tr>\n",
       "    <tr>\n",
       "      <th>1009</th>\n",
       "      <td>-128.982091</td>\n",
       "      <td>-175.176790</td>\n",
       "      <td>-298.510193</td>\n",
       "    </tr>\n",
       "    <tr>\n",
       "      <th>2053</th>\n",
       "      <td>69.974375</td>\n",
       "      <td>-141.066875</td>\n",
       "      <td>876.777280</td>\n",
       "    </tr>\n",
       "    <tr>\n",
       "      <th>3633</th>\n",
       "      <td>1.790000</td>\n",
       "      <td>166.340000</td>\n",
       "      <td>-408.880000</td>\n",
       "    </tr>\n",
       "    <tr>\n",
       "      <th>3707</th>\n",
       "      <td>1.859783</td>\n",
       "      <td>172.221534</td>\n",
       "      <td>-405.366447</td>\n",
       "    </tr>\n",
       "    <tr>\n",
       "      <th>...</th>\n",
       "      <td>...</td>\n",
       "      <td>...</td>\n",
       "      <td>...</td>\n",
       "    </tr>\n",
       "    <tr>\n",
       "      <th>754090</th>\n",
       "      <td>-29.720000</td>\n",
       "      <td>24.620000</td>\n",
       "      <td>-156.010000</td>\n",
       "    </tr>\n",
       "    <tr>\n",
       "      <th>754622</th>\n",
       "      <td>42.895122</td>\n",
       "      <td>74.251037</td>\n",
       "      <td>-200.625978</td>\n",
       "    </tr>\n",
       "    <tr>\n",
       "      <th>754755</th>\n",
       "      <td>-28.685000</td>\n",
       "      <td>32.690000</td>\n",
       "      <td>-164.835000</td>\n",
       "    </tr>\n",
       "    <tr>\n",
       "      <th>754947</th>\n",
       "      <td>-23.719297</td>\n",
       "      <td>31.714489</td>\n",
       "      <td>-156.172233</td>\n",
       "    </tr>\n",
       "    <tr>\n",
       "      <th>754948</th>\n",
       "      <td>-25.610000</td>\n",
       "      <td>32.140000</td>\n",
       "      <td>-151.310000</td>\n",
       "    </tr>\n",
       "  </tbody>\n",
       "</table>\n",
       "<p>1557 rows × 3 columns</p>\n",
       "</div>"
      ],
      "text/plain": [
       "           coord_x     coord_y     coord_z\n",
       "436     104.083933 -211.755826 -227.017987\n",
       "1009   -128.982091 -175.176790 -298.510193\n",
       "2053     69.974375 -141.066875  876.777280\n",
       "3633      1.790000  166.340000 -408.880000\n",
       "3707      1.859783  172.221534 -405.366447\n",
       "...            ...         ...         ...\n",
       "754090  -29.720000   24.620000 -156.010000\n",
       "754622   42.895122   74.251037 -200.625978\n",
       "754755  -28.685000   32.690000 -164.835000\n",
       "754947  -23.719297   31.714489 -156.172233\n",
       "754948  -25.610000   32.140000 -151.310000\n",
       "\n",
       "[1557 rows x 3 columns]"
      ]
     },
     "execution_count": 79,
     "metadata": {},
     "output_type": "execute_result"
    }
   ],
   "source": [
    "candidates_nodules = candidates.copy()\n",
    "candidates_nodules = candidates[candidates[\"class\"] == 1]\n",
    "candidates_nodules_coords = candidates_nodules[[\"coordX\", \"coordY\", \"coordZ\"]]\n",
    "candidates_nodules_coords.rename(\n",
    "    columns={\"coordX\": \"coord_x\", \"coordY\": \"coord_y\", \"coordZ\": \"coord_z\"},\n",
    "    inplace=True,\n",
    ")\n",
    "candidates_nodules_coords"
   ]
  },
  {
   "cell_type": "code",
   "execution_count": 80,
   "metadata": {},
   "outputs": [
    {
     "data": {
      "text/html": [
       "<div>\n",
       "<style scoped>\n",
       "    .dataframe tbody tr th:only-of-type {\n",
       "        vertical-align: middle;\n",
       "    }\n",
       "\n",
       "    .dataframe tbody tr th {\n",
       "        vertical-align: top;\n",
       "    }\n",
       "\n",
       "    .dataframe thead th {\n",
       "        text-align: right;\n",
       "    }\n",
       "</style>\n",
       "<table border=\"1\" class=\"dataframe\">\n",
       "  <thead>\n",
       "    <tr style=\"text-align: right;\">\n",
       "      <th></th>\n",
       "      <th>coord_x</th>\n",
       "      <th>coord_y</th>\n",
       "      <th>coord_z</th>\n",
       "    </tr>\n",
       "  </thead>\n",
       "  <tbody>\n",
       "    <tr>\n",
       "      <th>0</th>\n",
       "      <td>-128.699421</td>\n",
       "      <td>-175.319272</td>\n",
       "      <td>-298.387506</td>\n",
       "    </tr>\n",
       "    <tr>\n",
       "      <th>1</th>\n",
       "      <td>-69.175741</td>\n",
       "      <td>218.052625</td>\n",
       "      <td>-668.501273</td>\n",
       "    </tr>\n",
       "    <tr>\n",
       "      <th>2</th>\n",
       "      <td>-67.459503</td>\n",
       "      <td>-247.744211</td>\n",
       "      <td>-211.095340</td>\n",
       "    </tr>\n",
       "    <tr>\n",
       "      <th>3</th>\n",
       "      <td>-97.690876</td>\n",
       "      <td>-134.068054</td>\n",
       "      <td>-187.094883</td>\n",
       "    </tr>\n",
       "    <tr>\n",
       "      <th>4</th>\n",
       "      <td>69.529141</td>\n",
       "      <td>87.036153</td>\n",
       "      <td>-149.190113</td>\n",
       "    </tr>\n",
       "    <tr>\n",
       "      <th>...</th>\n",
       "      <td>...</td>\n",
       "      <td>...</td>\n",
       "      <td>...</td>\n",
       "    </tr>\n",
       "    <tr>\n",
       "      <th>1177</th>\n",
       "      <td>-57.725518</td>\n",
       "      <td>73.779494</td>\n",
       "      <td>-147.415580</td>\n",
       "    </tr>\n",
       "    <tr>\n",
       "      <th>1178</th>\n",
       "      <td>-72.287990</td>\n",
       "      <td>-77.481968</td>\n",
       "      <td>-160.486254</td>\n",
       "    </tr>\n",
       "    <tr>\n",
       "      <th>1179</th>\n",
       "      <td>96.625954</td>\n",
       "      <td>-46.154823</td>\n",
       "      <td>-88.229432</td>\n",
       "    </tr>\n",
       "    <tr>\n",
       "      <th>1180</th>\n",
       "      <td>33.104795</td>\n",
       "      <td>-63.116434</td>\n",
       "      <td>-108.725571</td>\n",
       "    </tr>\n",
       "    <tr>\n",
       "      <th>1181</th>\n",
       "      <td>-96.744406</td>\n",
       "      <td>37.573945</td>\n",
       "      <td>-138.160430</td>\n",
       "    </tr>\n",
       "  </tbody>\n",
       "</table>\n",
       "<p>1182 rows × 3 columns</p>\n",
       "</div>"
      ],
      "text/plain": [
       "         coord_x     coord_y     coord_z\n",
       "0    -128.699421 -175.319272 -298.387506\n",
       "1     -69.175741  218.052625 -668.501273\n",
       "2     -67.459503 -247.744211 -211.095340\n",
       "3     -97.690876 -134.068054 -187.094883\n",
       "4      69.529141   87.036153 -149.190113\n",
       "...          ...         ...         ...\n",
       "1177  -57.725518   73.779494 -147.415580\n",
       "1178  -72.287990  -77.481968 -160.486254\n",
       "1179   96.625954  -46.154823  -88.229432\n",
       "1180   33.104795  -63.116434 -108.725571\n",
       "1181  -96.744406   37.573945 -138.160430\n",
       "\n",
       "[1182 rows x 3 columns]"
      ]
     },
     "execution_count": 80,
     "metadata": {},
     "output_type": "execute_result"
    }
   ],
   "source": [
    "annotations_malignancy_nodules_coords = annotations_malignancy[\n",
    "    [\"coord_x\", \"coord_y\", \"coord_z\"]\n",
    "]\n",
    "annotations_malignancy_nodules_coords"
   ]
  },
  {
   "cell_type": "code",
   "execution_count": 81,
   "metadata": {},
   "outputs": [
    {
     "name": "stdout",
     "output_type": "stream",
     "text": [
      "<class 'pandas.core.frame.DataFrame'>\n",
      "Index: 2739 entries, 436 to 1181\n",
      "Data columns (total 3 columns):\n",
      " #   Column   Non-Null Count  Dtype  \n",
      "---  ------   --------------  -----  \n",
      " 0   coord_x  2739 non-null   float64\n",
      " 1   coord_y  2739 non-null   float64\n",
      " 2   coord_z  2739 non-null   float64\n",
      "dtypes: float64(3)\n",
      "memory usage: 85.6 KB\n"
     ]
    }
   ],
   "source": [
    "combined_nodules_coords = pd.concat(\n",
    "    [candidates_nodules_coords, annotations_malignancy_nodules_coords]\n",
    ")\n",
    "combined_nodules_coords.info()"
   ]
  },
  {
   "cell_type": "code",
   "execution_count": 82,
   "metadata": {},
   "outputs": [
    {
     "data": {
      "text/plain": [
       "'Number of rows (2739) is the same when we drop duplicates (2739) so our dataframe does not have any duplicates. Thus, we can use seriesuid and center coordinates to uniquely identify rows.'"
      ]
     },
     "execution_count": 82,
     "metadata": {},
     "output_type": "execute_result"
    }
   ],
   "source": [
    "dropped_coords = combined_nodules_coords.drop_duplicates()\n",
    "\n",
    "(\n",
    "    f\"Number of rows ({len(combined_nodules_coords)}) is the same when we drop duplicates \"\n",
    "    f\"({len(dropped_coords)}) so our dataframe does not have any duplicates. Thus, \"\n",
    "    \"we can use seriesuid and center coordinates to uniquely identify rows.\"\n",
    ")"
   ]
  },
  {
   "cell_type": "code",
   "execution_count": 83,
   "metadata": {},
   "outputs": [
    {
     "name": "stdout",
     "output_type": "stream",
     "text": [
      "<class 'pandas.core.frame.DataFrame'>\n",
      "Index: 2739 entries, 436 to 1181\n",
      "Data columns (total 3 columns):\n",
      " #   Column   Non-Null Count  Dtype\n",
      "---  ------   --------------  -----\n",
      " 0   coord_x  2739 non-null   int64\n",
      " 1   coord_y  2739 non-null   int64\n",
      " 2   coord_z  2739 non-null   int64\n",
      "dtypes: int64(3)\n",
      "memory usage: 85.6 KB\n"
     ]
    }
   ],
   "source": [
    "combined_nodules_int_coords = combined_nodules_coords.astype(int)\n",
    "combined_nodules_int_coords.info()"
   ]
  },
  {
   "cell_type": "code",
   "execution_count": 84,
   "metadata": {},
   "outputs": [
    {
     "data": {
      "text/plain": [
       "'Number of rows (2739) is NOT the same when we drop duplicates (2443) so our dataframe does have any duplicates. That is 296 duplicates.'"
      ]
     },
     "execution_count": 84,
     "metadata": {},
     "output_type": "execute_result"
    }
   ],
   "source": [
    "dropped_coords = combined_nodules_int_coords.drop_duplicates()\n",
    "\n",
    "(\n",
    "    f\"Number of rows ({len(combined_nodules_int_coords)}) is NOT the same when we drop duplicates \"\n",
    "    f\"({len(dropped_coords)}) so our dataframe does have any duplicates. \"\n",
    "    f\"That is {len(combined_nodules_int_coords) - len(dropped_coords)} duplicates.\"\n",
    ")"
   ]
  },
  {
   "cell_type": "code",
   "execution_count": 85,
   "metadata": {},
   "outputs": [
    {
     "data": {
      "text/html": [
       "<div>\n",
       "<style scoped>\n",
       "    .dataframe tbody tr th:only-of-type {\n",
       "        vertical-align: middle;\n",
       "    }\n",
       "\n",
       "    .dataframe tbody tr th {\n",
       "        vertical-align: top;\n",
       "    }\n",
       "\n",
       "    .dataframe thead th {\n",
       "        text-align: right;\n",
       "    }\n",
       "</style>\n",
       "<table border=\"1\" class=\"dataframe\">\n",
       "  <thead>\n",
       "    <tr style=\"text-align: right;\">\n",
       "      <th></th>\n",
       "      <th>coord_x</th>\n",
       "      <th>coord_y</th>\n",
       "      <th>coord_z</th>\n",
       "    </tr>\n",
       "  </thead>\n",
       "  <tbody>\n",
       "    <tr>\n",
       "      <th>436</th>\n",
       "      <td>100</td>\n",
       "      <td>-210</td>\n",
       "      <td>-220</td>\n",
       "    </tr>\n",
       "    <tr>\n",
       "      <th>1009</th>\n",
       "      <td>-120</td>\n",
       "      <td>-170</td>\n",
       "      <td>-290</td>\n",
       "    </tr>\n",
       "    <tr>\n",
       "      <th>2053</th>\n",
       "      <td>60</td>\n",
       "      <td>-140</td>\n",
       "      <td>870</td>\n",
       "    </tr>\n",
       "    <tr>\n",
       "      <th>3633</th>\n",
       "      <td>0</td>\n",
       "      <td>160</td>\n",
       "      <td>-400</td>\n",
       "    </tr>\n",
       "    <tr>\n",
       "      <th>3707</th>\n",
       "      <td>0</td>\n",
       "      <td>170</td>\n",
       "      <td>-400</td>\n",
       "    </tr>\n",
       "    <tr>\n",
       "      <th>...</th>\n",
       "      <td>...</td>\n",
       "      <td>...</td>\n",
       "      <td>...</td>\n",
       "    </tr>\n",
       "    <tr>\n",
       "      <th>1177</th>\n",
       "      <td>-50</td>\n",
       "      <td>70</td>\n",
       "      <td>-140</td>\n",
       "    </tr>\n",
       "    <tr>\n",
       "      <th>1178</th>\n",
       "      <td>-70</td>\n",
       "      <td>-70</td>\n",
       "      <td>-160</td>\n",
       "    </tr>\n",
       "    <tr>\n",
       "      <th>1179</th>\n",
       "      <td>90</td>\n",
       "      <td>-40</td>\n",
       "      <td>-80</td>\n",
       "    </tr>\n",
       "    <tr>\n",
       "      <th>1180</th>\n",
       "      <td>30</td>\n",
       "      <td>-60</td>\n",
       "      <td>-100</td>\n",
       "    </tr>\n",
       "    <tr>\n",
       "      <th>1181</th>\n",
       "      <td>-90</td>\n",
       "      <td>30</td>\n",
       "      <td>-130</td>\n",
       "    </tr>\n",
       "  </tbody>\n",
       "</table>\n",
       "<p>2739 rows × 3 columns</p>\n",
       "</div>"
      ],
      "text/plain": [
       "      coord_x  coord_y  coord_z\n",
       "436       100     -210     -220\n",
       "1009     -120     -170     -290\n",
       "2053       60     -140      870\n",
       "3633        0      160     -400\n",
       "3707        0      170     -400\n",
       "...       ...      ...      ...\n",
       "1177      -50       70     -140\n",
       "1178      -70      -70     -160\n",
       "1179       90      -40      -80\n",
       "1180       30      -60     -100\n",
       "1181      -90       30     -130\n",
       "\n",
       "[2739 rows x 3 columns]"
      ]
     },
     "execution_count": 85,
     "metadata": {},
     "output_type": "execute_result"
    }
   ],
   "source": [
    "def set_last_digit_to_zero(x: int) -> int:\n",
    "    return int(x / 10) * 10\n",
    "\n",
    "\n",
    "combined_nodules_int_zeroed_coords = combined_nodules_int_coords.copy()\n",
    "combined_nodules_int_zeroed_coords = combined_nodules_int_zeroed_coords.map(\n",
    "    set_last_digit_to_zero\n",
    ")\n",
    "combined_nodules_int_zeroed_coords"
   ]
  },
  {
   "cell_type": "code",
   "execution_count": 86,
   "metadata": {},
   "outputs": [
    {
     "data": {
      "text/plain": [
       "'Number of rows (2739) is NOT the same when we drop duplicates (1518) so our dataframe does have any duplicates. That is 1221 duplicates.'"
      ]
     },
     "execution_count": 86,
     "metadata": {},
     "output_type": "execute_result"
    }
   ],
   "source": [
    "dropped_coords = combined_nodules_int_zeroed_coords.drop_duplicates()\n",
    "\n",
    "(\n",
    "    f\"Number of rows ({len(combined_nodules_int_zeroed_coords)}) is NOT the same when we drop duplicates \"\n",
    "    f\"({len(dropped_coords)}) so our dataframe does have any duplicates. \"\n",
    "    f\"That is {len(combined_nodules_int_zeroed_coords) - len(dropped_coords)} duplicates.\"\n",
    ")"
   ]
  },
  {
   "cell_type": "markdown",
   "metadata": {},
   "source": [
    "## Concatenated Dataframe"
   ]
  },
  {
   "cell_type": "code",
   "execution_count": 87,
   "metadata": {},
   "outputs": [
    {
     "data": {
      "text/html": [
       "<div>\n",
       "<style scoped>\n",
       "    .dataframe tbody tr th:only-of-type {\n",
       "        vertical-align: middle;\n",
       "    }\n",
       "\n",
       "    .dataframe tbody tr th {\n",
       "        vertical-align: top;\n",
       "    }\n",
       "\n",
       "    .dataframe thead th {\n",
       "        text-align: right;\n",
       "    }\n",
       "</style>\n",
       "<table border=\"1\" class=\"dataframe\">\n",
       "  <thead>\n",
       "    <tr style=\"text-align: right;\">\n",
       "      <th></th>\n",
       "      <th>seriesuid</th>\n",
       "      <th>coord_x</th>\n",
       "      <th>coord_y</th>\n",
       "      <th>coord_z</th>\n",
       "      <th>class</th>\n",
       "      <th>diameter_mm</th>\n",
       "    </tr>\n",
       "  </thead>\n",
       "  <tbody>\n",
       "    <tr>\n",
       "      <th>0</th>\n",
       "      <td>1.3.6.1.4.1.14519.5.2.1.6279.6001.100225287222...</td>\n",
       "      <td>68.420000</td>\n",
       "      <td>-74.480000</td>\n",
       "      <td>-288.700000</td>\n",
       "      <td>2</td>\n",
       "      <td>0.0</td>\n",
       "    </tr>\n",
       "    <tr>\n",
       "      <th>1</th>\n",
       "      <td>1.3.6.1.4.1.14519.5.2.1.6279.6001.100225287222...</td>\n",
       "      <td>-95.209361</td>\n",
       "      <td>-91.809406</td>\n",
       "      <td>-377.426350</td>\n",
       "      <td>2</td>\n",
       "      <td>0.0</td>\n",
       "    </tr>\n",
       "    <tr>\n",
       "      <th>2</th>\n",
       "      <td>1.3.6.1.4.1.14519.5.2.1.6279.6001.100225287222...</td>\n",
       "      <td>-24.766755</td>\n",
       "      <td>-120.379294</td>\n",
       "      <td>-273.361539</td>\n",
       "      <td>2</td>\n",
       "      <td>0.0</td>\n",
       "    </tr>\n",
       "    <tr>\n",
       "      <th>3</th>\n",
       "      <td>1.3.6.1.4.1.14519.5.2.1.6279.6001.100225287222...</td>\n",
       "      <td>-63.080000</td>\n",
       "      <td>-65.740000</td>\n",
       "      <td>-344.240000</td>\n",
       "      <td>2</td>\n",
       "      <td>0.0</td>\n",
       "    </tr>\n",
       "    <tr>\n",
       "      <th>4</th>\n",
       "      <td>1.3.6.1.4.1.14519.5.2.1.6279.6001.100225287222...</td>\n",
       "      <td>52.946688</td>\n",
       "      <td>-92.688873</td>\n",
       "      <td>-241.067872</td>\n",
       "      <td>2</td>\n",
       "      <td>0.0</td>\n",
       "    </tr>\n",
       "    <tr>\n",
       "      <th>...</th>\n",
       "      <td>...</td>\n",
       "      <td>...</td>\n",
       "      <td>...</td>\n",
       "      <td>...</td>\n",
       "      <td>...</td>\n",
       "      <td>...</td>\n",
       "    </tr>\n",
       "    <tr>\n",
       "      <th>754970</th>\n",
       "      <td>1.3.6.1.4.1.14519.5.2.1.6279.6001.997611074084...</td>\n",
       "      <td>-33.400000</td>\n",
       "      <td>-64.200000</td>\n",
       "      <td>-115.560000</td>\n",
       "      <td>2</td>\n",
       "      <td>0.0</td>\n",
       "    </tr>\n",
       "    <tr>\n",
       "      <th>754971</th>\n",
       "      <td>1.3.6.1.4.1.14519.5.2.1.6279.6001.997611074084...</td>\n",
       "      <td>56.236359</td>\n",
       "      <td>70.352400</td>\n",
       "      <td>-203.446236</td>\n",
       "      <td>2</td>\n",
       "      <td>0.0</td>\n",
       "    </tr>\n",
       "    <tr>\n",
       "      <th>754972</th>\n",
       "      <td>1.3.6.1.4.1.14519.5.2.1.6279.6001.997611074084...</td>\n",
       "      <td>-97.104221</td>\n",
       "      <td>55.738289</td>\n",
       "      <td>-203.879785</td>\n",
       "      <td>2</td>\n",
       "      <td>0.0</td>\n",
       "    </tr>\n",
       "    <tr>\n",
       "      <th>754973</th>\n",
       "      <td>1.3.6.1.4.1.14519.5.2.1.6279.6001.997611074084...</td>\n",
       "      <td>-65.470000</td>\n",
       "      <td>59.670000</td>\n",
       "      <td>-136.370000</td>\n",
       "      <td>2</td>\n",
       "      <td>0.0</td>\n",
       "    </tr>\n",
       "    <tr>\n",
       "      <th>754974</th>\n",
       "      <td>1.3.6.1.4.1.14519.5.2.1.6279.6001.997611074084...</td>\n",
       "      <td>-3.100000</td>\n",
       "      <td>-10.660000</td>\n",
       "      <td>-27.470000</td>\n",
       "      <td>2</td>\n",
       "      <td>0.0</td>\n",
       "    </tr>\n",
       "  </tbody>\n",
       "</table>\n",
       "<p>753418 rows × 6 columns</p>\n",
       "</div>"
      ],
      "text/plain": [
       "                                                seriesuid    coord_x  \\\n",
       "0       1.3.6.1.4.1.14519.5.2.1.6279.6001.100225287222...  68.420000   \n",
       "1       1.3.6.1.4.1.14519.5.2.1.6279.6001.100225287222... -95.209361   \n",
       "2       1.3.6.1.4.1.14519.5.2.1.6279.6001.100225287222... -24.766755   \n",
       "3       1.3.6.1.4.1.14519.5.2.1.6279.6001.100225287222... -63.080000   \n",
       "4       1.3.6.1.4.1.14519.5.2.1.6279.6001.100225287222...  52.946688   \n",
       "...                                                   ...        ...   \n",
       "754970  1.3.6.1.4.1.14519.5.2.1.6279.6001.997611074084... -33.400000   \n",
       "754971  1.3.6.1.4.1.14519.5.2.1.6279.6001.997611074084...  56.236359   \n",
       "754972  1.3.6.1.4.1.14519.5.2.1.6279.6001.997611074084... -97.104221   \n",
       "754973  1.3.6.1.4.1.14519.5.2.1.6279.6001.997611074084... -65.470000   \n",
       "754974  1.3.6.1.4.1.14519.5.2.1.6279.6001.997611074084...  -3.100000   \n",
       "\n",
       "           coord_y     coord_z  class  diameter_mm  \n",
       "0       -74.480000 -288.700000      2          0.0  \n",
       "1       -91.809406 -377.426350      2          0.0  \n",
       "2      -120.379294 -273.361539      2          0.0  \n",
       "3       -65.740000 -344.240000      2          0.0  \n",
       "4       -92.688873 -241.067872      2          0.0  \n",
       "...            ...         ...    ...          ...  \n",
       "754970  -64.200000 -115.560000      2          0.0  \n",
       "754971   70.352400 -203.446236      2          0.0  \n",
       "754972   55.738289 -203.879785      2          0.0  \n",
       "754973   59.670000 -136.370000      2          0.0  \n",
       "754974  -10.660000  -27.470000      2          0.0  \n",
       "\n",
       "[753418 rows x 6 columns]"
      ]
     },
     "execution_count": 87,
     "metadata": {},
     "output_type": "execute_result"
    }
   ],
   "source": [
    "not_nodule_candidates = candidates[candidates[\"class\"] == 0].copy()\n",
    "not_nodule_candidates[\"diameter_mm\"] = 0.0\n",
    "not_nodule_candidates[\"class\"] = enums.CandidateClass.NOT_NODULE\n",
    "not_nodule_candidates.rename(\n",
    "    columns={\"coordX\": \"coord_x\", \"coordY\": \"coord_y\", \"coordZ\": \"coord_z\"},\n",
    "    inplace=True,\n",
    ")\n",
    "not_nodule_candidates"
   ]
  },
  {
   "cell_type": "code",
   "execution_count": 88,
   "metadata": {},
   "outputs": [
    {
     "data": {
      "text/plain": [
       "class\n",
       "2    753418\n",
       "Name: count, dtype: int64"
      ]
     },
     "execution_count": 88,
     "metadata": {},
     "output_type": "execute_result"
    }
   ],
   "source": [
    "not_nodule_candidates.value_counts(\"class\")"
   ]
  },
  {
   "cell_type": "code",
   "execution_count": 89,
   "metadata": {},
   "outputs": [
    {
     "data": {
      "text/html": [
       "<div>\n",
       "<style scoped>\n",
       "    .dataframe tbody tr th:only-of-type {\n",
       "        vertical-align: middle;\n",
       "    }\n",
       "\n",
       "    .dataframe tbody tr th {\n",
       "        vertical-align: top;\n",
       "    }\n",
       "\n",
       "    .dataframe thead th {\n",
       "        text-align: right;\n",
       "    }\n",
       "</style>\n",
       "<table border=\"1\" class=\"dataframe\">\n",
       "  <thead>\n",
       "    <tr style=\"text-align: right;\">\n",
       "      <th></th>\n",
       "      <th>seriesuid</th>\n",
       "      <th>diameter_mm</th>\n",
       "      <th>class</th>\n",
       "      <th>coord_x</th>\n",
       "      <th>coord_y</th>\n",
       "      <th>coord_z</th>\n",
       "    </tr>\n",
       "  </thead>\n",
       "  <tbody>\n",
       "    <tr>\n",
       "      <th>0</th>\n",
       "      <td>1.3.6.1.4.1.14519.5.2.1.6279.6001.100225287222...</td>\n",
       "      <td>5.651471</td>\n",
       "      <td>0</td>\n",
       "      <td>-128.699421</td>\n",
       "      <td>-175.319272</td>\n",
       "      <td>-298.387506</td>\n",
       "    </tr>\n",
       "    <tr>\n",
       "      <th>1</th>\n",
       "      <td>1.3.6.1.4.1.14519.5.2.1.6279.6001.265775376735...</td>\n",
       "      <td>4.441200</td>\n",
       "      <td>1</td>\n",
       "      <td>-69.175741</td>\n",
       "      <td>218.052625</td>\n",
       "      <td>-668.501273</td>\n",
       "    </tr>\n",
       "    <tr>\n",
       "      <th>2</th>\n",
       "      <td>1.3.6.1.4.1.14519.5.2.1.6279.6001.276556509002...</td>\n",
       "      <td>7.744222</td>\n",
       "      <td>0</td>\n",
       "      <td>-67.459503</td>\n",
       "      <td>-247.744211</td>\n",
       "      <td>-211.095340</td>\n",
       "    </tr>\n",
       "    <tr>\n",
       "      <th>3</th>\n",
       "      <td>1.3.6.1.4.1.14519.5.2.1.6279.6001.276556509002...</td>\n",
       "      <td>6.690036</td>\n",
       "      <td>1</td>\n",
       "      <td>-97.690876</td>\n",
       "      <td>-134.068054</td>\n",
       "      <td>-187.094883</td>\n",
       "    </tr>\n",
       "    <tr>\n",
       "      <th>4</th>\n",
       "      <td>1.3.6.1.4.1.14519.5.2.1.6279.6001.276710697414...</td>\n",
       "      <td>10.824515</td>\n",
       "      <td>1</td>\n",
       "      <td>69.529141</td>\n",
       "      <td>87.036153</td>\n",
       "      <td>-149.190113</td>\n",
       "    </tr>\n",
       "    <tr>\n",
       "      <th>...</th>\n",
       "      <td>...</td>\n",
       "      <td>...</td>\n",
       "      <td>...</td>\n",
       "      <td>...</td>\n",
       "      <td>...</td>\n",
       "      <td>...</td>\n",
       "    </tr>\n",
       "    <tr>\n",
       "      <th>1177</th>\n",
       "      <td>1.3.6.1.4.1.14519.5.2.1.6279.6001.299767339686...</td>\n",
       "      <td>11.801797</td>\n",
       "      <td>1</td>\n",
       "      <td>-57.725518</td>\n",
       "      <td>73.779494</td>\n",
       "      <td>-147.415580</td>\n",
       "    </tr>\n",
       "    <tr>\n",
       "      <th>1178</th>\n",
       "      <td>1.3.6.1.4.1.14519.5.2.1.6279.6001.299767339686...</td>\n",
       "      <td>4.087102</td>\n",
       "      <td>1</td>\n",
       "      <td>-72.287990</td>\n",
       "      <td>-77.481968</td>\n",
       "      <td>-160.486254</td>\n",
       "    </tr>\n",
       "    <tr>\n",
       "      <th>1179</th>\n",
       "      <td>1.3.6.1.4.1.14519.5.2.1.6279.6001.299767339686...</td>\n",
       "      <td>6.326436</td>\n",
       "      <td>1</td>\n",
       "      <td>96.625954</td>\n",
       "      <td>-46.154823</td>\n",
       "      <td>-88.229432</td>\n",
       "    </tr>\n",
       "    <tr>\n",
       "      <th>1180</th>\n",
       "      <td>1.3.6.1.4.1.14519.5.2.1.6279.6001.297433269262...</td>\n",
       "      <td>10.759349</td>\n",
       "      <td>1</td>\n",
       "      <td>33.104795</td>\n",
       "      <td>-63.116434</td>\n",
       "      <td>-108.725571</td>\n",
       "    </tr>\n",
       "    <tr>\n",
       "      <th>1181</th>\n",
       "      <td>1.3.6.1.4.1.14519.5.2.1.6279.6001.309955999522...</td>\n",
       "      <td>9.008402</td>\n",
       "      <td>1</td>\n",
       "      <td>-96.744406</td>\n",
       "      <td>37.573945</td>\n",
       "      <td>-138.160430</td>\n",
       "    </tr>\n",
       "  </tbody>\n",
       "</table>\n",
       "<p>1182 rows × 6 columns</p>\n",
       "</div>"
      ],
      "text/plain": [
       "                                              seriesuid  diameter_mm  class  \\\n",
       "0     1.3.6.1.4.1.14519.5.2.1.6279.6001.100225287222...     5.651471      0   \n",
       "1     1.3.6.1.4.1.14519.5.2.1.6279.6001.265775376735...     4.441200      1   \n",
       "2     1.3.6.1.4.1.14519.5.2.1.6279.6001.276556509002...     7.744222      0   \n",
       "3     1.3.6.1.4.1.14519.5.2.1.6279.6001.276556509002...     6.690036      1   \n",
       "4     1.3.6.1.4.1.14519.5.2.1.6279.6001.276710697414...    10.824515      1   \n",
       "...                                                 ...          ...    ...   \n",
       "1177  1.3.6.1.4.1.14519.5.2.1.6279.6001.299767339686...    11.801797      1   \n",
       "1178  1.3.6.1.4.1.14519.5.2.1.6279.6001.299767339686...     4.087102      1   \n",
       "1179  1.3.6.1.4.1.14519.5.2.1.6279.6001.299767339686...     6.326436      1   \n",
       "1180  1.3.6.1.4.1.14519.5.2.1.6279.6001.297433269262...    10.759349      1   \n",
       "1181  1.3.6.1.4.1.14519.5.2.1.6279.6001.309955999522...     9.008402      1   \n",
       "\n",
       "         coord_x     coord_y     coord_z  \n",
       "0    -128.699421 -175.319272 -298.387506  \n",
       "1     -69.175741  218.052625 -668.501273  \n",
       "2     -67.459503 -247.744211 -211.095340  \n",
       "3     -97.690876 -134.068054 -187.094883  \n",
       "4      69.529141   87.036153 -149.190113  \n",
       "...          ...         ...         ...  \n",
       "1177  -57.725518   73.779494 -147.415580  \n",
       "1178  -72.287990  -77.481968 -160.486254  \n",
       "1179   96.625954  -46.154823  -88.229432  \n",
       "1180   33.104795  -63.116434 -108.725571  \n",
       "1181  -96.744406   37.573945 -138.160430  \n",
       "\n",
       "[1182 rows x 6 columns]"
      ]
     },
     "execution_count": 89,
     "metadata": {},
     "output_type": "execute_result"
    }
   ],
   "source": [
    "nodule_annotations_malignancy = annotations_malignancy.copy()\n",
    "nodule_annotations_malignancy[\"class\"] = enums.CandidateClass.BENIGN\n",
    "nodule_annotations_malignancy.loc[\n",
    "    nodule_annotations_malignancy[\"is_malignant\"] == True, \"class\"  # noqa: E712\n",
    "] = enums.CandidateClass.MALIGNANT\n",
    "nodule_annotations_malignancy = nodule_annotations_malignancy[\n",
    "    [\n",
    "        \"seriesuid\",\n",
    "        \"diameter_mm\",\n",
    "        \"class\",\n",
    "        \"coord_x\",\n",
    "        \"coord_y\",\n",
    "        \"coord_z\",\n",
    "    ]\n",
    "]\n",
    "nodule_annotations_malignancy"
   ]
  },
  {
   "cell_type": "code",
   "execution_count": 90,
   "metadata": {},
   "outputs": [
    {
     "data": {
      "text/plain": [
       "class\n",
       "1    804\n",
       "0    378\n",
       "Name: count, dtype: int64"
      ]
     },
     "execution_count": 90,
     "metadata": {},
     "output_type": "execute_result"
    }
   ],
   "source": [
    "nodule_annotations_malignancy.value_counts(\"class\")"
   ]
  },
  {
   "cell_type": "code",
   "execution_count": 91,
   "metadata": {},
   "outputs": [
    {
     "name": "stdout",
     "output_type": "stream",
     "text": [
      "<class 'pandas.core.frame.DataFrame'>\n",
      "Index: 754600 entries, 0 to 1181\n",
      "Data columns (total 6 columns):\n",
      " #   Column       Non-Null Count   Dtype  \n",
      "---  ------       --------------   -----  \n",
      " 0   seriesuid    754600 non-null  object \n",
      " 1   coord_x      754600 non-null  float64\n",
      " 2   coord_y      754600 non-null  float64\n",
      " 3   coord_z      754600 non-null  float64\n",
      " 4   class        754600 non-null  int64  \n",
      " 5   diameter_mm  754600 non-null  float64\n",
      "dtypes: float64(4), int64(1), object(1)\n",
      "memory usage: 40.3+ MB\n"
     ]
    }
   ],
   "source": [
    "complete_candidates = pd.concat([not_nodule_candidates, nodule_annotations_malignancy])\n",
    "complete_candidates.info()"
   ]
  },
  {
   "cell_type": "code",
   "execution_count": 92,
   "metadata": {},
   "outputs": [
    {
     "data": {
      "text/html": [
       "<div>\n",
       "<style scoped>\n",
       "    .dataframe tbody tr th:only-of-type {\n",
       "        vertical-align: middle;\n",
       "    }\n",
       "\n",
       "    .dataframe tbody tr th {\n",
       "        vertical-align: top;\n",
       "    }\n",
       "\n",
       "    .dataframe thead th {\n",
       "        text-align: right;\n",
       "    }\n",
       "</style>\n",
       "<table border=\"1\" class=\"dataframe\">\n",
       "  <thead>\n",
       "    <tr style=\"text-align: right;\">\n",
       "      <th></th>\n",
       "      <th>seriesuid</th>\n",
       "      <th>coord_x</th>\n",
       "      <th>coord_y</th>\n",
       "      <th>coord_z</th>\n",
       "      <th>class</th>\n",
       "      <th>diameter_mm</th>\n",
       "    </tr>\n",
       "  </thead>\n",
       "  <tbody>\n",
       "    <tr>\n",
       "      <th>0</th>\n",
       "      <td>1.3.6.1.4.1.14519.5.2.1.6279.6001.100225287222...</td>\n",
       "      <td>68.420000</td>\n",
       "      <td>-74.480000</td>\n",
       "      <td>-288.700000</td>\n",
       "      <td>2</td>\n",
       "      <td>0.0</td>\n",
       "    </tr>\n",
       "    <tr>\n",
       "      <th>1</th>\n",
       "      <td>1.3.6.1.4.1.14519.5.2.1.6279.6001.100225287222...</td>\n",
       "      <td>-95.209361</td>\n",
       "      <td>-91.809406</td>\n",
       "      <td>-377.426350</td>\n",
       "      <td>2</td>\n",
       "      <td>0.0</td>\n",
       "    </tr>\n",
       "    <tr>\n",
       "      <th>2</th>\n",
       "      <td>1.3.6.1.4.1.14519.5.2.1.6279.6001.100225287222...</td>\n",
       "      <td>-24.766755</td>\n",
       "      <td>-120.379294</td>\n",
       "      <td>-273.361539</td>\n",
       "      <td>2</td>\n",
       "      <td>0.0</td>\n",
       "    </tr>\n",
       "    <tr>\n",
       "      <th>3</th>\n",
       "      <td>1.3.6.1.4.1.14519.5.2.1.6279.6001.100225287222...</td>\n",
       "      <td>-63.080000</td>\n",
       "      <td>-65.740000</td>\n",
       "      <td>-344.240000</td>\n",
       "      <td>2</td>\n",
       "      <td>0.0</td>\n",
       "    </tr>\n",
       "    <tr>\n",
       "      <th>4</th>\n",
       "      <td>1.3.6.1.4.1.14519.5.2.1.6279.6001.100225287222...</td>\n",
       "      <td>52.946688</td>\n",
       "      <td>-92.688873</td>\n",
       "      <td>-241.067872</td>\n",
       "      <td>2</td>\n",
       "      <td>0.0</td>\n",
       "    </tr>\n",
       "  </tbody>\n",
       "</table>\n",
       "</div>"
      ],
      "text/plain": [
       "                                           seriesuid    coord_x     coord_y  \\\n",
       "0  1.3.6.1.4.1.14519.5.2.1.6279.6001.100225287222...  68.420000  -74.480000   \n",
       "1  1.3.6.1.4.1.14519.5.2.1.6279.6001.100225287222... -95.209361  -91.809406   \n",
       "2  1.3.6.1.4.1.14519.5.2.1.6279.6001.100225287222... -24.766755 -120.379294   \n",
       "3  1.3.6.1.4.1.14519.5.2.1.6279.6001.100225287222... -63.080000  -65.740000   \n",
       "4  1.3.6.1.4.1.14519.5.2.1.6279.6001.100225287222...  52.946688  -92.688873   \n",
       "\n",
       "      coord_z  class  diameter_mm  \n",
       "0 -288.700000      2          0.0  \n",
       "1 -377.426350      2          0.0  \n",
       "2 -273.361539      2          0.0  \n",
       "3 -344.240000      2          0.0  \n",
       "4 -241.067872      2          0.0  "
      ]
     },
     "execution_count": 92,
     "metadata": {},
     "output_type": "execute_result"
    }
   ],
   "source": [
    "complete_candidates.head()"
   ]
  },
  {
   "cell_type": "code",
   "execution_count": 93,
   "metadata": {},
   "outputs": [
    {
     "name": "stdout",
     "output_type": "stream",
     "text": [
      "MALIGNANT = 0\n",
      "BENIGN = 1\n",
      "NOT_NODULE = 2\n"
     ]
    },
    {
     "data": {
      "text/plain": [
       "class\n",
       "2    753418\n",
       "1       804\n",
       "0       378\n",
       "Name: count, dtype: int64"
      ]
     },
     "execution_count": 93,
     "metadata": {},
     "output_type": "execute_result"
    }
   ],
   "source": [
    "for status in enums.CandidateClass:\n",
    "    print(f\"{status.name} = {status.value}\")\n",
    "\n",
    "complete_candidates.value_counts(\"class\")"
   ]
  },
  {
   "cell_type": "code",
   "execution_count": 94,
   "metadata": {},
   "outputs": [
    {
     "data": {
      "text/plain": [
       "count    754600.000000\n",
       "mean          0.012993\n",
       "std           0.378145\n",
       "min           0.000000\n",
       "25%           0.000000\n",
       "50%           0.000000\n",
       "75%           0.000000\n",
       "max          32.270030\n",
       "Name: diameter_mm, dtype: float64"
      ]
     },
     "execution_count": 94,
     "metadata": {},
     "output_type": "execute_result"
    }
   ],
   "source": [
    "diameter_col = complete_candidates[\"diameter_mm\"]\n",
    "diameter_col.describe()"
   ]
  },
  {
   "cell_type": "code",
   "execution_count": 95,
   "metadata": {},
   "outputs": [
    {
     "name": "stdout",
     "output_type": "stream",
     "text": [
      "For 754600 number of complete candidates, the average number of rows with same seriesuid is 849.77.\n"
     ]
    },
    {
     "data": {
      "text/plain": [
       "seriesuid\n",
       "1.3.6.1.4.1.14519.5.2.1.6279.6001.652347820272212119124022644822    2064\n",
       "1.3.6.1.4.1.14519.5.2.1.6279.6001.167237290696350215427953159586    1972\n",
       "1.3.6.1.4.1.14519.5.2.1.6279.6001.168737928729363683423228050295    1825\n",
       "1.3.6.1.4.1.14519.5.2.1.6279.6001.241083615484551649610616348856    1723\n",
       "1.3.6.1.4.1.14519.5.2.1.6279.6001.200725988589959521302320481687    1713\n",
       "                                                                    ... \n",
       "1.3.6.1.4.1.14519.5.2.1.6279.6001.219349715895470349269596532320     215\n",
       "1.3.6.1.4.1.14519.5.2.1.6279.6001.333319057944372470283038483725     208\n",
       "1.3.6.1.4.1.14519.5.2.1.6279.6001.153536305742006952753134773630     207\n",
       "1.3.6.1.4.1.14519.5.2.1.6279.6001.608029415915051219877530734559     185\n",
       "1.3.6.1.4.1.14519.5.2.1.6279.6001.397202838387416555106806022938      66\n",
       "Name: count, Length: 888, dtype: int64"
      ]
     },
     "execution_count": 95,
     "metadata": {},
     "output_type": "execute_result"
    }
   ],
   "source": [
    "series_uid_values_count = complete_candidates.value_counts(\"seriesuid\")\n",
    "n_same_seriesuid_mean_for_complete_candidates = series_uid_values_count.mean()\n",
    "print(\n",
    "    f\"For {len(complete_candidates)} number of complete candidates, the average number \"\n",
    "    f\"of rows with same seriesuid is {n_same_seriesuid_mean_for_complete_candidates:.2f}.\"\n",
    ")\n",
    "series_uid_values_count"
   ]
  },
  {
   "cell_type": "code",
   "execution_count": 96,
   "metadata": {},
   "outputs": [
    {
     "data": {
      "text/plain": [
       "'Number of rows (754600) is the same when we drop duplicates (754600) so our dataframe does not have any duplicates. Thus, we can use seriesuid and center coordinates to uniquely identify rows.'"
      ]
     },
     "execution_count": 96,
     "metadata": {},
     "output_type": "execute_result"
    }
   ],
   "source": [
    "dropped_candidates = complete_candidates[\n",
    "    [\"seriesuid\", \"coord_x\", \"coord_y\", \"coord_z\"]\n",
    "].drop_duplicates()\n",
    "\n",
    "(\n",
    "    f\"Number of rows ({len(complete_candidates)}) is the same when we drop duplicates \"\n",
    "    f\"({len(dropped_candidates)}) so our dataframe does not have any duplicates. Thus, \"\n",
    "    \"we can use seriesuid and center coordinates to uniquely identify rows.\"\n",
    ")"
   ]
  },
  {
   "cell_type": "code",
   "execution_count": 97,
   "metadata": {},
   "outputs": [],
   "source": [
    "complete_candidates_path = settings.DATA_DIR / \"complete_candidates.csv\"\n",
    "complete_candidates.to_csv(complete_candidates_path, index=False)"
   ]
  }
 ],
 "metadata": {
  "kernelspec": {
   "display_name": ".venv",
   "language": "python",
   "name": "python3"
  },
  "language_info": {
   "codemirror_mode": {
    "name": "ipython",
    "version": 3
   },
   "file_extension": ".py",
   "mimetype": "text/x-python",
   "name": "python",
   "nbconvert_exporter": "python",
   "pygments_lexer": "ipython3",
   "version": "3.12.8"
  }
 },
 "nbformat": 4,
 "nbformat_minor": 2
}
