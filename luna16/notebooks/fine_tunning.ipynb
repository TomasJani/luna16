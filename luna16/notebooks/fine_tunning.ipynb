{
 "cells": [
  {
   "cell_type": "markdown",
   "metadata": {},
   "source": [
    "# Fine-Tunning\n",
    "\n"
   ]
  },
  {
   "cell_type": "markdown",
   "metadata": {},
   "source": [
    "\n",
    "<figure>\n",
    "    <center>\n",
    "        <img src=\"attachments/fine_tunning.png\"  style=\"width:750px;\" >\n",
    "    </center>\n",
    "</figure>"
   ]
  },
  {
   "cell_type": "markdown",
   "metadata": {},
   "source": [
    "# ROC - Turning probability into classifications\n",
    "\n",
    "[ROC and AUC, Clearly Explained!](https://www.youtube.com/watch?v=4jRBRDbJemM)"
   ]
  },
  {
   "cell_type": "code",
   "execution_count": 4,
   "metadata": {},
   "outputs": [],
   "source": [
    "%load_ext autoreload\n",
    "%autoreload all\n",
    "%matplotlib inline"
   ]
  },
  {
   "cell_type": "code",
   "execution_count": 5,
   "metadata": {},
   "outputs": [],
   "source": [
    "import torch\n",
    "from matplotlib import pyplot as plt\n",
    "from sklearn.metrics import (\n",
    "    PrecisionRecallDisplay,\n",
    "    RocCurveDisplay,\n",
    "    precision_recall_curve,\n",
    "    roc_curve,\n",
    ")\n",
    "\n",
    "from luna16 import datasets, dto, utils\n",
    "\n",
    "device = utils.get_device()"
   ]
  },
  {
   "cell_type": "code",
   "execution_count": 22,
   "metadata": {},
   "outputs": [
    {
     "name": "stdout",
     "output_type": "stream",
     "text": [
      "[2024-06-19 15:01:45,889][INFO]: MalignantLunaDataset(len=17606, training_len=None, positive_len=40, negative_len=17566, train=False, validation_stride=10)\n"
     ]
    },
    {
     "data": {
      "text/plain": [
       "(17606, 23, 17583)"
      ]
     },
     "execution_count": 22,
     "metadata": {},
     "output_type": "execute_result"
    }
   ],
   "source": [
    "luna_dataset = datasets.MalignantLunaDataset(\n",
    "    validation_stride=10,\n",
    "    train=False,\n",
    "    ratio=dto.LunaMalignantRatio(benign=1, malignant=1, not_module=1),\n",
    ")\n",
    "\n",
    "\n",
    "n_malignant = len(luna_dataset.is_malignant_candidates)\n",
    "# n_not_malignant = n_malignant\n",
    "n_not_malignant = len(luna_dataset.not_malignant_candidates)\n",
    "shortened_not_malignant_candidates = luna_dataset.not_malignant_candidates[\n",
    "    :n_not_malignant\n",
    "]\n",
    "nodules = shortened_not_malignant_candidates + luna_dataset.is_malignant_candidates\n",
    "nodules_malignancy_mask = torch.tensor([n.is_malignant for n in nodules])\n",
    "diameters = torch.tensor([n.diameter_mm for n in nodules])\n",
    "\n",
    "len(nodules_malignancy_mask), n_malignant, n_not_malignant"
   ]
  },
  {
   "cell_type": "code",
   "execution_count": 23,
   "metadata": {},
   "outputs": [
    {
     "data": {
      "text/plain": [
       "[CandidateMalignancyInfo(series_uid='1.3.6.1.4.1.14519.5.2.1.6279.6001.752756872840730509471096155114', is_nodule=True, is_annotated=True, is_malignant=True, diameter_mm=19.65387738, center=CoordinatesXYZ(x=56.39315434, y=67.68008675, z=-64.67445255)),\n",
       " CandidateMalignancyInfo(series_uid='1.3.6.1.4.1.14519.5.2.1.6279.6001.100621383016233746780170740405', is_nodule=True, is_annotated=True, is_malignant=True, diameter_mm=18.54514997, center=CoordinatesXYZ(x=2.441546798, y=172.46488119999998, z=-405.4937318)),\n",
       " CandidateMalignancyInfo(series_uid='1.3.6.1.4.1.14519.5.2.1.6279.6001.100621383016233746780170740405', is_nodule=True, is_annotated=True, is_malignant=True, diameter_mm=18.20857028, center=CoordinatesXYZ(x=90.93171321, y=149.0272657, z=-426.5447146000001)),\n",
       " CandidateMalignancyInfo(series_uid='1.3.6.1.4.1.14519.5.2.1.6279.6001.187451715205085403623595258748', is_nodule=True, is_annotated=True, is_malignant=True, diameter_mm=17.75323185, center=CoordinatesXYZ(x=94.63511683, y=-17.37205941, z=-204.3961269)),\n",
       " CandidateMalignancyInfo(series_uid='1.3.6.1.4.1.14519.5.2.1.6279.6001.227962600322799211676960828223', is_nodule=True, is_annotated=True, is_malignant=True, diameter_mm=17.52596027, center=CoordinatesXYZ(x=72.88274978, y=-1.28143171, z=-56.52006584)),\n",
       " CandidateMalignancyInfo(series_uid='1.3.6.1.4.1.14519.5.2.1.6279.6001.100621383016233746780170740405', is_nodule=True, is_annotated=True, is_malignant=True, diameter_mm=16.38127631, center=CoordinatesXYZ(x=89.54076865, y=196.4051593, z=-515.0733216)),\n",
       " CandidateMalignancyInfo(series_uid='1.3.6.1.4.1.14519.5.2.1.6279.6001.283569726884265181140892667131', is_nodule=True, is_annotated=True, is_malignant=True, diameter_mm=15.997619699999998, center=CoordinatesXYZ(x=54.86650139, y=83.42134104, z=-200.5208054)),\n",
       " CandidateMalignancyInfo(series_uid='1.3.6.1.4.1.14519.5.2.1.6279.6001.243094273518213382155770295147', is_nodule=True, is_annotated=True, is_malignant=True, diameter_mm=15.27003429, center=CoordinatesXYZ(x=36.10138756, y=56.74686, z=-225.4606863)),\n",
       " CandidateMalignancyInfo(series_uid='1.3.6.1.4.1.14519.5.2.1.6279.6001.124663713663969377020085460568', is_nodule=True, is_annotated=True, is_malignant=True, diameter_mm=14.95279904, center=CoordinatesXYZ(x=78.93980901, y=15.80057403, z=-95.35623253)),\n",
       " CandidateMalignancyInfo(series_uid='1.3.6.1.4.1.14519.5.2.1.6279.6001.219909753224298157409438012179', is_nodule=True, is_annotated=True, is_malignant=True, diameter_mm=13.84883567, center=CoordinatesXYZ(x=118.3234759, y=20.24704104, z=-155.2786841)),\n",
       " CandidateMalignancyInfo(series_uid='1.3.6.1.4.1.14519.5.2.1.6279.6001.243094273518213382155770295147', is_nodule=True, is_annotated=True, is_malignant=True, diameter_mm=12.99686424, center=CoordinatesXYZ(x=45.57006602, y=34.24015941, z=-140.1768512)),\n",
       " CandidateMalignancyInfo(series_uid='1.3.6.1.4.1.14519.5.2.1.6279.6001.334517907433161353885866806005', is_nodule=True, is_annotated=True, is_malignant=True, diameter_mm=12.57054118, center=CoordinatesXYZ(x=-90.57045037, y=207.9808255, z=-397.6269191)),\n",
       " CandidateMalignancyInfo(series_uid='1.3.6.1.4.1.14519.5.2.1.6279.6001.243094273518213382155770295147', is_nodule=True, is_annotated=True, is_malignant=True, diameter_mm=12.13959395, center=CoordinatesXYZ(x=62.56152545, y=73.24041758, z=-255.6159586)),\n",
       " CandidateMalignancyInfo(series_uid='1.3.6.1.4.1.14519.5.2.1.6279.6001.259227883564429312164962953756', is_nodule=True, is_annotated=True, is_malignant=True, diameter_mm=10.72670328, center=CoordinatesXYZ(x=-29.1228645, y=48.5569787, z=-85.50543462)),\n",
       " CandidateMalignancyInfo(series_uid='1.3.6.1.4.1.14519.5.2.1.6279.6001.134370886216012873213579659366', is_nodule=True, is_annotated=True, is_malignant=True, diameter_mm=9.326384983, center=CoordinatesXYZ(x=-61.47472636, y=-140.3727694, z=-59.31736202)),\n",
       " CandidateMalignancyInfo(series_uid='1.3.6.1.4.1.14519.5.2.1.6279.6001.124663713663969377020085460568', is_nodule=True, is_annotated=True, is_malignant=True, diameter_mm=9.259814, center=CoordinatesXYZ(x=-86.7371531, y=50.43512096, z=-156.612762)),\n",
       " CandidateMalignancyInfo(series_uid='1.3.6.1.4.1.14519.5.2.1.6279.6001.212346425055214308006918165305', is_nodule=True, is_annotated=True, is_malignant=True, diameter_mm=9.002203924, center=CoordinatesXYZ(x=68.29342162, y=71.32670944, z=-224.2446094)),\n",
       " CandidateMalignancyInfo(series_uid='1.3.6.1.4.1.14519.5.2.1.6279.6001.310548927038333190233889983845', is_nodule=True, is_annotated=True, is_malignant=True, diameter_mm=8.364989395, center=CoordinatesXYZ(x=-46.84173683, y=58.34921221, z=-64.06849523)),\n",
       " CandidateMalignancyInfo(series_uid='1.3.6.1.4.1.14519.5.2.1.6279.6001.334517907433161353885866806005', is_nodule=True, is_annotated=True, is_malignant=True, diameter_mm=8.244643239, center=CoordinatesXYZ(x=-113.00897720000002, y=127.6639141, z=-453.0456329)),\n",
       " CandidateMalignancyInfo(series_uid='1.3.6.1.4.1.14519.5.2.1.6279.6001.243094273518213382155770295147', is_nodule=True, is_annotated=True, is_malignant=True, diameter_mm=8.220380612000001, center=CoordinatesXYZ(x=76.8032595, y=80.64710662, z=-206.0164263)),\n",
       " CandidateMalignancyInfo(series_uid='1.3.6.1.4.1.14519.5.2.1.6279.6001.100621383016233746780170740405', is_nodule=True, is_annotated=True, is_malignant=True, diameter_mm=8.143261682999999, center=CoordinatesXYZ(x=-24.0138242, y=192.1024053, z=-391.0812764)),\n",
       " CandidateMalignancyInfo(series_uid='1.3.6.1.4.1.14519.5.2.1.6279.6001.219909753224298157409438012179', is_nodule=True, is_annotated=True, is_malignant=True, diameter_mm=6.673547135, center=CoordinatesXYZ(x=99.32939332, y=66.55314921, z=-92.09688887)),\n",
       " CandidateMalignancyInfo(series_uid='1.3.6.1.4.1.14519.5.2.1.6279.6001.458525794434429386945463560826', is_nodule=True, is_annotated=True, is_malignant=True, diameter_mm=6.330288195, center=CoordinatesXYZ(x=-19.66337758, y=20.48820018, z=-21.31695749))]"
      ]
     },
     "execution_count": 23,
     "metadata": {},
     "output_type": "execute_result"
    }
   ],
   "source": [
    "luna_dataset.is_malignant_candidates"
   ]
  },
  {
   "cell_type": "code",
   "execution_count": 24,
   "metadata": {},
   "outputs": [
    {
     "data": {
      "text/plain": [
       "(torch.Size([100, 1]), tensor(19.6539), tensor(0.))"
      ]
     },
     "execution_count": 24,
     "metadata": {},
     "output_type": "execute_result"
    }
   ],
   "source": [
    "threshold = torch.linspace(start=diameters.max(), end=diameters.min(), steps=100)\n",
    "threshold[:, None].shape, diameters.max(), diameters.min()"
   ]
  },
  {
   "cell_type": "code",
   "execution_count": 25,
   "metadata": {},
   "outputs": [
    {
     "data": {
      "text/plain": [
       "(torch.Size([17606]), torch.Size([1, 17606]), torch.Size([1, 17606]))"
      ]
     },
     "execution_count": 25,
     "metadata": {},
     "output_type": "execute_result"
    }
   ],
   "source": [
    "# Using any_tensor[None] is the same as unsign unsqueeze on zeroth dimension\n",
    "unsqueezed_explicit = diameters.unsqueeze(0)\n",
    "unsqueezed_implicit = diameters[None]\n",
    "\n",
    "diameters.shape, unsqueezed_explicit.shape, unsqueezed_implicit.shape"
   ]
  },
  {
   "cell_type": "code",
   "execution_count": 26,
   "metadata": {},
   "outputs": [
    {
     "data": {
      "text/plain": [
       "torch.Size([100, 17606])"
      ]
     },
     "execution_count": 26,
     "metadata": {},
     "output_type": "execute_result"
    }
   ],
   "source": [
    "# Diameters must be unsquezed to make it comparable with thresholds\n",
    "# Comparation shapes are [1, 17_659] to [100, 1]\n",
    "threshold_predictions = diameters[None] >= threshold[:, None]\n",
    "\n",
    "# Compare every diameter with n number of threshold.\n",
    "# predictions tensor has 100 bool element for every diameter entry\n",
    "# with value either True if diameter is greater that this threshold\n",
    "# or false of it is not.\n",
    "threshold_predictions.shape"
   ]
  },
  {
   "cell_type": "markdown",
   "metadata": {},
   "source": [
    "## False Positive Rate\n",
    "Other names: False positive rate (FPR), probability of false alarm, fall-out type 1 error\n",
    "\n",
    "$$\n",
    "FPR = \\frac{False \\ Positives}{All \\ Negatives} = \\frac{FP}{FP + TN}\n",
    "$$\n",
    "\n",
    "\n",
    "## True Positive Rate\n",
    "Other names: True positive rate (TPR), recall, sensitivity (SEN), probability of detection, hit rate, power\n",
    "$$\n",
    "TPR = \\frac{True \\ Positives}{All \\ positives} = \\frac{TP}{TP + FN}\n",
    "$$\n",
    "\n",
    "## Positive predictive value \n",
    "Other names: Precision\n",
    "\n",
    "$$\n",
    "PPV = \\frac{True \\ Positives}{Predicted \\ Positives} = \\frac{TP}{TP + FP} \n",
    "$$"
   ]
  },
  {
   "cell_type": "code",
   "execution_count": 27,
   "metadata": {},
   "outputs": [
    {
     "data": {
      "text/plain": [
       "(torch.Size([100]), torch.Size([100]), torch.Size([100]))"
      ]
     },
     "execution_count": 27,
     "metadata": {},
     "output_type": "execute_result"
    }
   ],
   "source": [
    "# Make intersection for prediction (is malignant base on its size) and compare it to ground truth.\n",
    "# Then sum True values getting 100 number representing true positives for every threshold.\n",
    "true_positives_by_threshold = (\n",
    "    threshold_predictions & nodules_malignancy_mask[None]\n",
    ").sum(1).float() / n_malignant\n",
    "\n",
    "# Make intersection for prediction (is malignant base on its size) and compare it to ground truth.\n",
    "# Then sum False values getting 100 number representing false positives for every threshold.\n",
    "false_positives_by_threshold = (\n",
    "    threshold_predictions & ~nodules_malignancy_mask[None]\n",
    ").sum(1).float() / n_not_malignant\n",
    "\n",
    "precision_by_threshold = (threshold_predictions & nodules_malignancy_mask[None]).sum(\n",
    "    1\n",
    ").float() / threshold_predictions.sum(dim=1).float()\n",
    "\n",
    "(\n",
    "    true_positives_by_threshold.shape,\n",
    "    false_positives_by_threshold.shape,\n",
    "    precision_by_threshold.shape,\n",
    ")"
   ]
  },
  {
   "cell_type": "code",
   "execution_count": 28,
   "metadata": {},
   "outputs": [
    {
     "data": {
      "text/plain": [
       "(tensor(0.9999), torch.Size([99]), torch.Size([99]))"
      ]
     },
     "execution_count": 28,
     "metadata": {},
     "output_type": "execute_result"
    }
   ],
   "source": [
    "# To compute the area under this curve, we use numeric integration by the trapezoidal rule\n",
    "# (https://en.wikipedia.org/wiki/Trapezoidal_rule), where we multiply the average TPRs\n",
    "# (on the Y-axis) between two points by the difference of the two FPRs (on the X-axis)\n",
    "# the area of trapezoids between two points of the graph. Then we sum the area of the trapezoids\n",
    "true_positive_diameter_average = (\n",
    "    true_positives_by_threshold[1:] + true_positives_by_threshold[:-1]\n",
    ") / 2\n",
    "false_positive_diameter_difference = (\n",
    "    false_positives_by_threshold[1:] - false_positives_by_threshold[:-1]\n",
    ")\n",
    "auc_diameters = (\n",
    "    false_positive_diameter_difference * true_positive_diameter_average\n",
    ").sum()\n",
    "\n",
    "(\n",
    "    auc_diameters,\n",
    "    true_positive_diameter_average.shape,\n",
    "    false_positive_diameter_difference.shape,\n",
    ")"
   ]
  },
  {
   "cell_type": "code",
   "execution_count": 29,
   "metadata": {},
   "outputs": [
    {
     "data": {
      "text/plain": [
       "tensor(0.9175)"
      ]
     },
     "execution_count": 29,
     "metadata": {},
     "output_type": "execute_result"
    }
   ],
   "source": [
    "precision_diameter_difference = precision_by_threshold[:-1] - precision_by_threshold[1:]\n",
    "auc_diameters_precision = (\n",
    "    precision_diameter_difference * true_positive_diameter_average\n",
    ").sum()\n",
    "\n",
    "auc_diameters_precision"
   ]
  },
  {
   "cell_type": "code",
   "execution_count": 30,
   "metadata": {},
   "outputs": [],
   "source": [
    "true_positive_auc_fill = torch.cat(\n",
    "    (true_positives_by_threshold, torch.tensor([true_positives_by_threshold.min()]))\n",
    ")\n",
    "\n",
    "false_positive_auc_fill = torch.cat(\n",
    "    (false_positives_by_threshold, torch.tensor([false_positives_by_threshold.max()]))\n",
    ")"
   ]
  },
  {
   "cell_type": "code",
   "execution_count": 31,
   "metadata": {},
   "outputs": [
    {
     "data": {
      "text/plain": [
       "tensor([1.0000, 1.0000, 1.0000, 1.0000, 1.0000, 1.0000, 1.0000, 1.0000, 1.0000,\n",
       "        1.0000, 1.0000, 1.0000, 1.0000, 1.0000, 1.0000, 1.0000, 1.0000, 1.0000,\n",
       "        1.0000, 1.0000, 1.0000, 1.0000, 1.0000, 1.0000, 1.0000, 1.0000, 1.0000,\n",
       "        1.0000, 1.0000, 1.0000, 1.0000, 1.0000, 1.0000, 1.0000, 0.9167, 0.9167,\n",
       "        0.9231, 0.9231, 0.9286, 0.9286, 0.9286, 0.9286, 0.9286, 0.9286, 0.9286,\n",
       "        0.9333, 0.9333, 0.9333, 0.9333, 0.9333, 0.9333, 0.8750, 0.8235, 0.8421,\n",
       "        0.8500, 0.8500, 0.8500, 0.8571, 0.8750, 0.8750, 0.8750, 0.8750, 0.8750,\n",
       "        0.8077, 0.8077, 0.7500, 0.7333, 0.7097, 0.6765, 0.6571, 0.6389, 0.6389,\n",
       "        0.6389, 0.6389, 0.6216, 0.6216, 0.6053, 0.5897, 0.5750, 0.5750, 0.5750,\n",
       "        0.5750, 0.5750, 0.5750, 0.5750, 0.5750, 0.5750, 0.5750, 0.5750, 0.5750,\n",
       "        0.5750, 0.5750, 0.5750, 0.5750, 0.5750, 0.5750, 0.5750, 0.5750, 0.5750,\n",
       "        0.0013, 0.0013])"
      ]
     },
     "execution_count": 31,
     "metadata": {},
     "output_type": "execute_result"
    }
   ],
   "source": [
    "precision_auc_fill = torch.cat(\n",
    "    (precision_by_threshold, torch.tensor([precision_by_threshold.min()]))\n",
    ")\n",
    "precision_auc_fill"
   ]
  },
  {
   "cell_type": "code",
   "execution_count": 32,
   "metadata": {},
   "outputs": [
    {
     "name": "stdout",
     "output_type": "stream",
     "text": [
      "0 tensor(19.6539) tensor(0.) tensor(0.0435)\n",
      "1 tensor(19.4554) tensor(0.) tensor(0.0435)\n",
      "2 tensor(19.2568) tensor(0.) tensor(0.0435)\n",
      "3 tensor(19.0583) tensor(0.) tensor(0.0435)\n",
      "4 tensor(18.8598) tensor(0.) tensor(0.0435)\n",
      "5 tensor(18.6613) tensor(0.) tensor(0.0435)\n",
      "6 tensor(18.4627) tensor(0.) tensor(0.0870)\n",
      "7 tensor(18.2642) tensor(0.) tensor(0.0870)\n",
      "8 tensor(18.0657) tensor(0.) tensor(0.1304)\n",
      "9 tensor(17.8672) tensor(0.) tensor(0.1304)\n",
      "10 tensor(17.6686) tensor(0.) tensor(0.1739)\n",
      "11 tensor(17.4701) tensor(0.) tensor(0.2174)\n",
      "12 tensor(17.2716) tensor(0.) tensor(0.2174)\n",
      "13 tensor(17.0731) tensor(0.) tensor(0.2174)\n",
      "14 tensor(16.8745) tensor(0.) tensor(0.2174)\n",
      "15 tensor(16.6760) tensor(0.) tensor(0.2174)\n",
      "16 tensor(16.4775) tensor(0.) tensor(0.2174)\n",
      "17 tensor(16.2790) tensor(0.) tensor(0.2609)\n",
      "18 tensor(16.0804) tensor(0.) tensor(0.2609)\n",
      "19 tensor(15.8819) tensor(0.) tensor(0.3043)\n",
      "20 tensor(15.6834) tensor(0.) tensor(0.3043)\n",
      "21 tensor(15.4849) tensor(0.) tensor(0.3043)\n",
      "22 tensor(15.2863) tensor(0.) tensor(0.3043)\n",
      "23 tensor(15.0878) tensor(0.) tensor(0.3478)\n",
      "24 tensor(14.8893) tensor(0.) tensor(0.3913)\n",
      "25 tensor(14.6908) tensor(0.) tensor(0.3913)\n",
      "26 tensor(14.4923) tensor(0.) tensor(0.3913)\n",
      "27 tensor(14.2937) tensor(0.) tensor(0.3913)\n",
      "28 tensor(14.0952) tensor(0.) tensor(0.3913)\n",
      "29 tensor(13.8967) tensor(0.) tensor(0.3913)\n",
      "30 tensor(13.6982) tensor(0.) tensor(0.4348)\n",
      "31 tensor(13.4996) tensor(0.) tensor(0.4348)\n",
      "32 tensor(13.3011) tensor(0.) tensor(0.4348)\n",
      "33 tensor(13.1026) tensor(0.) tensor(0.4348)\n",
      "34 tensor(12.9041) tensor(5.6873e-05) tensor(0.4783)\n",
      "35 tensor(12.7055) tensor(5.6873e-05) tensor(0.4783)\n",
      "36 tensor(12.5070) tensor(5.6873e-05) tensor(0.5217)\n",
      "37 tensor(12.3085) tensor(5.6873e-05) tensor(0.5217)\n",
      "38 tensor(12.1100) tensor(5.6873e-05) tensor(0.5652)\n",
      "39 tensor(11.9114) tensor(5.6873e-05) tensor(0.5652)\n",
      "40 tensor(11.7129) tensor(5.6873e-05) tensor(0.5652)\n",
      "41 tensor(11.5144) tensor(5.6873e-05) tensor(0.5652)\n",
      "42 tensor(11.3159) tensor(5.6873e-05) tensor(0.5652)\n",
      "43 tensor(11.1173) tensor(5.6873e-05) tensor(0.5652)\n",
      "44 tensor(10.9188) tensor(5.6873e-05) tensor(0.5652)\n",
      "45 tensor(10.7203) tensor(5.6873e-05) tensor(0.6087)\n",
      "46 tensor(10.5218) tensor(5.6873e-05) tensor(0.6087)\n",
      "47 tensor(10.3232) tensor(5.6873e-05) tensor(0.6087)\n",
      "48 tensor(10.1247) tensor(5.6873e-05) tensor(0.6087)\n",
      "49 tensor(9.9262) tensor(5.6873e-05) tensor(0.6087)\n",
      "50 tensor(9.7277) tensor(5.6873e-05) tensor(0.6087)\n",
      "51 tensor(9.5292) tensor(0.0001) tensor(0.6087)\n",
      "52 tensor(9.3306) tensor(0.0002) tensor(0.6087)\n",
      "53 tensor(9.1321) tensor(0.0002) tensor(0.6957)\n",
      "54 tensor(8.9336) tensor(0.0002) tensor(0.7391)\n",
      "55 tensor(8.7351) tensor(0.0002) tensor(0.7391)\n",
      "56 tensor(8.5365) tensor(0.0002) tensor(0.7391)\n",
      "57 tensor(8.3380) tensor(0.0002) tensor(0.7826)\n",
      "58 tensor(8.1395) tensor(0.0002) tensor(0.9130)\n",
      "59 tensor(7.9410) tensor(0.0002) tensor(0.9130)\n",
      "60 tensor(7.7424) tensor(0.0002) tensor(0.9130)\n",
      "61 tensor(7.5439) tensor(0.0002) tensor(0.9130)\n",
      "62 tensor(7.3454) tensor(0.0002) tensor(0.9130)\n",
      "63 tensor(7.1469) tensor(0.0003) tensor(0.9130)\n",
      "64 tensor(6.9483) tensor(0.0003) tensor(0.9130)\n",
      "65 tensor(6.7498) tensor(0.0004) tensor(0.9130)\n",
      "66 tensor(6.5513) tensor(0.0005) tensor(0.9565)\n",
      "67 tensor(6.3528) tensor(0.0005) tensor(0.9565)\n",
      "68 tensor(6.1542) tensor(0.0006) tensor(1.)\n",
      "69 tensor(5.9557) tensor(0.0007) tensor(1.)\n",
      "70 tensor(5.7572) tensor(0.0007) tensor(1.)\n",
      "71 tensor(5.5587) tensor(0.0007) tensor(1.)\n",
      "72 tensor(5.3601) tensor(0.0007) tensor(1.)\n",
      "73 tensor(5.1616) tensor(0.0007) tensor(1.)\n",
      "74 tensor(4.9631) tensor(0.0008) tensor(1.)\n",
      "75 tensor(4.7646) tensor(0.0008) tensor(1.)\n",
      "76 tensor(4.5661) tensor(0.0009) tensor(1.)\n",
      "77 tensor(4.3675) tensor(0.0009) tensor(1.)\n",
      "78 tensor(4.1690) tensor(0.0010) tensor(1.)\n",
      "79 tensor(3.9705) tensor(0.0010) tensor(1.)\n",
      "80 tensor(3.7720) tensor(0.0010) tensor(1.)\n",
      "81 tensor(3.5734) tensor(0.0010) tensor(1.)\n",
      "82 tensor(3.3749) tensor(0.0010) tensor(1.)\n",
      "83 tensor(3.1764) tensor(0.0010) tensor(1.)\n",
      "84 tensor(2.9779) tensor(0.0010) tensor(1.)\n",
      "85 tensor(2.7793) tensor(0.0010) tensor(1.)\n",
      "86 tensor(2.5808) tensor(0.0010) tensor(1.)\n",
      "87 tensor(2.3823) tensor(0.0010) tensor(1.)\n",
      "88 tensor(2.1838) tensor(0.0010) tensor(1.)\n",
      "89 tensor(1.9852) tensor(0.0010) tensor(1.)\n",
      "90 tensor(1.7867) tensor(0.0010) tensor(1.)\n",
      "91 tensor(1.5882) tensor(0.0010) tensor(1.)\n",
      "92 tensor(1.3897) tensor(0.0010) tensor(1.)\n",
      "93 tensor(1.1911) tensor(0.0010) tensor(1.)\n",
      "94 tensor(0.9926) tensor(0.0010) tensor(1.)\n",
      "95 tensor(0.7941) tensor(0.0010) tensor(1.)\n",
      "96 tensor(0.5956) tensor(0.0010) tensor(1.)\n",
      "97 tensor(0.3970) tensor(0.0010) tensor(1.)\n",
      "98 tensor(0.1985) tensor(0.0010) tensor(1.)\n",
      "99 tensor(0.) tensor(1.) tensor(1.)\n"
     ]
    }
   ],
   "source": [
    "for i in range(threshold.shape[0]):\n",
    "    print(\n",
    "        i, threshold[i], false_positives_by_threshold[i], true_positives_by_threshold[i]\n",
    "    )"
   ]
  },
  {
   "cell_type": "code",
   "execution_count": 33,
   "metadata": {},
   "outputs": [
    {
     "name": "stdout",
     "output_type": "stream",
     "text": [
      "Diameter: 9.73, x: 0.93, y: 0.61\n",
      "Diameter: 7.74, x: 0.88, y: 0.91\n"
     ]
    },
    {
     "data": {
      "image/png": "[encoded data removed]",
      "text/plain": [
       "<Figure size 640x480 with 1 Axes>"
      ]
     },
     "metadata": {},
     "output_type": "display_data"
    }
   ],
   "source": [
    "fig, ax = plt.subplots()\n",
    "# Add two threshold as red dots to plot\n",
    "for i in [50, 60]:\n",
    "    ax.scatter(true_positives_by_threshold[i], precision_by_threshold[i], color=\"red\")\n",
    "    print(\n",
    "        f\"Diameter: {round(threshold[i].item(), 2)}, \"\n",
    "        f\"x: {round(precision_by_threshold[i].item(), 2)}, \"\n",
    "        f\"y: {round(true_positives_by_threshold[i].item(), 2)}\"\n",
    "    )\n",
    "# Add fill representing AUC - Area Under the Curve\n",
    "ax.fill(true_positive_auc_fill, precision_auc_fill, facecolor=\"#0077bb\", alpha=0.25)\n",
    "# Plot ROC - Receiver Operating Characteristic Curve\n",
    "ax.plot(\n",
    "    true_positives_by_threshold,\n",
    "    precision_by_threshold,\n",
    "    label=f\"diameter baseline, AUC={auc_diameters_precision:.3f}\",\n",
    ")\n",
    "# Assign metadata to axis\n",
    "ax.set_title(f\"ROC diameter baseline, AUC={auc_diameters_precision:.3f}\")\n",
    "ax.set_ylabel(\"Precision\")\n",
    "ax.set_xlabel(\"Recall\")\n",
    "fig.savefig(\"roc_diameter_baseline.png\")"
   ]
  },
  {
   "cell_type": "code",
   "execution_count": 34,
   "metadata": {},
   "outputs": [
    {
     "name": "stdout",
     "output_type": "stream",
     "text": [
      "Diameter: 7.35, x: 0.0, y: 0.91\n",
      "Diameter: 2.18, x: 0.0, y: 1.0\n"
     ]
    },
    {
     "data": {
      "image/png": "[encoded data removed]",
      "text/plain": [
       "<Figure size 640x480 with 1 Axes>"
      ]
     },
     "metadata": {},
     "output_type": "display_data"
    }
   ],
   "source": [
    "fig, ax = plt.subplots()\n",
    "# Add two threshold as red dots to plot\n",
    "for i in [62, 88]:\n",
    "    ax.scatter(\n",
    "        false_positives_by_threshold[i], true_positives_by_threshold[i], color=\"red\"\n",
    "    )\n",
    "    print(\n",
    "        f\"Diameter: {round(threshold[i].item(), 2)}, \"\n",
    "        f\"x: {round(false_positives_by_threshold[i].item(), 2)}, \"\n",
    "        f\"y: {round(true_positives_by_threshold[i].item(), 2)}\"\n",
    "    )\n",
    "# Add fill representing AUC - Area Under the Curve\n",
    "ax.fill(\n",
    "    false_positive_auc_fill, true_positive_auc_fill, facecolor=\"#0077bb\", alpha=0.25\n",
    ")\n",
    "# Plot ROC - Receiver Operating Characteristic Curve\n",
    "ax.plot(\n",
    "    false_positives_by_threshold,\n",
    "    true_positives_by_threshold,\n",
    "    label=f\"diameter baseline, AUC={auc_diameters:.3f}\",\n",
    ")\n",
    "# Assign metadata to axis\n",
    "ax.set_title(f\"ROC diameter baseline, AUC={auc_diameters:.3f}\")\n",
    "ax.set_ylabel(\"True positive rate\")\n",
    "ax.set_xlabel(\"False positive rate\")\n",
    "fig.savefig(\"roc_diameter_baseline.png\")"
   ]
  },
  {
   "cell_type": "code",
   "execution_count": 49,
   "metadata": {},
   "outputs": [
    {
     "data": {
      "text/plain": [
       "(torch.Size([1760600]), torch.Size([1760600]))"
      ]
     },
     "execution_count": 49,
     "metadata": {},
     "output_type": "execute_result"
    }
   ],
   "source": [
    "y_true = torch.cat([nodules_malignancy_mask for _ in range(100)])\n",
    "probas_pred = threshold_predictions.flatten()\n",
    "\n",
    "y_true.shape, probas_pred.shape"
   ]
  },
  {
   "cell_type": "code",
   "execution_count": 50,
   "metadata": {},
   "outputs": [
    {
     "data": {
      "text/plain": [
       "tensor([False, False, False,  ...,  True,  True,  True])"
      ]
     },
     "execution_count": 50,
     "metadata": {},
     "output_type": "execute_result"
    }
   ],
   "source": [
    "y_true"
   ]
  },
  {
   "cell_type": "code",
   "execution_count": 51,
   "metadata": {},
   "outputs": [
    {
     "name": "stdout",
     "output_type": "stream",
     "text": [
      "[2024-06-19 15:19:25,403][WARNING]: No artists with labels found to put in legend.  Note that artists whose label start with an underscore are ignored when legend() is called with no argument.\n"
     ]
    },
    {
     "data": {
      "image/png": "[encoded data removed]",
      "text/plain": [
       "<Figure size 640x480 with 1 Axes>"
      ]
     },
     "metadata": {},
     "output_type": "display_data"
    }
   ],
   "source": [
    "fpr, tpr, _ = roc_curve(y_true=y_true, y_score=probas_pred)\n",
    "roc_display = RocCurveDisplay(fpr=fpr, tpr=tpr).plot()"
   ]
  },
  {
   "cell_type": "code",
   "execution_count": 46,
   "metadata": {},
   "outputs": [
    {
     "data": {
      "image/png": "[encoded data removed]",
      "text/plain": [
       "<Figure size 640x480 with 1 Axes>"
      ]
     },
     "metadata": {},
     "output_type": "display_data"
    }
   ],
   "source": [
    "precision, recall, _ = precision_recall_curve(y_true=y_true, probas_pred=probas_pred)\n",
    "pr_display = PrecisionRecallDisplay(precision=precision, recall=recall).plot()"
   ]
  },
  {
   "cell_type": "markdown",
   "metadata": {},
   "source": [
    "# Comparing Fine-tuned model to baseline"
   ]
  },
  {
   "cell_type": "code",
   "execution_count": 2,
   "metadata": {},
   "outputs": [],
   "source": [
    "from torch.utils import data as data_utils\n",
    "\n",
    "from luna16 import datasets, models, training"
   ]
  },
  {
   "cell_type": "code",
   "execution_count": 10,
   "metadata": {},
   "outputs": [
    {
     "name": "stdout",
     "output_type": "stream",
     "text": [
      "[2024-06-19 14:40:23,665][INFO]: Fine-tuning from /Users/macbook/Projects/ml/models/luna/malignant/malignant_2024-06-19T14:06:04.642720.best.state, blocks: block4, head_linear\n"
     ]
    },
    {
     "data": {
      "text/plain": [
       "LunaModel(\n",
       "  (tail_batchnorm): BatchNorm3d(1, eps=1e-05, momentum=0.1, affine=True, track_running_stats=True)\n",
       "  (block1): LunaBlock(\n",
       "    (conv1): Conv3d(1, 8, kernel_size=(3, 3, 3), stride=(1, 1, 1), padding=(1, 1, 1))\n",
       "    (relu1): ReLU(inplace=True)\n",
       "    (conv2): Conv3d(8, 8, kernel_size=(3, 3, 3), stride=(1, 1, 1), padding=(1, 1, 1))\n",
       "    (relu2): ReLU(inplace=True)\n",
       "    (maxpool): MaxPool3d(kernel_size=2, stride=2, padding=0, dilation=1, ceil_mode=False)\n",
       "  )\n",
       "  (block2): LunaBlock(\n",
       "    (conv1): Conv3d(8, 16, kernel_size=(3, 3, 3), stride=(1, 1, 1), padding=(1, 1, 1))\n",
       "    (relu1): ReLU(inplace=True)\n",
       "    (conv2): Conv3d(16, 16, kernel_size=(3, 3, 3), stride=(1, 1, 1), padding=(1, 1, 1))\n",
       "    (relu2): ReLU(inplace=True)\n",
       "    (maxpool): MaxPool3d(kernel_size=2, stride=2, padding=0, dilation=1, ceil_mode=False)\n",
       "  )\n",
       "  (block3): LunaBlock(\n",
       "    (conv1): Conv3d(16, 32, kernel_size=(3, 3, 3), stride=(1, 1, 1), padding=(1, 1, 1))\n",
       "    (relu1): ReLU(inplace=True)\n",
       "    (conv2): Conv3d(32, 32, kernel_size=(3, 3, 3), stride=(1, 1, 1), padding=(1, 1, 1))\n",
       "    (relu2): ReLU(inplace=True)\n",
       "    (maxpool): MaxPool3d(kernel_size=2, stride=2, padding=0, dilation=1, ceil_mode=False)\n",
       "  )\n",
       "  (block4): LunaBlock(\n",
       "    (conv1): Conv3d(32, 64, kernel_size=(3, 3, 3), stride=(1, 1, 1), padding=(1, 1, 1))\n",
       "    (relu1): ReLU(inplace=True)\n",
       "    (conv2): Conv3d(64, 64, kernel_size=(3, 3, 3), stride=(1, 1, 1), padding=(1, 1, 1))\n",
       "    (relu2): ReLU(inplace=True)\n",
       "    (maxpool): MaxPool3d(kernel_size=2, stride=2, padding=0, dilation=1, ceil_mode=False)\n",
       "  )\n",
       "  (head_linear): Linear(in_features=1152, out_features=2, bias=True)\n",
       "  (head_softmax): Softmax(dim=1)\n",
       ")"
      ]
     },
     "execution_count": 10,
     "metadata": {},
     "output_type": "execute_result"
    }
   ],
   "source": [
    "state_name = \"malignant_2024-06-19T14:06:04.642720.best.state\"\n",
    "\n",
    "saver = training.ModelSaver(model_name=\"malignant\")\n",
    "model = saver.load_model(\n",
    "    n_excluded_blocks=2, model=models.LunaModel(), state_name=state_name\n",
    ")\n",
    "model.to(device)\n",
    "model.eval()"
   ]
  },
  {
   "cell_type": "code",
   "execution_count": 61,
   "metadata": {},
   "outputs": [
    {
     "name": "stdout",
     "output_type": "stream",
     "text": [
      "[2024-06-19 16:17:55,159][INFO]: MalignantLunaDataset(len=17606, training_len=None, positive_len=40, negative_len=17566, train=False, validation_stride=10)\n"
     ]
    }
   ],
   "source": [
    "luna_dataset = datasets.MalignantLunaDataset(\n",
    "    validation_stride=10,\n",
    "    train=False,\n",
    "    ratio=dto.LunaMalignantRatio(malignant=1, benign=1, not_module=1),\n",
    "    # training_length=1000,\n",
    ")\n",
    "luna_dataloader = data_utils.DataLoader(luna_dataset, batch_size=32, num_workers=4)"
   ]
  },
  {
   "cell_type": "code",
   "execution_count": 62,
   "metadata": {},
   "outputs": [
    {
     "data": {
      "text/plain": [
       "(17606, torch.float32, 17606, torch.bool)"
      ]
     },
     "execution_count": 62,
     "metadata": {},
     "output_type": "execute_result"
    }
   ],
   "source": [
    "_predictions: list[torch.dtype] = []\n",
    "_truths: list[bool] = []\n",
    "for candidates, labels, _, _ in luna_dataloader:\n",
    "    candidates: torch.Tensor = candidates.to(device)\n",
    "    truth = labels[:, 1] > 0\n",
    "    truth_positive: list[bool] = (truth).tolist()\n",
    "    _truths += truth\n",
    "    with torch.no_grad():\n",
    "        _, prediction = model(candidates)\n",
    "        prediction_positive: list[torch.dtype] = prediction[:, 1].tolist()\n",
    "        _predictions += prediction_positive\n",
    "\n",
    "model_predictions = torch.tensor(_predictions)\n",
    "model_truths = torch.tensor(_truths)\n",
    "\n",
    "len(model_predictions), model_predictions.dtype, len(model_truths), truth.dtype"
   ]
  },
  {
   "cell_type": "code",
   "execution_count": 63,
   "metadata": {},
   "outputs": [
    {
     "name": "stdout",
     "output_type": "stream",
     "text": [
      "[2024-06-19 16:26:19,118][WARNING]: No artists with labels found to put in legend.  Note that artists whose label start with an underscore are ignored when legend() is called with no argument.\n"
     ]
    },
    {
     "data": {
      "image/png": "[encoded data removed]",
      "text/plain": [
       "<Figure size 640x480 with 1 Axes>"
      ]
     },
     "metadata": {},
     "output_type": "display_data"
    }
   ],
   "source": [
    "fpr, tpr, _ = roc_curve(model_truths, model_predictions)\n",
    "roc_display = RocCurveDisplay(fpr=fpr, tpr=tpr).plot()"
   ]
  },
  {
   "cell_type": "code",
   "execution_count": 64,
   "metadata": {},
   "outputs": [
    {
     "data": {
      "image/png": "[encoded data removed]",
      "text/plain": [
       "<Figure size 640x480 with 1 Axes>"
      ]
     },
     "metadata": {},
     "output_type": "display_data"
    }
   ],
   "source": [
    "precision, recall, _ = precision_recall_curve(model_truths, model_predictions)\n",
    "pr_display = PrecisionRecallDisplay(precision=precision, recall=recall).plot()"
   ]
  },
  {
   "cell_type": "code",
   "execution_count": null,
   "metadata": {},
   "outputs": [],
   "source": []
  }
 ],
 "metadata": {
  "kernelspec": {
   "display_name": "ml-nightly",
   "language": "python",
   "name": "python3"
  },
  "language_info": {
   "codemirror_mode": {
    "name": "ipython",
    "version": 3
   },
   "file_extension": ".py",
   "mimetype": "text/x-python",
   "name": "python",
   "nbconvert_exporter": "python",
   "pygments_lexer": "ipython3",
   "version": "3.10.13"
  }
 },
 "nbformat": 4,
 "nbformat_minor": 2
}