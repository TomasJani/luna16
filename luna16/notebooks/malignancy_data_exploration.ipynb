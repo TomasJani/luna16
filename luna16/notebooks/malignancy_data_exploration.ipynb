{
 "cells": [
  {
   "cell_type": "markdown",
   "metadata": {},
   "source": [
    "# Malignancy Data Exploration\n"
   ]
  },
  {
   "cell_type": "code",
   "execution_count": 1,
   "metadata": {},
   "outputs": [],
   "source": [
    "import pandas as pd\n",
    "\n",
    "from luna16.settings import settings\n",
    "\n",
    "%matplotlib inline"
   ]
  },
  {
   "cell_type": "markdown",
   "metadata": {},
   "source": [
    "## Malignant Annotation file exploration\n",
    "\n",
    "The `annotations_with_malignancy.csv` file contains information ???"
   ]
  },
  {
   "cell_type": "code",
   "execution_count": 3,
   "metadata": {},
   "outputs": [
    {
     "name": "stdout",
     "output_type": "stream",
     "text": [
      "<class 'pandas.core.frame.DataFrame'>\n",
      "RangeIndex: 1182 entries, 0 to 1181\n",
      "Data columns (total 14 columns):\n",
      " #   Column             Non-Null Count  Dtype  \n",
      "---  ------             --------------  -----  \n",
      " 0   seriesuid          1182 non-null   object \n",
      " 1   coord_x            1182 non-null   float64\n",
      " 2   coord_y            1182 non-null   float64\n",
      " 3   coord_z            1182 non-null   float64\n",
      " 4   diameter_mm        1182 non-null   float64\n",
      " 5   is_malignant       1182 non-null   bool   \n",
      " 6   malignant_details  1182 non-null   object \n",
      " 7   bboxLowX           1182 non-null   float64\n",
      " 8   bboxLowY           1182 non-null   float64\n",
      " 9   bboxLowZ           1182 non-null   float64\n",
      " 10  bboxHighX          1182 non-null   float64\n",
      " 11  bboxHighY          1182 non-null   float64\n",
      " 12  bboxHighZ          1182 non-null   float64\n",
      " 13  len_mal_details    1182 non-null   int64  \n",
      "dtypes: bool(1), float64(10), int64(1), object(2)\n",
      "memory usage: 121.3+ KB\n"
     ]
    }
   ],
   "source": [
    "annotations_malignancy_path = settings.DATA_DIR / \"annotations_with_malignancy.csv\"\n",
    "annotations_malignancy = pd.read_csv(filepath_or_buffer=annotations_malignancy_path)\n",
    "annotations_malignancy.info()"
   ]
  },
  {
   "cell_type": "code",
   "execution_count": 4,
   "metadata": {},
   "outputs": [
    {
     "data": {
      "text/html": [
       "<div>\n",
       "<style scoped>\n",
       "    .dataframe tbody tr th:only-of-type {\n",
       "        vertical-align: middle;\n",
       "    }\n",
       "\n",
       "    .dataframe tbody tr th {\n",
       "        vertical-align: top;\n",
       "    }\n",
       "\n",
       "    .dataframe thead th {\n",
       "        text-align: right;\n",
       "    }\n",
       "</style>\n",
       "<table border=\"1\" class=\"dataframe\">\n",
       "  <thead>\n",
       "    <tr style=\"text-align: right;\">\n",
       "      <th></th>\n",
       "      <th>seriesuid</th>\n",
       "      <th>coord_x</th>\n",
       "      <th>coord_y</th>\n",
       "      <th>coord_z</th>\n",
       "      <th>diameter_mm</th>\n",
       "      <th>is_malignant</th>\n",
       "      <th>malignant_details</th>\n",
       "      <th>bboxLowX</th>\n",
       "      <th>bboxLowY</th>\n",
       "      <th>bboxLowZ</th>\n",
       "      <th>bboxHighX</th>\n",
       "      <th>bboxHighY</th>\n",
       "      <th>bboxHighZ</th>\n",
       "      <th>len_mal_details</th>\n",
       "    </tr>\n",
       "  </thead>\n",
       "  <tbody>\n",
       "    <tr>\n",
       "      <th>0</th>\n",
       "      <td>1.3.6.1.4.1.14519.5.2.1.6279.6001.100225287222...</td>\n",
       "      <td>-128.699421</td>\n",
       "      <td>-175.319272</td>\n",
       "      <td>-298.387506</td>\n",
       "      <td>5.651471</td>\n",
       "      <td>True</td>\n",
       "      <td>[4, 2, 4, 2]</td>\n",
       "      <td>-131.896480</td>\n",
       "      <td>-178.259761</td>\n",
       "      <td>-299.800004</td>\n",
       "      <td>-125.451167</td>\n",
       "      <td>-172.458980</td>\n",
       "      <td>-296.200004</td>\n",
       "      <td>4</td>\n",
       "    </tr>\n",
       "    <tr>\n",
       "      <th>1</th>\n",
       "      <td>1.3.6.1.4.1.14519.5.2.1.6279.6001.265775376735...</td>\n",
       "      <td>-69.175741</td>\n",
       "      <td>218.052625</td>\n",
       "      <td>-668.501273</td>\n",
       "      <td>4.441200</td>\n",
       "      <td>False</td>\n",
       "      <td>[3, 2, 3]</td>\n",
       "      <td>-71.815939</td>\n",
       "      <td>215.709820</td>\n",
       "      <td>-670.900024</td>\n",
       "      <td>-66.722189</td>\n",
       "      <td>220.803570</td>\n",
       "      <td>-666.900024</td>\n",
       "      <td>3</td>\n",
       "    </tr>\n",
       "    <tr>\n",
       "      <th>2</th>\n",
       "      <td>1.3.6.1.4.1.14519.5.2.1.6279.6001.276556509002...</td>\n",
       "      <td>-67.459503</td>\n",
       "      <td>-247.744211</td>\n",
       "      <td>-211.095340</td>\n",
       "      <td>7.744222</td>\n",
       "      <td>True</td>\n",
       "      <td>[5, 3, 4]</td>\n",
       "      <td>-73.027344</td>\n",
       "      <td>-253.847656</td>\n",
       "      <td>-213.100004</td>\n",
       "      <td>-61.074219</td>\n",
       "      <td>-242.558594</td>\n",
       "      <td>-209.500004</td>\n",
       "      <td>3</td>\n",
       "    </tr>\n",
       "    <tr>\n",
       "      <th>3</th>\n",
       "      <td>1.3.6.1.4.1.14519.5.2.1.6279.6001.276556509002...</td>\n",
       "      <td>-97.690876</td>\n",
       "      <td>-134.068054</td>\n",
       "      <td>-187.094883</td>\n",
       "      <td>6.690036</td>\n",
       "      <td>False</td>\n",
       "      <td>[3, 3, 3]</td>\n",
       "      <td>-102.910156</td>\n",
       "      <td>-137.636719</td>\n",
       "      <td>-189.700005</td>\n",
       "      <td>-92.949219</td>\n",
       "      <td>-130.332031</td>\n",
       "      <td>-186.100005</td>\n",
       "      <td>3</td>\n",
       "    </tr>\n",
       "    <tr>\n",
       "      <th>4</th>\n",
       "      <td>1.3.6.1.4.1.14519.5.2.1.6279.6001.276710697414...</td>\n",
       "      <td>69.529141</td>\n",
       "      <td>87.036153</td>\n",
       "      <td>-149.190113</td>\n",
       "      <td>10.824515</td>\n",
       "      <td>False</td>\n",
       "      <td>[3, 3, 5, 2]</td>\n",
       "      <td>63.731247</td>\n",
       "      <td>80.468750</td>\n",
       "      <td>-154.000000</td>\n",
       "      <td>76.231247</td>\n",
       "      <td>93.750000</td>\n",
       "      <td>-144.000000</td>\n",
       "      <td>4</td>\n",
       "    </tr>\n",
       "  </tbody>\n",
       "</table>\n",
       "</div>"
      ],
      "text/plain": [
       "                                           seriesuid     coord_x     coord_y  \\\n",
       "0  1.3.6.1.4.1.14519.5.2.1.6279.6001.100225287222... -128.699421 -175.319272   \n",
       "1  1.3.6.1.4.1.14519.5.2.1.6279.6001.265775376735...  -69.175741  218.052625   \n",
       "2  1.3.6.1.4.1.14519.5.2.1.6279.6001.276556509002...  -67.459503 -247.744211   \n",
       "3  1.3.6.1.4.1.14519.5.2.1.6279.6001.276556509002...  -97.690876 -134.068054   \n",
       "4  1.3.6.1.4.1.14519.5.2.1.6279.6001.276710697414...   69.529141   87.036153   \n",
       "\n",
       "      coord_z  diameter_mm  is_malignant malignant_details    bboxLowX  \\\n",
       "0 -298.387506     5.651471          True      [4, 2, 4, 2] -131.896480   \n",
       "1 -668.501273     4.441200         False         [3, 2, 3]  -71.815939   \n",
       "2 -211.095340     7.744222          True         [5, 3, 4]  -73.027344   \n",
       "3 -187.094883     6.690036         False         [3, 3, 3] -102.910156   \n",
       "4 -149.190113    10.824515         False      [3, 3, 5, 2]   63.731247   \n",
       "\n",
       "     bboxLowY    bboxLowZ   bboxHighX   bboxHighY   bboxHighZ  len_mal_details  \n",
       "0 -178.259761 -299.800004 -125.451167 -172.458980 -296.200004                4  \n",
       "1  215.709820 -670.900024  -66.722189  220.803570 -666.900024                3  \n",
       "2 -253.847656 -213.100004  -61.074219 -242.558594 -209.500004                3  \n",
       "3 -137.636719 -189.700005  -92.949219 -130.332031 -186.100005                3  \n",
       "4   80.468750 -154.000000   76.231247   93.750000 -144.000000                4  "
      ]
     },
     "execution_count": 4,
     "metadata": {},
     "output_type": "execute_result"
    }
   ],
   "source": [
    "annotations_malignancy.head()"
   ]
  },
  {
   "cell_type": "code",
   "execution_count": 5,
   "metadata": {},
   "outputs": [
    {
     "name": "stdout",
     "output_type": "stream",
     "text": [
      "Annotations with malignancy dataframe has 1182 rows and 600 unique series uid values.\n"
     ]
    }
   ],
   "source": [
    "n_annotations_malignancy = len(annotations_malignancy)\n",
    "n_unique_annotations_malignancy_seriesuids = len(\n",
    "    annotations_malignancy.seriesuid.unique()\n",
    ")\n",
    "print(\n",
    "    f\"Annotations with malignancy dataframe has {n_annotations_malignancy} rows and {n_unique_annotations_malignancy_seriesuids} unique series uid values.\"\n",
    ")"
   ]
  },
  {
   "cell_type": "code",
   "execution_count": 6,
   "metadata": {},
   "outputs": [
    {
     "name": "stdout",
     "output_type": "stream",
     "text": [
      "For 1182 number of annotations with malignancy, the average number of rows with same seriesuid is 1.97.\n"
     ]
    },
    {
     "data": {
      "text/plain": [
       "seriesuid\n",
       "1.3.6.1.4.1.14519.5.2.1.6279.6001.176030616406569931557298712518    12\n",
       "1.3.6.1.4.1.14519.5.2.1.6279.6001.219428004988664846407984058588     9\n",
       "1.3.6.1.4.1.14519.5.2.1.6279.6001.195557219224169985110295082004     9\n",
       "1.3.6.1.4.1.14519.5.2.1.6279.6001.202187810895588720702176009630     9\n",
       "1.3.6.1.4.1.14519.5.2.1.6279.6001.328789598898469177563438457842     9\n",
       "                                                                    ..\n",
       "1.3.6.1.4.1.14519.5.2.1.6279.6001.321465552859463184018938648244     1\n",
       "1.3.6.1.4.1.14519.5.2.1.6279.6001.320111824803959660037459294083     1\n",
       "1.3.6.1.4.1.14519.5.2.1.6279.6001.317087518531899043292346860596     1\n",
       "1.3.6.1.4.1.14519.5.2.1.6279.6001.316911475886263032009840828684     1\n",
       "1.3.6.1.4.1.14519.5.2.1.6279.6001.174168737938619557573021395302     1\n",
       "Name: count, Length: 600, dtype: int64"
      ]
     },
     "execution_count": 6,
     "metadata": {},
     "output_type": "execute_result"
    }
   ],
   "source": [
    "series_uid_values_count = annotations_malignancy[\"seriesuid\"].value_counts()\n",
    "n_same_seriesuid_mean_for_annotations_malignancy = series_uid_values_count.mean()\n",
    "print(\n",
    "    f\"For {len(annotations_malignancy)} number of annotations with malignancy, the average number \"\n",
    "    f\"of rows with same seriesuid is {n_same_seriesuid_mean_for_annotations_malignancy:.2f}.\"\n",
    ")\n",
    "series_uid_values_count"
   ]
  },
  {
   "cell_type": "code",
   "execution_count": 7,
   "metadata": {},
   "outputs": [
    {
     "data": {
      "text/plain": [
       "is_malignant\n",
       "False    804\n",
       "True     378\n",
       "Name: count, dtype: int64"
      ]
     },
     "execution_count": 7,
     "metadata": {},
     "output_type": "execute_result"
    }
   ],
   "source": [
    "annotations_malignancy[\"is_malignant\"].value_counts()"
   ]
  },
  {
   "cell_type": "markdown",
   "metadata": {},
   "source": [
    "## Candidates File Exploration"
   ]
  },
  {
   "cell_type": "code",
   "execution_count": 31,
   "metadata": {},
   "outputs": [
    {
     "name": "stdout",
     "output_type": "stream",
     "text": [
      "<class 'pandas.core.frame.DataFrame'>\n",
      "RangeIndex: 754975 entries, 0 to 754974\n",
      "Data columns (total 5 columns):\n",
      " #   Column     Non-Null Count   Dtype  \n",
      "---  ------     --------------   -----  \n",
      " 0   seriesuid  754975 non-null  object \n",
      " 1   coordX     754975 non-null  float64\n",
      " 2   coordY     754975 non-null  float64\n",
      " 3   coordZ     754975 non-null  float64\n",
      " 4   class      754975 non-null  int64  \n",
      "dtypes: float64(3), int64(1), object(1)\n",
      "memory usage: 28.8+ MB\n"
     ]
    }
   ],
   "source": [
    "candidates_path = settings.DATA_DIR / \"candidates.csv\"\n",
    "candidates_v2_path = settings.DATA_DIR / \"candidates_v2.csv\"\n",
    "candidates = pd.read_csv(filepath_or_buffer=candidates_v2_path)\n",
    "candidates.info()"
   ]
  },
  {
   "cell_type": "code",
   "execution_count": 41,
   "metadata": {},
   "outputs": [
    {
     "name": "stdout",
     "output_type": "stream",
     "text": [
      "LuNA 16 contains 1557 nodules and 753418 not nodules.\n",
      "Nodules are 0.21%.\n"
     ]
    },
    {
     "data": {
      "text/plain": [
       "class\n",
       "0    753418\n",
       "1      1557\n",
       "Name: count, dtype: int64"
      ]
     },
     "execution_count": 41,
     "metadata": {},
     "output_type": "execute_result"
    }
   ],
   "source": [
    "n_is_nodules = len(candidates[candidates[\"class\"] == 1])\n",
    "n_not_nodules = len(candidates[candidates[\"class\"] == 0])\n",
    "percentage_of_malignant = (100 * n_is_nodules) / len(candidates)\n",
    "\n",
    "print(f\"LuNA 16 contains {n_is_nodules} nodules and {n_not_nodules} not nodules.\")\n",
    "print(f\"Nodules are {percentage_of_malignant:.2f}%.\")\n",
    "\n",
    "candidates[\"class\"].value_counts()"
   ]
  },
  {
   "cell_type": "code",
   "execution_count": 42,
   "metadata": {},
   "outputs": [
    {
     "name": "stdout",
     "output_type": "stream",
     "text": [
      "Candidates dataframe has 754975 rows and 888 unique series uid values.\n"
     ]
    }
   ],
   "source": [
    "n_candidates = len(candidates)\n",
    "n_unique_candidates_seriesuids = len(candidates.seriesuid.unique())\n",
    "print(\n",
    "    f\"Candidates dataframe has {n_candidates} rows and {n_unique_candidates_seriesuids} unique series uid values.\"\n",
    ")"
   ]
  },
  {
   "cell_type": "code",
   "execution_count": 43,
   "metadata": {},
   "outputs": [
    {
     "name": "stdout",
     "output_type": "stream",
     "text": [
      "For 754975 number of candidates, the average number of rows with same seriesuid is 850.20.\n"
     ]
    },
    {
     "data": {
      "text/plain": [
       "seriesuid\n",
       "1.3.6.1.4.1.14519.5.2.1.6279.6001.652347820272212119124022644822    2066\n",
       "1.3.6.1.4.1.14519.5.2.1.6279.6001.167237290696350215427953159586    1973\n",
       "1.3.6.1.4.1.14519.5.2.1.6279.6001.168737928729363683423228050295    1828\n",
       "1.3.6.1.4.1.14519.5.2.1.6279.6001.241083615484551649610616348856    1723\n",
       "1.3.6.1.4.1.14519.5.2.1.6279.6001.200725988589959521302320481687    1713\n",
       "                                                                    ... \n",
       "1.3.6.1.4.1.14519.5.2.1.6279.6001.219349715895470349269596532320     215\n",
       "1.3.6.1.4.1.14519.5.2.1.6279.6001.333319057944372470283038483725     208\n",
       "1.3.6.1.4.1.14519.5.2.1.6279.6001.153536305742006952753134773630     207\n",
       "1.3.6.1.4.1.14519.5.2.1.6279.6001.608029415915051219877530734559     185\n",
       "1.3.6.1.4.1.14519.5.2.1.6279.6001.397202838387416555106806022938      66\n",
       "Name: count, Length: 888, dtype: int64"
      ]
     },
     "execution_count": 43,
     "metadata": {},
     "output_type": "execute_result"
    }
   ],
   "source": [
    "series_uid_values_count = candidates[\"seriesuid\"].value_counts()\n",
    "n_same_seriesuid_mean_for_candidates = series_uid_values_count.mean()\n",
    "print(\n",
    "    f\"For {len(candidates)} number of candidates, the average number \"\n",
    "    f\"of rows with same seriesuid is {n_same_seriesuid_mean_for_candidates:.2f}.\"\n",
    ")\n",
    "series_uid_values_count"
   ]
  },
  {
   "cell_type": "markdown",
   "metadata": {},
   "source": [
    "# Concat Annotations  and Candidates"
   ]
  },
  {
   "cell_type": "code",
   "execution_count": 44,
   "metadata": {},
   "outputs": [
    {
     "name": "stdout",
     "output_type": "stream",
     "text": [
      "<class 'pandas.core.frame.DataFrame'>\n",
      "RangeIndex: 1182 entries, 0 to 1181\n",
      "Data columns (total 16 columns):\n",
      " #   Column             Non-Null Count  Dtype  \n",
      "---  ------             --------------  -----  \n",
      " 0   seriesuid          1182 non-null   object \n",
      " 1   coord_x            1182 non-null   float64\n",
      " 2   coord_y            1182 non-null   float64\n",
      " 3   coord_z            1182 non-null   float64\n",
      " 4   diameter_mm        1182 non-null   float64\n",
      " 5   is_malignant       1182 non-null   bool   \n",
      " 6   malignant_details  1182 non-null   object \n",
      " 7   bboxLowX           1182 non-null   float64\n",
      " 8   bboxLowY           1182 non-null   float64\n",
      " 9   bboxLowZ           1182 non-null   float64\n",
      " 10  bboxHighX          1182 non-null   float64\n",
      " 11  bboxHighY          1182 non-null   float64\n",
      " 12  bboxHighZ          1182 non-null   float64\n",
      " 13  len_mal_details    1182 non-null   int64  \n",
      " 14  is_nodule          1182 non-null   bool   \n",
      " 15  is_annotated       1182 non-null   bool   \n",
      "dtypes: bool(3), float64(10), int64(1), object(2)\n",
      "memory usage: 123.6+ KB\n"
     ]
    }
   ],
   "source": [
    "annotations_malignancy.info()"
   ]
  },
  {
   "cell_type": "code",
   "execution_count": 45,
   "metadata": {},
   "outputs": [
    {
     "data": {
      "text/html": [
       "<div>\n",
       "<style scoped>\n",
       "    .dataframe tbody tr th:only-of-type {\n",
       "        vertical-align: middle;\n",
       "    }\n",
       "\n",
       "    .dataframe tbody tr th {\n",
       "        vertical-align: top;\n",
       "    }\n",
       "\n",
       "    .dataframe thead th {\n",
       "        text-align: right;\n",
       "    }\n",
       "</style>\n",
       "<table border=\"1\" class=\"dataframe\">\n",
       "  <thead>\n",
       "    <tr style=\"text-align: right;\">\n",
       "      <th></th>\n",
       "      <th>seriesuid</th>\n",
       "      <th>diameter_mm</th>\n",
       "      <th>is_nodule</th>\n",
       "      <th>is_annotated</th>\n",
       "      <th>is_malignant</th>\n",
       "      <th>coord_x</th>\n",
       "      <th>coord_y</th>\n",
       "      <th>coord_z</th>\n",
       "    </tr>\n",
       "  </thead>\n",
       "  <tbody>\n",
       "    <tr>\n",
       "      <th>0</th>\n",
       "      <td>1.3.6.1.4.1.14519.5.2.1.6279.6001.100225287222...</td>\n",
       "      <td>0.0</td>\n",
       "      <td>False</td>\n",
       "      <td>False</td>\n",
       "      <td>False</td>\n",
       "      <td>68.420000</td>\n",
       "      <td>-74.480000</td>\n",
       "      <td>-288.700000</td>\n",
       "    </tr>\n",
       "    <tr>\n",
       "      <th>1</th>\n",
       "      <td>1.3.6.1.4.1.14519.5.2.1.6279.6001.100225287222...</td>\n",
       "      <td>0.0</td>\n",
       "      <td>False</td>\n",
       "      <td>False</td>\n",
       "      <td>False</td>\n",
       "      <td>-95.209361</td>\n",
       "      <td>-91.809406</td>\n",
       "      <td>-377.426350</td>\n",
       "    </tr>\n",
       "    <tr>\n",
       "      <th>2</th>\n",
       "      <td>1.3.6.1.4.1.14519.5.2.1.6279.6001.100225287222...</td>\n",
       "      <td>0.0</td>\n",
       "      <td>False</td>\n",
       "      <td>False</td>\n",
       "      <td>False</td>\n",
       "      <td>-24.766755</td>\n",
       "      <td>-120.379294</td>\n",
       "      <td>-273.361539</td>\n",
       "    </tr>\n",
       "    <tr>\n",
       "      <th>3</th>\n",
       "      <td>1.3.6.1.4.1.14519.5.2.1.6279.6001.100225287222...</td>\n",
       "      <td>0.0</td>\n",
       "      <td>False</td>\n",
       "      <td>False</td>\n",
       "      <td>False</td>\n",
       "      <td>-63.080000</td>\n",
       "      <td>-65.740000</td>\n",
       "      <td>-344.240000</td>\n",
       "    </tr>\n",
       "    <tr>\n",
       "      <th>4</th>\n",
       "      <td>1.3.6.1.4.1.14519.5.2.1.6279.6001.100225287222...</td>\n",
       "      <td>0.0</td>\n",
       "      <td>False</td>\n",
       "      <td>False</td>\n",
       "      <td>False</td>\n",
       "      <td>52.946688</td>\n",
       "      <td>-92.688873</td>\n",
       "      <td>-241.067872</td>\n",
       "    </tr>\n",
       "    <tr>\n",
       "      <th>...</th>\n",
       "      <td>...</td>\n",
       "      <td>...</td>\n",
       "      <td>...</td>\n",
       "      <td>...</td>\n",
       "      <td>...</td>\n",
       "      <td>...</td>\n",
       "      <td>...</td>\n",
       "      <td>...</td>\n",
       "    </tr>\n",
       "    <tr>\n",
       "      <th>754970</th>\n",
       "      <td>1.3.6.1.4.1.14519.5.2.1.6279.6001.997611074084...</td>\n",
       "      <td>0.0</td>\n",
       "      <td>False</td>\n",
       "      <td>False</td>\n",
       "      <td>False</td>\n",
       "      <td>-33.400000</td>\n",
       "      <td>-64.200000</td>\n",
       "      <td>-115.560000</td>\n",
       "    </tr>\n",
       "    <tr>\n",
       "      <th>754971</th>\n",
       "      <td>1.3.6.1.4.1.14519.5.2.1.6279.6001.997611074084...</td>\n",
       "      <td>0.0</td>\n",
       "      <td>False</td>\n",
       "      <td>False</td>\n",
       "      <td>False</td>\n",
       "      <td>56.236359</td>\n",
       "      <td>70.352400</td>\n",
       "      <td>-203.446236</td>\n",
       "    </tr>\n",
       "    <tr>\n",
       "      <th>754972</th>\n",
       "      <td>1.3.6.1.4.1.14519.5.2.1.6279.6001.997611074084...</td>\n",
       "      <td>0.0</td>\n",
       "      <td>False</td>\n",
       "      <td>False</td>\n",
       "      <td>False</td>\n",
       "      <td>-97.104221</td>\n",
       "      <td>55.738289</td>\n",
       "      <td>-203.879785</td>\n",
       "    </tr>\n",
       "    <tr>\n",
       "      <th>754973</th>\n",
       "      <td>1.3.6.1.4.1.14519.5.2.1.6279.6001.997611074084...</td>\n",
       "      <td>0.0</td>\n",
       "      <td>False</td>\n",
       "      <td>False</td>\n",
       "      <td>False</td>\n",
       "      <td>-65.470000</td>\n",
       "      <td>59.670000</td>\n",
       "      <td>-136.370000</td>\n",
       "    </tr>\n",
       "    <tr>\n",
       "      <th>754974</th>\n",
       "      <td>1.3.6.1.4.1.14519.5.2.1.6279.6001.997611074084...</td>\n",
       "      <td>0.0</td>\n",
       "      <td>False</td>\n",
       "      <td>False</td>\n",
       "      <td>False</td>\n",
       "      <td>-3.100000</td>\n",
       "      <td>-10.660000</td>\n",
       "      <td>-27.470000</td>\n",
       "    </tr>\n",
       "  </tbody>\n",
       "</table>\n",
       "<p>754975 rows × 8 columns</p>\n",
       "</div>"
      ],
      "text/plain": [
       "                                                seriesuid  diameter_mm  \\\n",
       "0       1.3.6.1.4.1.14519.5.2.1.6279.6001.100225287222...          0.0   \n",
       "1       1.3.6.1.4.1.14519.5.2.1.6279.6001.100225287222...          0.0   \n",
       "2       1.3.6.1.4.1.14519.5.2.1.6279.6001.100225287222...          0.0   \n",
       "3       1.3.6.1.4.1.14519.5.2.1.6279.6001.100225287222...          0.0   \n",
       "4       1.3.6.1.4.1.14519.5.2.1.6279.6001.100225287222...          0.0   \n",
       "...                                                   ...          ...   \n",
       "754970  1.3.6.1.4.1.14519.5.2.1.6279.6001.997611074084...          0.0   \n",
       "754971  1.3.6.1.4.1.14519.5.2.1.6279.6001.997611074084...          0.0   \n",
       "754972  1.3.6.1.4.1.14519.5.2.1.6279.6001.997611074084...          0.0   \n",
       "754973  1.3.6.1.4.1.14519.5.2.1.6279.6001.997611074084...          0.0   \n",
       "754974  1.3.6.1.4.1.14519.5.2.1.6279.6001.997611074084...          0.0   \n",
       "\n",
       "        is_nodule  is_annotated  is_malignant    coord_x     coord_y  \\\n",
       "0           False         False         False  68.420000  -74.480000   \n",
       "1           False         False         False -95.209361  -91.809406   \n",
       "2           False         False         False -24.766755 -120.379294   \n",
       "3           False         False         False -63.080000  -65.740000   \n",
       "4           False         False         False  52.946688  -92.688873   \n",
       "...           ...           ...           ...        ...         ...   \n",
       "754970      False         False         False -33.400000  -64.200000   \n",
       "754971      False         False         False  56.236359   70.352400   \n",
       "754972      False         False         False -97.104221   55.738289   \n",
       "754973      False         False         False -65.470000   59.670000   \n",
       "754974      False         False         False  -3.100000  -10.660000   \n",
       "\n",
       "           coord_z  \n",
       "0      -288.700000  \n",
       "1      -377.426350  \n",
       "2      -273.361539  \n",
       "3      -344.240000  \n",
       "4      -241.067872  \n",
       "...            ...  \n",
       "754970 -115.560000  \n",
       "754971 -203.446236  \n",
       "754972 -203.879785  \n",
       "754973 -136.370000  \n",
       "754974  -27.470000  \n",
       "\n",
       "[754975 rows x 8 columns]"
      ]
     },
     "execution_count": 45,
     "metadata": {},
     "output_type": "execute_result"
    }
   ],
   "source": [
    "candidates[\"diameter_mm\"] = 0.0\n",
    "candidates[\"is_nodule\"] = False\n",
    "candidates[\"is_annotated\"] = False\n",
    "candidates[\"is_malignant\"] = False\n",
    "candidates.rename(\n",
    "    columns={\"coordX\": \"coord_x\", \"coordY\": \"coord_y\", \"coordZ\": \"coord_z\"},\n",
    "    inplace=True,\n",
    ")\n",
    "not_nodule_candidates = candidates[\n",
    "    [\n",
    "        \"seriesuid\",\n",
    "        \"diameter_mm\",\n",
    "        \"is_nodule\",\n",
    "        \"is_annotated\",\n",
    "        \"is_malignant\",\n",
    "        \"coord_x\",\n",
    "        \"coord_y\",\n",
    "        \"coord_z\",\n",
    "    ]\n",
    "]\n",
    "not_nodule_candidates"
   ]
  },
  {
   "cell_type": "code",
   "execution_count": 46,
   "metadata": {},
   "outputs": [
    {
     "data": {
      "text/html": [
       "<div>\n",
       "<style scoped>\n",
       "    .dataframe tbody tr th:only-of-type {\n",
       "        vertical-align: middle;\n",
       "    }\n",
       "\n",
       "    .dataframe tbody tr th {\n",
       "        vertical-align: top;\n",
       "    }\n",
       "\n",
       "    .dataframe thead th {\n",
       "        text-align: right;\n",
       "    }\n",
       "</style>\n",
       "<table border=\"1\" class=\"dataframe\">\n",
       "  <thead>\n",
       "    <tr style=\"text-align: right;\">\n",
       "      <th></th>\n",
       "      <th>seriesuid</th>\n",
       "      <th>diameter_mm</th>\n",
       "      <th>is_nodule</th>\n",
       "      <th>is_annotated</th>\n",
       "      <th>is_malignant</th>\n",
       "      <th>coord_x</th>\n",
       "      <th>coord_y</th>\n",
       "      <th>coord_z</th>\n",
       "    </tr>\n",
       "  </thead>\n",
       "  <tbody>\n",
       "    <tr>\n",
       "      <th>0</th>\n",
       "      <td>1.3.6.1.4.1.14519.5.2.1.6279.6001.100225287222...</td>\n",
       "      <td>5.651471</td>\n",
       "      <td>True</td>\n",
       "      <td>True</td>\n",
       "      <td>True</td>\n",
       "      <td>-128.699421</td>\n",
       "      <td>-175.319272</td>\n",
       "      <td>-298.387506</td>\n",
       "    </tr>\n",
       "    <tr>\n",
       "      <th>1</th>\n",
       "      <td>1.3.6.1.4.1.14519.5.2.1.6279.6001.265775376735...</td>\n",
       "      <td>4.441200</td>\n",
       "      <td>True</td>\n",
       "      <td>True</td>\n",
       "      <td>False</td>\n",
       "      <td>-69.175741</td>\n",
       "      <td>218.052625</td>\n",
       "      <td>-668.501273</td>\n",
       "    </tr>\n",
       "    <tr>\n",
       "      <th>2</th>\n",
       "      <td>1.3.6.1.4.1.14519.5.2.1.6279.6001.276556509002...</td>\n",
       "      <td>7.744222</td>\n",
       "      <td>True</td>\n",
       "      <td>True</td>\n",
       "      <td>True</td>\n",
       "      <td>-67.459503</td>\n",
       "      <td>-247.744211</td>\n",
       "      <td>-211.095340</td>\n",
       "    </tr>\n",
       "    <tr>\n",
       "      <th>3</th>\n",
       "      <td>1.3.6.1.4.1.14519.5.2.1.6279.6001.276556509002...</td>\n",
       "      <td>6.690036</td>\n",
       "      <td>True</td>\n",
       "      <td>True</td>\n",
       "      <td>False</td>\n",
       "      <td>-97.690876</td>\n",
       "      <td>-134.068054</td>\n",
       "      <td>-187.094883</td>\n",
       "    </tr>\n",
       "    <tr>\n",
       "      <th>4</th>\n",
       "      <td>1.3.6.1.4.1.14519.5.2.1.6279.6001.276710697414...</td>\n",
       "      <td>10.824515</td>\n",
       "      <td>True</td>\n",
       "      <td>True</td>\n",
       "      <td>False</td>\n",
       "      <td>69.529141</td>\n",
       "      <td>87.036153</td>\n",
       "      <td>-149.190113</td>\n",
       "    </tr>\n",
       "    <tr>\n",
       "      <th>...</th>\n",
       "      <td>...</td>\n",
       "      <td>...</td>\n",
       "      <td>...</td>\n",
       "      <td>...</td>\n",
       "      <td>...</td>\n",
       "      <td>...</td>\n",
       "      <td>...</td>\n",
       "      <td>...</td>\n",
       "    </tr>\n",
       "    <tr>\n",
       "      <th>1177</th>\n",
       "      <td>1.3.6.1.4.1.14519.5.2.1.6279.6001.299767339686...</td>\n",
       "      <td>11.801797</td>\n",
       "      <td>True</td>\n",
       "      <td>True</td>\n",
       "      <td>False</td>\n",
       "      <td>-57.725518</td>\n",
       "      <td>73.779494</td>\n",
       "      <td>-147.415580</td>\n",
       "    </tr>\n",
       "    <tr>\n",
       "      <th>1178</th>\n",
       "      <td>1.3.6.1.4.1.14519.5.2.1.6279.6001.299767339686...</td>\n",
       "      <td>4.087102</td>\n",
       "      <td>True</td>\n",
       "      <td>True</td>\n",
       "      <td>False</td>\n",
       "      <td>-72.287990</td>\n",
       "      <td>-77.481968</td>\n",
       "      <td>-160.486254</td>\n",
       "    </tr>\n",
       "    <tr>\n",
       "      <th>1179</th>\n",
       "      <td>1.3.6.1.4.1.14519.5.2.1.6279.6001.299767339686...</td>\n",
       "      <td>6.326436</td>\n",
       "      <td>True</td>\n",
       "      <td>True</td>\n",
       "      <td>False</td>\n",
       "      <td>96.625954</td>\n",
       "      <td>-46.154823</td>\n",
       "      <td>-88.229432</td>\n",
       "    </tr>\n",
       "    <tr>\n",
       "      <th>1180</th>\n",
       "      <td>1.3.6.1.4.1.14519.5.2.1.6279.6001.297433269262...</td>\n",
       "      <td>10.759349</td>\n",
       "      <td>True</td>\n",
       "      <td>True</td>\n",
       "      <td>False</td>\n",
       "      <td>33.104795</td>\n",
       "      <td>-63.116434</td>\n",
       "      <td>-108.725571</td>\n",
       "    </tr>\n",
       "    <tr>\n",
       "      <th>1181</th>\n",
       "      <td>1.3.6.1.4.1.14519.5.2.1.6279.6001.309955999522...</td>\n",
       "      <td>9.008402</td>\n",
       "      <td>True</td>\n",
       "      <td>True</td>\n",
       "      <td>False</td>\n",
       "      <td>-96.744406</td>\n",
       "      <td>37.573945</td>\n",
       "      <td>-138.160430</td>\n",
       "    </tr>\n",
       "  </tbody>\n",
       "</table>\n",
       "<p>1182 rows × 8 columns</p>\n",
       "</div>"
      ],
      "text/plain": [
       "                                              seriesuid  diameter_mm  \\\n",
       "0     1.3.6.1.4.1.14519.5.2.1.6279.6001.100225287222...     5.651471   \n",
       "1     1.3.6.1.4.1.14519.5.2.1.6279.6001.265775376735...     4.441200   \n",
       "2     1.3.6.1.4.1.14519.5.2.1.6279.6001.276556509002...     7.744222   \n",
       "3     1.3.6.1.4.1.14519.5.2.1.6279.6001.276556509002...     6.690036   \n",
       "4     1.3.6.1.4.1.14519.5.2.1.6279.6001.276710697414...    10.824515   \n",
       "...                                                 ...          ...   \n",
       "1177  1.3.6.1.4.1.14519.5.2.1.6279.6001.299767339686...    11.801797   \n",
       "1178  1.3.6.1.4.1.14519.5.2.1.6279.6001.299767339686...     4.087102   \n",
       "1179  1.3.6.1.4.1.14519.5.2.1.6279.6001.299767339686...     6.326436   \n",
       "1180  1.3.6.1.4.1.14519.5.2.1.6279.6001.297433269262...    10.759349   \n",
       "1181  1.3.6.1.4.1.14519.5.2.1.6279.6001.309955999522...     9.008402   \n",
       "\n",
       "      is_nodule  is_annotated  is_malignant     coord_x     coord_y  \\\n",
       "0          True          True          True -128.699421 -175.319272   \n",
       "1          True          True         False  -69.175741  218.052625   \n",
       "2          True          True          True  -67.459503 -247.744211   \n",
       "3          True          True         False  -97.690876 -134.068054   \n",
       "4          True          True         False   69.529141   87.036153   \n",
       "...         ...           ...           ...         ...         ...   \n",
       "1177       True          True         False  -57.725518   73.779494   \n",
       "1178       True          True         False  -72.287990  -77.481968   \n",
       "1179       True          True         False   96.625954  -46.154823   \n",
       "1180       True          True         False   33.104795  -63.116434   \n",
       "1181       True          True         False  -96.744406   37.573945   \n",
       "\n",
       "         coord_z  \n",
       "0    -298.387506  \n",
       "1    -668.501273  \n",
       "2    -211.095340  \n",
       "3    -187.094883  \n",
       "4    -149.190113  \n",
       "...          ...  \n",
       "1177 -147.415580  \n",
       "1178 -160.486254  \n",
       "1179  -88.229432  \n",
       "1180 -108.725571  \n",
       "1181 -138.160430  \n",
       "\n",
       "[1182 rows x 8 columns]"
      ]
     },
     "execution_count": 46,
     "metadata": {},
     "output_type": "execute_result"
    }
   ],
   "source": [
    "annotations_malignancy[\"is_nodule\"] = True\n",
    "annotations_malignancy[\"is_annotated\"] = True\n",
    "nodule_annotations_malignancy = annotations_malignancy[\n",
    "    [\n",
    "        \"seriesuid\",\n",
    "        \"diameter_mm\",\n",
    "        \"is_nodule\",\n",
    "        \"is_annotated\",\n",
    "        \"is_malignant\",\n",
    "        \"coord_x\",\n",
    "        \"coord_y\",\n",
    "        \"coord_z\",\n",
    "    ]\n",
    "]\n",
    "nodule_annotations_malignancy"
   ]
  },
  {
   "cell_type": "code",
   "execution_count": 47,
   "metadata": {},
   "outputs": [
    {
     "name": "stdout",
     "output_type": "stream",
     "text": [
      "<class 'pandas.core.frame.DataFrame'>\n",
      "Index: 756157 entries, 0 to 1181\n",
      "Data columns (total 8 columns):\n",
      " #   Column        Non-Null Count   Dtype  \n",
      "---  ------        --------------   -----  \n",
      " 0   seriesuid     756157 non-null  object \n",
      " 1   diameter_mm   756157 non-null  float64\n",
      " 2   is_nodule     756157 non-null  bool   \n",
      " 3   is_annotated  756157 non-null  bool   \n",
      " 4   is_malignant  756157 non-null  bool   \n",
      " 5   coord_x       756157 non-null  float64\n",
      " 6   coord_y       756157 non-null  float64\n",
      " 7   coord_z       756157 non-null  float64\n",
      "dtypes: bool(3), float64(4), object(1)\n",
      "memory usage: 36.8+ MB\n"
     ]
    }
   ],
   "source": [
    "complete_candidates = pd.concat([not_nodule_candidates, nodule_annotations_malignancy])\n",
    "complete_candidates.info()"
   ]
  },
  {
   "cell_type": "code",
   "execution_count": 48,
   "metadata": {},
   "outputs": [
    {
     "data": {
      "text/plain": [
       "is_nodule\n",
       "False        754975\n",
       "True           1182\n",
       "Name: count, dtype: int64"
      ]
     },
     "execution_count": 48,
     "metadata": {},
     "output_type": "execute_result"
    }
   ],
   "source": [
    "complete_candidates.value_counts([\"is_nodule\"])"
   ]
  },
  {
   "cell_type": "code",
   "execution_count": 49,
   "metadata": {},
   "outputs": [
    {
     "data": {
      "text/plain": [
       "is_annotated\n",
       "False           754975\n",
       "True              1182\n",
       "Name: count, dtype: int64"
      ]
     },
     "execution_count": 49,
     "metadata": {},
     "output_type": "execute_result"
    }
   ],
   "source": [
    "complete_candidates.value_counts([\"is_annotated\"])"
   ]
  },
  {
   "cell_type": "code",
   "execution_count": 50,
   "metadata": {},
   "outputs": [
    {
     "data": {
      "text/plain": [
       "is_malignant\n",
       "False           755779\n",
       "True               378\n",
       "Name: count, dtype: int64"
      ]
     },
     "execution_count": 50,
     "metadata": {},
     "output_type": "execute_result"
    }
   ],
   "source": [
    "complete_candidates.value_counts([\"is_malignant\"])"
   ]
  },
  {
   "cell_type": "code",
   "execution_count": 51,
   "metadata": {},
   "outputs": [
    {
     "data": {
      "text/plain": [
       "count    756157.000000\n",
       "mean          0.012966\n",
       "std           0.377756\n",
       "min           0.000000\n",
       "25%           0.000000\n",
       "50%           0.000000\n",
       "75%           0.000000\n",
       "max          32.270030\n",
       "Name: diameter_mm, dtype: float64"
      ]
     },
     "execution_count": 51,
     "metadata": {},
     "output_type": "execute_result"
    }
   ],
   "source": [
    "diameter_col = complete_candidates[\"diameter_mm\"]\n",
    "diameter_col.describe()"
   ]
  },
  {
   "cell_type": "code",
   "execution_count": 52,
   "metadata": {},
   "outputs": [
    {
     "name": "stdout",
     "output_type": "stream",
     "text": [
      "For 756157 number of complete candidates, the average number of rows with same seriesuid is 851.53.\n"
     ]
    },
    {
     "data": {
      "text/plain": [
       "seriesuid\n",
       "1.3.6.1.4.1.14519.5.2.1.6279.6001.652347820272212119124022644822    2067\n",
       "1.3.6.1.4.1.14519.5.2.1.6279.6001.167237290696350215427953159586    1975\n",
       "1.3.6.1.4.1.14519.5.2.1.6279.6001.168737928729363683423228050295    1829\n",
       "1.3.6.1.4.1.14519.5.2.1.6279.6001.241083615484551649610616348856    1724\n",
       "1.3.6.1.4.1.14519.5.2.1.6279.6001.200725988589959521302320481687    1715\n",
       "                                                                    ... \n",
       "1.3.6.1.4.1.14519.5.2.1.6279.6001.219349715895470349269596532320     216\n",
       "1.3.6.1.4.1.14519.5.2.1.6279.6001.153536305742006952753134773630     212\n",
       "1.3.6.1.4.1.14519.5.2.1.6279.6001.333319057944372470283038483725     208\n",
       "1.3.6.1.4.1.14519.5.2.1.6279.6001.608029415915051219877530734559     185\n",
       "1.3.6.1.4.1.14519.5.2.1.6279.6001.397202838387416555106806022938      66\n",
       "Name: count, Length: 888, dtype: int64"
      ]
     },
     "execution_count": 52,
     "metadata": {},
     "output_type": "execute_result"
    }
   ],
   "source": [
    "series_uid_values_count = complete_candidates.value_counts(\"seriesuid\")\n",
    "n_same_seriesuid_mean_for_complete_candidates = series_uid_values_count.mean()\n",
    "print(\n",
    "    f\"For {len(complete_candidates)} number of complete candidates, the average number \"\n",
    "    f\"of rows with same seriesuid is {n_same_seriesuid_mean_for_complete_candidates:.2f}.\"\n",
    ")\n",
    "series_uid_values_count"
   ]
  },
  {
   "cell_type": "code",
   "execution_count": 55,
   "metadata": {},
   "outputs": [],
   "source": [
    "complete_candidates_path = settings.DATA_DIR / \"complete_candidates.csv\"\n",
    "complete_candidates.to_csv(complete_candidates_path, index=False)"
   ]
  }
 ],
 "metadata": {
  "kernelspec": {
   "display_name": ".venv",
   "language": "python",
   "name": "python3"
  },
  "language_info": {
   "codemirror_mode": {
    "name": "ipython",
    "version": 3
   },
   "file_extension": ".py",
   "mimetype": "text/x-python",
   "name": "python",
   "nbconvert_exporter": "python",
   "pygments_lexer": "ipython3",
   "version": "3.12.6"
  }
 },
 "nbformat": 4,
 "nbformat_minor": 2
}
