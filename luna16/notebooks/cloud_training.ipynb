{
 "cells": [
  {
   "cell_type": "markdown",
   "metadata": {},
   "source": [
    "# Training a Classifier on RunPod\n",
    "\n",
    "This notebook demonstrates how to train a simple classifier on [runpod.io](https://www.runpod.io/console/deploy) cloud platform.\n",
    "\n",
    "For this training, we will use the whole dataset LuNA dataset. Compressed, it is about TODO GB. Uncompressed, it is about TODO GB. The cutouts cache is about TODO GB."
   ]
  },
  {
   "cell_type": "markdown",
   "metadata": {},
   "source": [
    "## RunPod Instructions\n",
    "\n",
    "I have created a bunch of scripts to set-up the environment and train the model.\n",
    "\n",
    "### Set-up the Environment\n",
    "\n",
    "Script `scripts/run-pod-setup.sh` sets up the environment. \n",
    "\n",
    "It takes care of:\n",
    "\n",
    "- Downloading and installing the `uv` package manager.\n",
    "- Synchronizing `uv` with the specified CUDA version (`cu124`).\n",
    "- Configuring global Git settings (user email and name).\n",
    "- Updating the package list and installing essential packages such as `unzip`, `screen`, `nvtop`, and `htop`.\n",
    "- Creating and updating configuration files by copying `.env.example` to `.env` and `.env.tune.example` to `.env.tune`, then appending necessary environment variables for worker count, cache directory, data directory, and logging frequency.\n",
    "\n",
    "```bash\n",
    "bash scripts/run-pod-setup.sh\n",
    "```\n",
    "\n",
    "### Download the Data\n",
    "\n",
    "Script `scripts/download-files.sh` downloads the data and unzips them.\n",
    "\n",
    "```bash\n",
    "bash scripts/download-files.sh\n",
    "```\n",
    "\n",
    "### Train the Model\n",
    "\n",
    "Script `scripts/run-pod-train.sh` trains the model.\n",
    "\n",
    "```bash\n",
    "bash scripts/run-pod-train.sh\n",
    "```\n"
   ]
  },
  {
   "cell_type": "markdown",
   "metadata": {},
   "source": [
    "# Training Parameters\n",
    "\n"
   ]
  },
  {
   "cell_type": "markdown",
   "metadata": {},
   "source": [
    "# Training Results"
   ]
  }
 ],
 "metadata": {
  "kernelspec": {
   "display_name": ".venv",
   "language": "python",
   "name": "python3"
  },
  "language_info": {
   "codemirror_mode": {
    "name": "ipython",
    "version": 3
   },
   "file_extension": ".py",
   "mimetype": "text/x-python",
   "name": "python",
   "nbconvert_exporter": "python",
   "pygments_lexer": "ipython3",
   "version": "3.12.8"
  }
 },
 "nbformat": 4,
 "nbformat_minor": 2
}
